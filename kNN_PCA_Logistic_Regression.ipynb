{
 "cells": [
  {
   "cell_type": "code",
   "execution_count": 2,
   "metadata": {
    "colab": {
     "base_uri": "https://localhost:8080/",
     "height": 55
    },
    "colab_type": "code",
    "id": "rFIHrHfSJZnL",
    "outputId": "90b342ef-d888-4163-a8bb-3e43e940d202"
   },
   "outputs": [
    {
     "name": "stdout",
     "output_type": "stream",
     "text": [
      "Drive already mounted at /content/drive; to attempt to forcibly remount, call drive.mount(\"/content/drive\", force_remount=True).\n"
     ]
    }
   ],
   "source": [
    "from google.colab import drive\n",
    "drive.mount('/content/drive')"
   ]
  },
  {
   "cell_type": "code",
   "execution_count": 3,
   "metadata": {
    "colab": {
     "base_uri": "https://localhost:8080/",
     "height": 116
    },
    "colab_type": "code",
    "id": "-RBQmfdjKdY6",
    "outputId": "ad23ea21-f630-495c-a76b-36a77d3dd00b"
   },
   "outputs": [
    {
     "name": "stderr",
     "output_type": "stream",
     "text": [
      "Using TensorFlow backend.\n"
     ]
    },
    {
     "data": {
      "text/html": [
       "<p style=\"color: red;\">\n",
       "The default version of TensorFlow in Colab will soon switch to TensorFlow 2.x.<br>\n",
       "We recommend you <a href=\"https://www.tensorflow.org/guide/migrate\" target=\"_blank\">upgrade</a> now \n",
       "or ensure your notebook will continue to use TensorFlow 1.x via the <code>%tensorflow_version 1.x</code> magic:\n",
       "<a href=\"https://colab.research.google.com/notebooks/tensorflow_version.ipynb\" target=\"_blank\">more info</a>.</p>\n"
      ],
      "text/plain": [
       "<IPython.core.display.HTML object>"
      ]
     },
     "metadata": {
      "tags": []
     },
     "output_type": "display_data"
    },
    {
     "name": "stdout",
     "output_type": "stream",
     "text": [
      "2.2.5\n"
     ]
    }
   ],
   "source": [
    "# Keras\n",
    "import keras\n",
    "from keras import metrics\n",
    "\n",
    "# File and Folder Management\n",
    "import os, shutil\n",
    "\n",
    "# Store history\n",
    "import json"
   ]
  },
  {
   "cell_type": "code",
   "execution_count": 0,
   "metadata": {
    "colab": {},
    "colab_type": "code",
    "id": "J2Tq0yuaKohz"
   },
   "outputs": [],
   "source": [
    "# Set directory\n",
    "sml_dir = \"/content/drive/My Drive/SML_Project\""
   ]
  },
  {
   "cell_type": "code",
   "execution_count": 4,
   "metadata": {
    "colab": {
     "base_uri": "https://localhost:8080/",
     "height": 35
    },
    "colab_type": "code",
    "id": "btlu7eRsKFDO",
    "outputId": "bd1f306b-1276-47c5-cd6a-3af817d7a43d"
   },
   "outputs": [
    {
     "name": "stdout",
     "output_type": "stream",
     "text": [
      "/content\n"
     ]
    }
   ],
   "source": [
    "!pwd\n",
    "os.chdir(sml_dir)"
   ]
  },
  {
   "cell_type": "code",
   "execution_count": 5,
   "metadata": {
    "colab": {
     "base_uri": "https://localhost:8080/",
     "height": 35
    },
    "colab_type": "code",
    "id": "-tzbUvzBLuRS",
    "outputId": "3bac1240-8811-488d-efd4-9876d86aafa5"
   },
   "outputs": [
    {
     "name": "stdout",
     "output_type": "stream",
     "text": [
      "/content\n"
     ]
    }
   ],
   "source": [
    "!pwd"
   ]
  },
  {
   "cell_type": "code",
   "execution_count": 0,
   "metadata": {
    "colab": {},
    "colab_type": "code",
    "id": "AiqU-AZyML_s"
   },
   "outputs": [],
   "source": [
    "import matplotlib.pyplot as plt\n",
    "import pandas as pd\n",
    "import numpy as np\n",
    "import math\n",
    "from sklearn.neighbors import KNeighborsClassifier\n",
    "from sklearn.model_selection import train_test_split\n",
    "from imutils import paths\n",
    "import argparse\n",
    "import imutils\n",
    "import cv2\n",
    "import os\n",
    "import gc\n",
    "import random\n",
    "from sklearn.decomposition import PCA\n",
    "from sklearn import model_selection\n",
    "import pickle\n",
    "from datetime import datetime\n",
    "from sklearn.linear_model import LogisticRegression\n",
    "from sklearn.metrics import accuracy_score \n",
    "from sklearn.metrics import roc_curve, auc\n",
    "from sklearn.preprocessing import StandardScaler\n",
    "from datetime import datetime"
   ]
  },
  {
   "cell_type": "markdown",
   "metadata": {
    "colab_type": "text",
    "id": "4rNRa4DbW_Fg"
   },
   "source": [
    "PCA + Logistic Regression"
   ]
  },
  {
   "cell_type": "code",
   "execution_count": 0,
   "metadata": {
    "colab": {},
    "colab_type": "code",
    "id": "b3yJRMyeMMIS"
   },
   "outputs": [],
   "source": [
    "main_data_folder = '/content/drive/My Drive/SML_Project/binary_data_4'\n",
    "root_folder='/content/drive/My Drive/SML_Project/binary_data_4'"
   ]
  },
  {
   "cell_type": "code",
   "execution_count": 0,
   "metadata": {
    "colab": {},
    "colab_type": "code",
    "id": "dUobMfz9MMLa"
   },
   "outputs": [],
   "source": [
    "def image_to_feature_vector(image, size=(500, 500)):\n",
    "    # resize the image to a fixed size, then flatten the image into a list of raw pixel intensities\n",
    "    return cv2.resize(image, size).flatten()\n",
    "\n",
    "# create the list of images in the form of vector\n",
    "def create_list(root_folder):\n",
    "    # initialize the raw pixel intensities matrix, and labels list\n",
    "    rawImages = []\n",
    "    labels = []\n",
    "    for subfolder in next(os.walk(root_folder))[1]:\n",
    "        folder_path=root_folder+'/'+subfolder\n",
    "        imagePaths = list(paths.list_images(folder_path))\n",
    "        label=int(subfolder.split('_')[1])\n",
    "        for (i, imagePath) in enumerate(imagePaths):\n",
    "            # load the image\n",
    "            image = cv2.imread(imagePath)\n",
    "            #label = df[df['image']==imagePaths[i].split('\\\\')[1].split('.')[0]]['level'].values[0]\n",
    "            # extract raw pixel intensity features\n",
    "            pixels = image_to_feature_vector(image)\n",
    "            rawImages.append(pixels)\n",
    "            labels.append(label)\n",
    "    return rawImages,labels\n"
   ]
  },
  {
   "cell_type": "code",
   "execution_count": 0,
   "metadata": {
    "colab": {},
    "colab_type": "code",
    "id": "1j1OUm2JMMOF"
   },
   "outputs": [],
   "source": [
    "#train data\n",
    "trainRI,trainLabels=create_list(root_folder + '/train')"
   ]
  },
  {
   "cell_type": "code",
   "execution_count": 0,
   "metadata": {
    "colab": {},
    "colab_type": "code",
    "id": "j1wm-dYVbtRP"
   },
   "outputs": [],
   "source": [
    "#validatioin data\n",
    "valRI,valLabels=create_list(root_folder + '/val')"
   ]
  },
  {
   "cell_type": "code",
   "execution_count": 0,
   "metadata": {
    "colab": {},
    "colab_type": "code",
    "id": "YRp_zm1Cx4Me"
   },
   "outputs": [],
   "source": [
    "#test data\n",
    "testRI,testLabels=create_list(root_folder + '/test')"
   ]
  },
  {
   "cell_type": "code",
   "execution_count": 0,
   "metadata": {
    "colab": {},
    "colab_type": "code",
    "id": "dxSmnCblMMQj"
   },
   "outputs": [],
   "source": [
    "import pickle as pk\n",
    "pk.dump(pca_train, open(\"pca.pkl\",\"wb\"))"
   ]
  },
  {
   "cell_type": "code",
   "execution_count": 0,
   "metadata": {
    "colab": {},
    "colab_type": "code",
    "id": "ySRM5nAoPFEE"
   },
   "outputs": [],
   "source": [
    "#train and transform pca\n",
    "pca_train = PCA(n_components=100)\n",
    "pca_train_result = pca_train.fit_transform(X=trainRI)"
   ]
  },
  {
   "cell_type": "code",
   "execution_count": 0,
   "metadata": {
    "colab": {},
    "colab_type": "code",
    "id": "HayYHpH207Gl"
   },
   "outputs": [],
   "source": [
    "pca_val_result = pca_train.fit_transform(X=valRI)"
   ]
  },
  {
   "cell_type": "code",
   "execution_count": 0,
   "metadata": {
    "colab": {},
    "colab_type": "code",
    "id": "YpzzjpycOZl6"
   },
   "outputs": [],
   "source": [
    "pca_test_result = pca_train.fit_transform(X=testRI)"
   ]
  },
  {
   "cell_type": "code",
   "execution_count": 0,
   "metadata": {
    "colab": {},
    "colab_type": "code",
    "id": "3cF6WApHMMYA"
   },
   "outputs": [],
   "source": [
    "model_logistic = LogisticRegression(n_jobs=8, verbose = 1, random_state=0, solver ='sag')# solver = 'lbfgs'\n",
    "model_logistic.fit(pca_train_result, trainLabels)\n",
    "\n",
    "print('Training Results:')\n",
    "predicted = model_logistic.predict(pca_train_result)\n",
    "print('Accuracy: ',accuracy_score(trainLabels, predicted))\n",
    "\n",
    "print('Validation Results:')\n",
    "predicted = model_logistic.predict(pca_val_result)\n",
    "print('Accuracy: ',accuracy_score(valLabels, predicted))\n",
    "\n",
    "print('Testing Results:')\n",
    "predicted = model_logistic.predict(pca_test_result)\n",
    "print('Accuracy: ',accuracy_score(testLabels, predicted))\n"
   ]
  },
  {
   "cell_type": "code",
   "execution_count": 0,
   "metadata": {
    "colab": {},
    "colab_type": "code",
    "id": "qWxqjsYbMMc5"
   },
   "outputs": [],
   "source": [
    "#ROC curve\n",
    "y_logistic2_score = model_logistic.predict_proba(pca_test_result)\n",
    "false_positive_rate_log2, true_positive_rate_log2, _=roc_curve(pd.Series(testLabels), y_logistic2_score[:,1])\n",
    "roc_auc_log2 = auc(false_positive_rate_log2, true_positive_rate_log2)"
   ]
  },
  {
   "cell_type": "code",
   "execution_count": 0,
   "metadata": {
    "colab": {},
    "colab_type": "code",
    "id": "8NuyGM9s1ZcJ"
   },
   "outputs": [],
   "source": []
  },
  {
   "cell_type": "code",
   "execution_count": 0,
   "metadata": {
    "colab": {},
    "colab_type": "code",
    "id": "kvsoTy6lpdmq"
   },
   "outputs": [],
   "source": [
    "#plt.figure()\n",
    "plt.plot(false_positive_rate_log2, true_positive_rate_log2, color='orange',\n",
    "         lw=2, label='Logistic Regression ROC curve (area = %0.2f)' % roc_auc_log2)\n",
    "plt.plot([0, 1], [0, 1], color='navy', lw=2, linestyle='--')\n",
    "plt.xlabel('False Positive Rate')\n",
    "plt.ylabel('True Positive Rate')\n",
    "plt.title('ROC curve - Logistic Regression')\n",
    "plt.legend(bbox_to_anchor=(1.05, 1), loc='upper left', borderaxespad=0.)\n",
    "plt.show()"
   ]
  },
  {
   "cell_type": "code",
   "execution_count": 0,
   "metadata": {
    "colab": {},
    "colab_type": "code",
    "id": "8eO1sCUQMMiA"
   },
   "outputs": [],
   "source": [
    "def calculate_binary_accuracy(prediction, actual):\n",
    "  true_positive = 0\n",
    "  true_negative = 0\n",
    "  false_positive = 0\n",
    "  false_negative = 0\n",
    "  for pred, act in zip(prediction, actual):\n",
    "    if pred >= .5 and act == 1:\n",
    "      true_positive += 1\n",
    "    elif pred < .5 and act == 1:\n",
    "      false_negative += 1\n",
    "    elif pred < .5 and act == 0:\n",
    "      true_negative += 1\n",
    "    elif pred >= .5 and act == 0:\n",
    "      false_positive += 1\n",
    "    else:\n",
    "      print('Some error', pred, act)\n",
    "  total = true_positive + true_negative + false_positive + false_negative\n",
    "  print('Total processes images are', total)\n",
    "  print(true_positive, true_negative, false_positive, false_negative)\n",
    "  print('Accuracy is ', (true_positive + true_negative) / total)\n",
    "  print('Accuracy for class 1 images', true_positive / (true_positive + false_negative))\n",
    "  print('Accuracy for class 0 images', true_negative / (false_positive + true_negative))\n",
    "  print('Predicts class 1 a percentage of', (true_positive + false_positive) / total)\n",
    "  print('Predicts class 0 a percentage of', (true_negative + false_negative) / total)\n",
    "  # Precision of class 1\n",
    "  print('Precision of class 1', true_positive / (true_positive + false_positive))\n",
    "  # Recall of class 1\n",
    "  print('Recall of class 1', true_positive / (true_positive + false_negative))\n",
    "calculate_binary_accuracy(predicted.astype(int),testLabels)"
   ]
  },
  {
   "cell_type": "code",
   "execution_count": 0,
   "metadata": {
    "colab": {},
    "colab_type": "code",
    "id": "LTgAyxnznV8W"
   },
   "outputs": [],
   "source": []
  },
  {
   "cell_type": "markdown",
   "metadata": {
    "colab_type": "text",
    "id": "uhW-X4nqW57U"
   },
   "source": [
    "KNN"
   ]
  },
  {
   "cell_type": "code",
   "execution_count": 0,
   "metadata": {
    "colab": {},
    "colab_type": "code",
    "id": "5HoQs2j1MMkn"
   },
   "outputs": [],
   "source": [
    "import matplotlib.pyplot as plt\n",
    "import pandas as pd\n",
    "import numpy as np\n",
    "import math\n",
    "from sklearn.neighbors import KNeighborsClassifier\n",
    "from sklearn.model_selection import train_test_split\n",
    "from imutils import paths\n",
    "import argparse\n",
    "import imutils\n",
    "import cv2\n",
    "import os"
   ]
  },
  {
   "cell_type": "code",
   "execution_count": 19,
   "metadata": {
    "colab": {
     "base_uri": "https://localhost:8080/",
     "height": 203
    },
    "colab_type": "code",
    "id": "D4XxNRfDMMpM",
    "outputId": "6bc28a22-0b4b-4eff-804c-9f7869e3fef1"
   },
   "outputs": [
    {
     "data": {
      "text/html": [
       "<div>\n",
       "<style scoped>\n",
       "    .dataframe tbody tr th:only-of-type {\n",
       "        vertical-align: middle;\n",
       "    }\n",
       "\n",
       "    .dataframe tbody tr th {\n",
       "        vertical-align: top;\n",
       "    }\n",
       "\n",
       "    .dataframe thead th {\n",
       "        text-align: right;\n",
       "    }\n",
       "</style>\n",
       "<table border=\"1\" class=\"dataframe\">\n",
       "  <thead>\n",
       "    <tr style=\"text-align: right;\">\n",
       "      <th></th>\n",
       "      <th>image</th>\n",
       "      <th>level</th>\n",
       "    </tr>\n",
       "  </thead>\n",
       "  <tbody>\n",
       "    <tr>\n",
       "      <th>0</th>\n",
       "      <td>10_left</td>\n",
       "      <td>0</td>\n",
       "    </tr>\n",
       "    <tr>\n",
       "      <th>1</th>\n",
       "      <td>10_right</td>\n",
       "      <td>0</td>\n",
       "    </tr>\n",
       "    <tr>\n",
       "      <th>2</th>\n",
       "      <td>13_left</td>\n",
       "      <td>0</td>\n",
       "    </tr>\n",
       "    <tr>\n",
       "      <th>3</th>\n",
       "      <td>13_right</td>\n",
       "      <td>0</td>\n",
       "    </tr>\n",
       "    <tr>\n",
       "      <th>4</th>\n",
       "      <td>15_left</td>\n",
       "      <td>1</td>\n",
       "    </tr>\n",
       "  </tbody>\n",
       "</table>\n",
       "</div>"
      ],
      "text/plain": [
       "      image  level\n",
       "0   10_left      0\n",
       "1  10_right      0\n",
       "2   13_left      0\n",
       "3  13_right      0\n",
       "4   15_left      1"
      ]
     },
     "execution_count": 19,
     "metadata": {
      "tags": []
     },
     "output_type": "execute_result"
    }
   ],
   "source": [
    "df = pd.read_csv('/content/drive/My Drive/SML_Project/trainLabels.csv',index_col=False)\n",
    "df.head()"
   ]
  },
  {
   "cell_type": "code",
   "execution_count": 20,
   "metadata": {
    "colab": {
     "base_uri": "https://localhost:8080/",
     "height": 233
    },
    "colab_type": "code",
    "id": "ASRKuncYMMsD",
    "outputId": "1516a92c-9158-45dc-847b-d48d7f871a86"
   },
   "outputs": [
    {
     "data": {
      "text/html": [
       "<div>\n",
       "<style scoped>\n",
       "    .dataframe tbody tr th:only-of-type {\n",
       "        vertical-align: middle;\n",
       "    }\n",
       "\n",
       "    .dataframe tbody tr th {\n",
       "        vertical-align: top;\n",
       "    }\n",
       "\n",
       "    .dataframe thead th {\n",
       "        text-align: right;\n",
       "    }\n",
       "</style>\n",
       "<table border=\"1\" class=\"dataframe\">\n",
       "  <thead>\n",
       "    <tr style=\"text-align: right;\">\n",
       "      <th></th>\n",
       "      <th>image</th>\n",
       "    </tr>\n",
       "    <tr>\n",
       "      <th>level</th>\n",
       "      <th></th>\n",
       "    </tr>\n",
       "  </thead>\n",
       "  <tbody>\n",
       "    <tr>\n",
       "      <th>0</th>\n",
       "      <td>25810</td>\n",
       "    </tr>\n",
       "    <tr>\n",
       "      <th>1</th>\n",
       "      <td>2443</td>\n",
       "    </tr>\n",
       "    <tr>\n",
       "      <th>2</th>\n",
       "      <td>5292</td>\n",
       "    </tr>\n",
       "    <tr>\n",
       "      <th>3</th>\n",
       "      <td>873</td>\n",
       "    </tr>\n",
       "    <tr>\n",
       "      <th>4</th>\n",
       "      <td>708</td>\n",
       "    </tr>\n",
       "  </tbody>\n",
       "</table>\n",
       "</div>"
      ],
      "text/plain": [
       "       image\n",
       "level       \n",
       "0      25810\n",
       "1       2443\n",
       "2       5292\n",
       "3        873\n",
       "4        708"
      ]
     },
     "execution_count": 20,
     "metadata": {
      "tags": []
     },
     "output_type": "execute_result"
    }
   ],
   "source": [
    "df.groupby('level').count()"
   ]
  },
  {
   "cell_type": "code",
   "execution_count": 0,
   "metadata": {
    "colab": {},
    "colab_type": "code",
    "id": "U0XZgmoWMMxA"
   },
   "outputs": [],
   "source": [
    "def image_to_feature_vector(image, size=(300, 300)):\n",
    "    # resize the image to a fixed size, then flatten the image into a list of raw pixel intensities\n",
    "    return cv2.resize(image, size).flatten()\n",
    "def extract_color_histogram(image, bins=(8, 8, 8)):\n",
    "    # #D histogram\n",
    "    hsv = cv2.cvtColor(image, cv2.COLOR_BGR2HSV)\n",
    "    hist = cv2.calcHist([hsv], [0, 1, 2], None, bins,[0, 180, 0, 256, 0, 256])\n",
    "    if imutils.is_cv2():\n",
    "        hist = cv2.normalize(hist)\n",
    "    else:\n",
    "        cv2.normalize(hist, hist)\n",
    "        # return the flattened histogram as the feature vector\n",
    "    return hist.flatten()"
   ]
  },
  {
   "cell_type": "code",
   "execution_count": 0,
   "metadata": {
    "colab": {},
    "colab_type": "code",
    "id": "pBgBpxDaMMzy"
   },
   "outputs": [],
   "source": [
    "# grab the list of images that we'll be describing\n",
    "imagePaths = list(paths.list_images('/content/drive/My Drive/SML_Project/data_566'))\n",
    "# and labels list\n",
    "rawImages = []\n",
    "features = []\n",
    "labels = []\n",
    "# loop over the input images\n",
    "for (i, imagePath) in enumerate(imagePaths):\n",
    "    # load the image and extract the class label (assuming that our\n",
    "    # path as the format: /path/to/dataset/{class}.{image_num}.jpg\n",
    "    image = cv2.imread(imagePath)\n",
    "    label = df[df['image']==imagePaths[i].split('\\\\')[1].split('.')[0]]['level'].values[0]\n",
    "    # extract raw pixel intensity \"features\", followed by a color histogram\n",
    "    pixels = image_to_feature_vector(image)\n",
    "    hist = extract_color_histogram(image)\n",
    "    rawImages.append(pixels)\n",
    "    features.append(hist)\n",
    "    labels.append(label)"
   ]
  },
  {
   "cell_type": "code",
   "execution_count": 0,
   "metadata": {
    "colab": {},
    "colab_type": "code",
    "id": "qxo-HIEhMM4e"
   },
   "outputs": [],
   "source": [
    "# partition the data into training and testing splits, using 75% for training and the remaining 25% for testing\n",
    "(trainRI, testRI, trainRL, testRL) = train_test_split(rawImages, labels, test_size=0.25, random_state=42)\n",
    "(trainFeat, testFeat, trainLabels, testLabels) = train_test_split(features, labels, test_size=0.25, random_state=42)\n"
   ]
  },
  {
   "cell_type": "code",
   "execution_count": 0,
   "metadata": {
    "colab": {},
    "colab_type": "code",
    "id": "6gWjN_EDMM2o"
   },
   "outputs": [],
   "source": [
    "# train and evaluate a k-NN classifer on the raw pixel intensities\n",
    "model = KNeighborsClassifier(n_neighbors=5,n_jobs=4)\n",
    "model.fit(trainRI, trainRL)\n",
    "acc = model.score(testRI, testRL)\n",
    "print(\"raw pixel accuracy: {:.2f}%\".format(acc * 100))\n"
   ]
  },
  {
   "cell_type": "code",
   "execution_count": 0,
   "metadata": {
    "colab": {},
    "colab_type": "code",
    "id": "aqpdTT8bMMvU"
   },
   "outputs": [],
   "source": [
    "# train and evaluate a k-NN classifer on the histogram representations\n",
    "model = KNeighborsClassifier(n_neighbors=5,n_jobs=4)\n",
    "model.fit(trainFeat, trainLabels)\n",
    "acc = model.score(testFeat, testLabels)\n",
    "print(\"histogram accuracy: {:.2f}%\".format(acc * 100))"
   ]
  }
 ],
 "metadata": {
  "colab": {
   "collapsed_sections": [],
   "machine_shape": "hm",
   "name": "Copy of Welcome To Colaboratory",
   "provenance": [],
   "toc_visible": true
  },
  "kernelspec": {
   "display_name": "Python 3",
   "language": "python",
   "name": "python3"
  },
  "language_info": {
   "codemirror_mode": {
    "name": "ipython",
    "version": 3
   },
   "file_extension": ".py",
   "mimetype": "text/x-python",
   "name": "python",
   "nbconvert_exporter": "python",
   "pygments_lexer": "ipython3",
   "version": "3.7.3"
  }
 },
 "nbformat": 4,
 "nbformat_minor": 1
}
