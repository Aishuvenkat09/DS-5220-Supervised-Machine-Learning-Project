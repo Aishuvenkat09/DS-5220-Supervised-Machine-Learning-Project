{
 "cells": [
  {
   "cell_type": "markdown",
   "metadata": {
    "colab_type": "text",
    "id": "UdNksH15FbXb"
   },
   "source": [
    "# Diabetic Retinopathy Classification\n",
    "## Input:\n",
    "##### 1) Set up connection of Google Colab to Google Drive\n",
    "##### 2) Set up use of GPU for processing\n",
    "##### 3) Set up directoy paths in the 'directory' object\n",
    "##### 4) Step of move JPEG into automatically created directories must be done manually. Currently it is done by uploading all files in distinct folders which correspond to each class for training, and folders for validation\n",
    "\n",
    "## Output:\n",
    "##### 1) Trained Cross Entrophy Loss CNN model. Model on 15th epoch is saved.\n",
    "##### 2) JSON file with Accuracy and Cross Entrophy Loss based on Training and Validation Set across 15 epochs\n",
    "\n",
    "## Process Overview:\n",
    "##### 566 Color JPEG images of 500 by 500 pixels for each disease class of 0, 1, 2, 3, and 4 is used to train a CNN model with cross entrophy loss. 566 images were used because the class with the smallest count was 566 from using all training zip files. The model was trained for 30 minutes, when 20 minutes is sufficient for highest validation set accuracy. A validation set of 144 images of each class is used. In this model the validation set is just used to give information on which epoch to use the model for, but the validation data does not train the model.\n",
    "\n",
    "## Results:\n",
    "##### Model has a validation set accuracy between 27% and 30% accuracy. Random quessing results in an accuracy of 20%. Close to state of the art models on Kaggle have an accuracy of between 60-75%. https://www.kaggle.com/c/diabetic-retinopathy-detection/notebooks"
   ]
  },
  {
   "cell_type": "markdown",
   "metadata": {
    "colab_type": "text",
    "id": "FCaKj8eRGGBK"
   },
   "source": [
    "# Setup"
   ]
  },
  {
   "cell_type": "code",
   "execution_count": 1,
   "metadata": {
    "colab": {
     "base_uri": "https://localhost:8080/",
     "height": 97
    },
    "colab_type": "code",
    "id": "dXW43PpVFYxv",
    "outputId": "9034a0a6-fcf7-4d0b-f81c-e3d2e8bc3a48"
   },
   "outputs": [
    {
     "name": "stderr",
     "output_type": "stream",
     "text": [
      "Using TensorFlow backend.\n"
     ]
    },
    {
     "name": "stdout",
     "output_type": "stream",
     "text": [
      "2.2.4\n"
     ]
    }
   ],
   "source": [
    "# Keras\n",
    "import keras\n",
    "print(keras.__version__)\n",
    "from keras import metrics\n",
    "\n",
    "# File and Folder Management\n",
    "import os, shutil\n",
    "\n",
    "# Store history\n",
    "import json"
   ]
  },
  {
   "cell_type": "markdown",
   "metadata": {
    "colab_type": "text",
    "id": "I0YMD2iOO2cZ"
   },
   "source": [
    "\n",
    "\n",
    "\n",
    "\n",
    "This notebook contains the code sample found in Chapter 5, Section 2 of [Deep Learning with Python](https://www.manning.com/books/deep-learning-with-python?a_aid=keras&a_bid=76564dff)"
   ]
  },
  {
   "cell_type": "code",
   "execution_count": 0,
   "metadata": {
    "colab": {},
    "colab_type": "code",
    "id": "x0Z0QQzMO64j"
   },
   "outputs": [],
   "source": [
    "# Example of how to unzip files directly on google drive\n",
    "# unzipped directly on gdrive. !unzip -qq dogs-vs-cats.zip, followed up by !unzip -qq train.zip and !unzip -qq test1.zip"
   ]
  },
  {
   "cell_type": "code",
   "execution_count": 0,
   "metadata": {
    "colab": {},
    "colab_type": "code",
    "id": "ACbTRQkiYDgq"
   },
   "outputs": [],
   "source": []
  },
  {
   "cell_type": "code",
   "execution_count": 2,
   "metadata": {
    "colab": {
     "base_uri": "https://localhost:8080/",
     "height": 34
    },
    "colab_type": "code",
    "id": "uHp5LaKdPkY8",
    "outputId": "943db7fe-4e65-495e-9d4f-4bc8b5cb447e"
   },
   "outputs": [
    {
     "name": "stdout",
     "output_type": "stream",
     "text": [
      "/content\n"
     ]
    }
   ],
   "source": [
    "!pwd"
   ]
  },
  {
   "cell_type": "code",
   "execution_count": 3,
   "metadata": {
    "colab": {
     "base_uri": "https://localhost:8080/",
     "height": 34
    },
    "colab_type": "code",
    "id": "iyu1FBzxNtRJ",
    "outputId": "8102ffc4-31d7-4121-dd11-725e51f81c34"
   },
   "outputs": [
    {
     "name": "stdout",
     "output_type": "stream",
     "text": [
      "sample_data\n"
     ]
    }
   ],
   "source": [
    "!dir"
   ]
  },
  {
   "cell_type": "code",
   "execution_count": 25,
   "metadata": {
    "colab": {
     "base_uri": "https://localhost:8080/",
     "height": 122
    },
    "colab_type": "code",
    "id": "qiTsG-KfPt2U",
    "outputId": "449d284d-23de-4c0b-bb99-2768252375c2"
   },
   "outputs": [
    {
     "ename": "ModuleNotFoundError",
     "evalue": "No module named 'google.colab'",
     "output_type": "error",
     "traceback": [
      "\u001b[0;31m---------------------------------------------------------------------------\u001b[0m",
      "\u001b[0;31mModuleNotFoundError\u001b[0m                       Traceback (most recent call last)",
      "\u001b[0;32m<ipython-input-25-448185faaf70>\u001b[0m in \u001b[0;36m<module>\u001b[0;34m\u001b[0m\n\u001b[0;32m----> 1\u001b[0;31m \u001b[0;32mfrom\u001b[0m \u001b[0mgoogle\u001b[0m\u001b[0;34m.\u001b[0m\u001b[0mcolab\u001b[0m \u001b[0;32mimport\u001b[0m \u001b[0mdrive\u001b[0m\u001b[0;34m\u001b[0m\u001b[0;34m\u001b[0m\u001b[0m\n\u001b[0m\u001b[1;32m      2\u001b[0m \u001b[0mdrive\u001b[0m\u001b[0;34m.\u001b[0m\u001b[0mmount\u001b[0m\u001b[0;34m(\u001b[0m\u001b[0;34m'/content/drive'\u001b[0m\u001b[0;34m)\u001b[0m\u001b[0;34m\u001b[0m\u001b[0;34m\u001b[0m\u001b[0m\n\u001b[1;32m      3\u001b[0m \u001b[0;34m\u001b[0m\u001b[0m\n\u001b[1;32m      4\u001b[0m \u001b[0mtrain_action\u001b[0m \u001b[0;34m=\u001b[0m \u001b[0;32mTrue\u001b[0m\u001b[0;34m\u001b[0m\u001b[0;34m\u001b[0m\u001b[0m\n",
      "\u001b[0;31mModuleNotFoundError\u001b[0m: No module named 'google.colab'"
     ]
    }
   ],
   "source": [
    "from google.colab import drive\n",
    "drive.mount('/content/drive')\n"
   ]
  },
  {
   "cell_type": "code",
   "execution_count": 26,
   "metadata": {
    "colab": {},
    "colab_type": "code",
    "id": "AFB8Ac7zQyb_"
   },
   "outputs": [],
   "source": [
    "train_action = True\n",
    "\n",
    "# Set directory\n",
    "#aaron_dir = \"/content/drive/My Drive/Colab Notebooks/SML_Project\"\n",
    "aaron_dir = '../SML_Project_Data'\n",
    "\n",
    "directory = aaron_dir"
   ]
  },
  {
   "cell_type": "code",
   "execution_count": 6,
   "metadata": {
    "colab": {
     "base_uri": "https://localhost:8080/",
     "height": 136
    },
    "colab_type": "code",
    "id": "dCvg3RofbqxV",
    "outputId": "11b59855-7fd1-4983-900e-43b74c516cdd"
   },
   "outputs": [
    {
     "name": "stdout",
     "output_type": "stream",
     "text": [
      "/Users/aaronmoskowitz/Documents/Diabetic-Retinopathy-Detection\n",
      "\u001b[34mdata\u001b[m\u001b[m                train.zip.001       train.zip.005       \u001b[34mtrain_002\u001b[m\u001b[m\n",
      "data.zip            train.zip.002       trainLabels.csv     \u001b[34mtrain_003\u001b[m\u001b[m\n",
      "\u001b[34mdownsized_data\u001b[m\u001b[m      train.zip.003       trainLabels.csv.zip \u001b[34mtrain_004\u001b[m\u001b[m\n",
      "\u001b[34mtrain\u001b[m\u001b[m               train.zip.004       \u001b[34mtrain_001\u001b[m\u001b[m           \u001b[34mtrain_005\u001b[m\u001b[m\n"
     ]
    }
   ],
   "source": [
    "!pwd\n",
    "os.chdir(directory)\n",
    "!ls"
   ]
  },
  {
   "cell_type": "code",
   "execution_count": 0,
   "metadata": {
    "colab": {
     "base_uri": "https://localhost:8080/",
     "height": 119
    },
    "colab_type": "code",
    "id": "0r8ukaxHmx9O",
    "outputId": "c1dd5846-df82-495b-a284-5f3129d93b3b"
   },
   "outputs": [
    {
     "name": "stdout",
     "output_type": "stream",
     "text": [
      "Reading package lists... Done\n",
      "Building dependency tree       \n",
      "Reading state information... Done\n",
      "p7zip-full is already the newest version (16.02+dfsg-6).\n",
      "0 upgraded, 0 newly installed, 0 to remove and 35 not upgraded.\n",
      "/usr/bin/p7zip: data.zip: unknown suffix\n"
     ]
    }
   ],
   "source": [
    "#!apt-get install p7zip-full\n",
    "\n",
    "#!p7zip -d data.zip\n"
   ]
  },
  {
   "cell_type": "code",
   "execution_count": 7,
   "metadata": {
    "colab": {
     "base_uri": "https://localhost:8080/",
     "height": 221
    },
    "colab_type": "code",
    "id": "jAcAg1oGYTVE",
    "outputId": "89c6bab1-8d23-4c87-8bd9-96e84a02d895"
   },
   "outputs": [],
   "source": [
    "#!7za e data.zip"
   ]
  },
  {
   "cell_type": "code",
   "execution_count": 0,
   "metadata": {
    "colab": {},
    "colab_type": "code",
    "id": "z1qyKoIyuVZC"
   },
   "outputs": [],
   "source": [
    "#!pip install h5py\n",
    "\n",
    "#!pwd # just to see where you are, optional\n",
    "# !ls -lt # just to see what is in that directory, optional\n",
    "#!unzip -qq dogs-vs-cats.zip\n",
    "# etc."
   ]
  },
  {
   "cell_type": "code",
   "execution_count": 8,
   "metadata": {
    "colab": {
     "base_uri": "https://localhost:8080/",
     "height": 119
    },
    "colab_type": "code",
    "id": "fJ6lYil5QGwN",
    "outputId": "47d2a7b2-5a79-43af-86f7-5bd5d9f54f48"
   },
   "outputs": [],
   "source": [
    "#!unzip -qq data.zip"
   ]
  },
  {
   "cell_type": "code",
   "execution_count": 9,
   "metadata": {
    "colab": {},
    "colab_type": "code",
    "id": "_bWq4La-ff0v"
   },
   "outputs": [],
   "source": [
    "#!unzip -qq train.zip\n",
    "#!unzip -qq test1.zip"
   ]
  },
  {
   "cell_type": "markdown",
   "metadata": {
    "colab_type": "text",
    "id": "WQEwdbFmGJlz"
   },
   "source": [
    "# Create Directories"
   ]
  },
  {
   "cell_type": "code",
   "execution_count": 10,
   "metadata": {
    "colab": {
     "base_uri": "https://localhost:8080/",
     "height": 51
    },
    "colab_type": "code",
    "id": "DquqqA7kFgRt",
    "outputId": "3d51c138-749f-4942-ff61-0726881631a9"
   },
   "outputs": [
    {
     "name": "stdout",
     "output_type": "stream",
     "text": [
      "Folder Already Exists \n",
      "\n"
     ]
    }
   ],
   "source": [
    "# Directory of training data\n",
    "\n",
    "original_base_dir = directory\n",
    "\n",
    "\n",
    "base_dir = original_base_dir + \"/data\"\n",
    "\n",
    "try:\n",
    "    os.mkdir(base_dir)\n",
    "except FileExistsError:\n",
    "  print('Folder Already Exists \\n')\n",
    "else:\n",
    "  print('Creating Folder \\n')"
   ]
  },
  {
   "cell_type": "code",
   "execution_count": 11,
   "metadata": {
    "colab": {},
    "colab_type": "code",
    "id": "mZU6LIxuMtXC"
   },
   "outputs": [],
   "source": [
    "history_dir = directory + '/history'\n",
    "\n",
    "train_dir = os.path.join(directory, 'data', 'train')\n",
    "val_dir = os.path.join(directory, 'data', 'val')\n",
    "#test_dir = os.path.join(directory, 'data','test')\n",
    "\n",
    "train_0_dir = os.path.join(train_dir, 'resized_0')\n",
    "train_1_dir = os.path.join(train_dir, 'resized_1')\n",
    "train_2_dir = os.path.join(train_dir, 'resized_2')\n",
    "train_3_dir = os.path.join(train_dir, 'resized_3')\n",
    "train_4_dir = os.path.join(train_dir, 'resized_4')\n",
    "\n",
    "val_0_dir = os.path.join(val_dir, 'resized_0')\n",
    "val_1_dir = os.path.join(val_dir, 'resized_1')\n",
    "val_2_dir = os.path.join(val_dir, 'resized_2')\n",
    "val_3_dir = os.path.join(val_dir, 'resized_3')\n",
    "val_4_dir = os.path.join(val_dir, 'resized_4')\n",
    "\n",
    "#test_cats_dir = os.path.join(test_dir, 'cats')\n",
    "#test_dogs_dir = os.path.join(test_dir, 'dogs')\n",
    "\n",
    "def create_folder(path):\n",
    "  print('Looking to create folder of', path)\n",
    "  try:\n",
    "      os.mkdir(path)\n",
    "  except FileExistsError:\n",
    "    print('Folder Already Exists \\n')\n",
    "  else:\n",
    "    print('Creating Folder \\n')"
   ]
  },
  {
   "cell_type": "code",
   "execution_count": 12,
   "metadata": {
    "colab": {
     "base_uri": "https://localhost:8080/",
     "height": 68
    },
    "colab_type": "code",
    "id": "9fxV2eHOO2cb",
    "outputId": "b13bbbfb-3f78-47cc-cb5e-23e5ca9b0067"
   },
   "outputs": [
    {
     "name": "stdout",
     "output_type": "stream",
     "text": [
      "Looking to create folder of ../SML_Project_Data/history\n",
      "Creating Folder \n",
      "\n"
     ]
    }
   ],
   "source": [
    "# Store history files\n",
    "history_dir = directory + '/history'\n",
    "create_folder(history_dir)"
   ]
  },
  {
   "cell_type": "code",
   "execution_count": 13,
   "metadata": {
    "colab": {
     "base_uri": "https://localhost:8080/",
     "height": 527
    },
    "colab_type": "code",
    "id": "Tf4T9dOqOCZO",
    "outputId": "c6743b5e-fad8-44ba-b408-5c1fc46819dc"
   },
   "outputs": [
    {
     "name": "stdout",
     "output_type": "stream",
     "text": [
      "Looking to create folder of ../SML_Project_Data/data/train/resized_0\n",
      "Folder Already Exists \n",
      "\n",
      "Looking to create folder of ../SML_Project_Data/data/train/resized_1\n",
      "Folder Already Exists \n",
      "\n",
      "Looking to create folder of ../SML_Project_Data/data/train/resized_2\n",
      "Folder Already Exists \n",
      "\n",
      "Looking to create folder of ../SML_Project_Data/data/train/resized_3\n",
      "Folder Already Exists \n",
      "\n",
      "Looking to create folder of ../SML_Project_Data/data/train/resized_4\n",
      "Folder Already Exists \n",
      "\n",
      "Looking to create folder of ../SML_Project_Data/data/val/resized_0\n",
      "Folder Already Exists \n",
      "\n",
      "Looking to create folder of ../SML_Project_Data/data/val/resized_1\n",
      "Folder Already Exists \n",
      "\n",
      "Looking to create folder of ../SML_Project_Data/data/val/resized_2\n",
      "Folder Already Exists \n",
      "\n",
      "Looking to create folder of ../SML_Project_Data/data/val/resized_3\n",
      "Folder Already Exists \n",
      "\n",
      "Looking to create folder of ../SML_Project_Data/data/val/resized_4\n",
      "Folder Already Exists \n",
      "\n"
     ]
    }
   ],
   "source": [
    "# Create all Train and Validate Folders in Data with Folders for Each Class\n",
    "for data_type in ('train', 'val'):\n",
    "  for disease in (0, 1, 2, 3, 4):\n",
    "    path = directory + '/data/' + data_type + '/resized_' + str(disease)\n",
    "    create_folder(path)"
   ]
  },
  {
   "cell_type": "markdown",
   "metadata": {
    "colab_type": "text",
    "id": "MOJvwzl2GM5T"
   },
   "source": [
    "# Move Files into Directories (Not Done)"
   ]
  },
  {
   "cell_type": "code",
   "execution_count": 0,
   "metadata": {
    "colab": {
     "base_uri": "https://localhost:8080/",
     "height": 54
    },
    "colab_type": "code",
    "id": "6_7RNFTxO2ce",
    "outputId": "c793ea63-56bf-42ce-801b-ae7289c2da72"
   },
   "outputs": [
    {
     "data": {
      "text/plain": [
       "\"\\n# Copy first 1000 cat images to train_cats_dir\\nfnames = ['cat.{}.jpg'.format(i) for i in range(1000)]\\nfor fname in fnames:\\n    src = os.path.join(original_dataset_dir, fname)\\n    dst = os.path.join(train_cats_dir, fname)\\n    shutil.copyfile(src, dst)\\n\\n# Copy next 500 cat images to validation_cats_dir\\nfnames = ['cat.{}.jpg'.format(i) for i in range(1000, 1500)]\\nfor fname in fnames:\\n    src = os.path.join(original_dataset_dir, fname)\\n    dst = os.path.join(validation_cats_dir, fname)\\n    shutil.copyfile(src, dst)\\n    \\n# Copy next 500 cat images to test_cats_dir\\nfnames = ['cat.{}.jpg'.format(i) for i in range(1500, 2000)]\\nfor fname in fnames:\\n    src = os.path.join(original_dataset_dir, fname)\\n    dst = os.path.join(test_cats_dir, fname)\\n    shutil.copyfile(src, dst)\\n    \\n# Copy first 1000 dog images to train_dogs_dir\\nfnames = ['dog.{}.jpg'.format(i) for i in range(1000)]\\nfor fname in fnames:\\n    src = os.path.join(original_dataset_dir, fname)\\n    dst = os.path.join(train_dogs_dir, fname)\\n    shutil.copyfile(src, dst)\\n    \\n# Copy next 500 dog images to validation_dogs_dir\\nfnames = ['dog.{}.jpg'.format(i) for i in range(1000, 1500)]\\nfor fname in fnames:\\n    src = os.path.join(original_dataset_dir, fname)\\n    dst = os.path.join(validation_dogs_dir, fname)\\n    shutil.copyfile(src, dst)\\n    \\n# Copy next 500 dog images to test_dogs_dir\\nfnames = ['dog.{}.jpg'.format(i) for i in range(1500, 2000)]\\nfor fname in fnames:\\n    src = os.path.join(original_dataset_dir, fname)\\n    dst = os.path.join(test_dogs_dir, fname)\\n    shutil.copyfile(src, dst)\\n\""
      ]
     },
     "execution_count": 15,
     "metadata": {
      "tags": []
     },
     "output_type": "execute_result"
    }
   ],
   "source": [
    "# Move files from one folder to another, didn't work, so did it manually\n",
    "'''\n",
    "# Copy first 1000 cat images to train_cats_dir\n",
    "fnames = ['cat.{}.jpg'.format(i) for i in range(1000)]\n",
    "for fname in fnames:\n",
    "    src = os.path.join(original_dataset_dir, fname)\n",
    "    dst = os.path.join(train_cats_dir, fname)\n",
    "    shutil.copyfile(src, dst)\n",
    "\n",
    "# Copy next 500 cat images to validation_cats_dir\n",
    "fnames = ['cat.{}.jpg'.format(i) for i in range(1000, 1500)]\n",
    "for fname in fnames:\n",
    "    src = os.path.join(original_dataset_dir, fname)\n",
    "    dst = os.path.join(validation_cats_dir, fname)\n",
    "    shutil.copyfile(src, dst)\n",
    "    \n",
    "# Copy next 500 cat images to test_cats_dir\n",
    "fnames = ['cat.{}.jpg'.format(i) for i in range(1500, 2000)]\n",
    "for fname in fnames:\n",
    "    src = os.path.join(original_dataset_dir, fname)\n",
    "    dst = os.path.join(test_cats_dir, fname)\n",
    "    shutil.copyfile(src, dst)\n",
    "    \n",
    "# Copy first 1000 dog images to train_dogs_dir\n",
    "fnames = ['dog.{}.jpg'.format(i) for i in range(1000)]\n",
    "for fname in fnames:\n",
    "    src = os.path.join(original_dataset_dir, fname)\n",
    "    dst = os.path.join(train_dogs_dir, fname)\n",
    "    shutil.copyfile(src, dst)\n",
    "    \n",
    "# Copy next 500 dog images to validation_dogs_dir\n",
    "fnames = ['dog.{}.jpg'.format(i) for i in range(1000, 1500)]\n",
    "for fname in fnames:\n",
    "    src = os.path.join(original_dataset_dir, fname)\n",
    "    dst = os.path.join(validation_dogs_dir, fname)\n",
    "    shutil.copyfile(src, dst)\n",
    "    \n",
    "# Copy next 500 dog images to test_dogs_dir\n",
    "fnames = ['dog.{}.jpg'.format(i) for i in range(1500, 2000)]\n",
    "for fname in fnames:\n",
    "    src = os.path.join(original_dataset_dir, fname)\n",
    "    dst = os.path.join(test_dogs_dir, fname)\n",
    "    shutil.copyfile(src, dst)\n",
    "'''"
   ]
  },
  {
   "cell_type": "markdown",
   "metadata": {
    "colab_type": "text",
    "id": "YHHcJz0aEl6O"
   },
   "source": [
    "As a sanity check, let's count how many pictures we have in each training split (train/validation):"
   ]
  },
  {
   "cell_type": "code",
   "execution_count": 14,
   "metadata": {
    "colab": {
     "base_uri": "https://localhost:8080/",
     "height": 187
    },
    "colab_type": "code",
    "id": "af6t__kfwRsh",
    "outputId": "7596c9e0-ec61-4e23-c3a6-d638c47d50c1"
   },
   "outputs": [
    {
     "name": "stdout",
     "output_type": "stream",
     "text": [
      "Total train disease level 0 images: 25668\n",
      "Total train disease level 1 images: 25668\n",
      "Total train disease level 2 images: 25668\n",
      "Total train disease level 3 images: 25668\n",
      "Total train disease level 4 images: 25668\n",
      "Total val disease level 0 images: 142\n",
      "Total val disease level 1 images: 142\n",
      "Total val disease level 2 images: 142\n",
      "Total val disease level 3 images: 142\n",
      "Total val disease level 4 images: 142\n"
     ]
    }
   ],
   "source": [
    "for data_type in ('train', 'val'):\n",
    "  for disease in (0, 1, 2, 3, 4):\n",
    "    path = directory + '/data/' + data_type + '/resized_' + str(disease)\n",
    "    print('Total ' + data_type + ' disease level ' + str(disease) + ' images:', len(os.listdir(path)))"
   ]
  },
  {
   "cell_type": "markdown",
   "metadata": {
    "colab_type": "text",
    "id": "OWheSEWvO2cv"
   },
   "source": [
    "## Create CNN Network"
   ]
  },
  {
   "cell_type": "code",
   "execution_count": 15,
   "metadata": {
    "colab": {
     "base_uri": "https://localhost:8080/",
     "height": 173
    },
    "colab_type": "code",
    "id": "HdQn1MZLO2cw",
    "outputId": "b30f6a8b-678f-4da7-8be9-3f41a4be8309"
   },
   "outputs": [
    {
     "name": "stderr",
     "output_type": "stream",
     "text": [
      "WARNING: Logging before flag parsing goes to stderr.\n",
      "W1115 17:54:44.018697 4648900032 deprecation_wrapper.py:119] From /usr/local/lib/python3.7/site-packages/keras/backend/tensorflow_backend.py:74: The name tf.get_default_graph is deprecated. Please use tf.compat.v1.get_default_graph instead.\n",
      "\n",
      "W1115 17:54:44.048988 4648900032 deprecation_wrapper.py:119] From /usr/local/lib/python3.7/site-packages/keras/backend/tensorflow_backend.py:517: The name tf.placeholder is deprecated. Please use tf.compat.v1.placeholder instead.\n",
      "\n",
      "W1115 17:54:44.062480 4648900032 deprecation_wrapper.py:119] From /usr/local/lib/python3.7/site-packages/keras/backend/tensorflow_backend.py:4138: The name tf.random_uniform is deprecated. Please use tf.random.uniform instead.\n",
      "\n",
      "W1115 17:54:44.083632 4648900032 deprecation_wrapper.py:119] From /usr/local/lib/python3.7/site-packages/keras/backend/tensorflow_backend.py:3976: The name tf.nn.max_pool is deprecated. Please use tf.nn.max_pool2d instead.\n",
      "\n"
     ]
    }
   ],
   "source": [
    "from keras import layers\n",
    "from keras import models\n",
    "\n",
    "x = 500\n",
    "y = 500\n",
    "\n",
    "model = models.Sequential()\n",
    "model.add(layers.Conv2D(32, kernel_size=(3, 3), activation='relu',\n",
    "                        input_shape=(x, y, 3)))\n",
    "model.add(layers.MaxPooling2D((2, 2)))\n",
    "model.add(layers.Conv2D(64, (3, 3), activation='relu'))\n",
    "model.add(layers.MaxPooling2D((2, 2)))\n",
    "model.add(layers.Conv2D(128, (3, 3), activation='relu'))\n",
    "model.add(layers.MaxPooling2D((2, 2)))\n",
    "model.add(layers.Conv2D(128, (3, 3), activation='relu'))\n",
    "model.add(layers.MaxPooling2D((2, 2)))\n",
    "model.add(layers.Flatten())\n",
    "model.add(layers.Dense(512, activation='relu'))\n",
    "\n",
    "# Output Layer\n",
    "#model.add(layers.Dense(1, activation='sigmoid')) # Used for binary class\n",
    "model.add(layers.Dense(5, activation='softmax'))"
   ]
  },
  {
   "cell_type": "markdown",
   "metadata": {
    "colab_type": "text",
    "id": "jEGXJSmWO2cy"
   },
   "source": [
    "Let's take a look at how the dimensions of the feature maps change with every successive layer:"
   ]
  },
  {
   "cell_type": "code",
   "execution_count": 16,
   "metadata": {
    "colab": {
     "base_uri": "https://localhost:8080/",
     "height": 527
    },
    "colab_type": "code",
    "id": "-X8rG_9BO2cy",
    "outputId": "fc7e89a5-c8c8-400d-ee61-ccf86e28df5a"
   },
   "outputs": [
    {
     "name": "stdout",
     "output_type": "stream",
     "text": [
      "_________________________________________________________________\n",
      "Layer (type)                 Output Shape              Param #   \n",
      "=================================================================\n",
      "conv2d_1 (Conv2D)            (None, 498, 498, 32)      896       \n",
      "_________________________________________________________________\n",
      "max_pooling2d_1 (MaxPooling2 (None, 249, 249, 32)      0         \n",
      "_________________________________________________________________\n",
      "conv2d_2 (Conv2D)            (None, 247, 247, 64)      18496     \n",
      "_________________________________________________________________\n",
      "max_pooling2d_2 (MaxPooling2 (None, 123, 123, 64)      0         \n",
      "_________________________________________________________________\n",
      "conv2d_3 (Conv2D)            (None, 121, 121, 128)     73856     \n",
      "_________________________________________________________________\n",
      "max_pooling2d_3 (MaxPooling2 (None, 60, 60, 128)       0         \n",
      "_________________________________________________________________\n",
      "conv2d_4 (Conv2D)            (None, 58, 58, 128)       147584    \n",
      "_________________________________________________________________\n",
      "max_pooling2d_4 (MaxPooling2 (None, 29, 29, 128)       0         \n",
      "_________________________________________________________________\n",
      "flatten_1 (Flatten)          (None, 107648)            0         \n",
      "_________________________________________________________________\n",
      "dense_1 (Dense)              (None, 512)               55116288  \n",
      "_________________________________________________________________\n",
      "dense_2 (Dense)              (None, 5)                 2565      \n",
      "=================================================================\n",
      "Total params: 55,359,685\n",
      "Trainable params: 55,359,685\n",
      "Non-trainable params: 0\n",
      "_________________________________________________________________\n"
     ]
    }
   ],
   "source": [
    "model.summary()"
   ]
  },
  {
   "cell_type": "markdown",
   "metadata": {
    "colab_type": "text",
    "id": "b3n5RAeMIDup"
   },
   "source": [
    "# Parameter Explenation Work:"
   ]
  },
  {
   "cell_type": "code",
   "execution_count": 17,
   "metadata": {
    "colab": {
     "base_uri": "https://localhost:8080/",
     "height": 85
    },
    "colab_type": "code",
    "id": "F8a8b6UXO2c0",
    "outputId": "972080d9-dcd2-4141-b785-eaab03bb588d"
   },
   "outputs": [
    {
     "name": "stderr",
     "output_type": "stream",
     "text": [
      "W1115 17:54:55.301187 4648900032 deprecation_wrapper.py:119] From /usr/local/lib/python3.7/site-packages/keras/optimizers.py:790: The name tf.train.Optimizer is deprecated. Please use tf.compat.v1.train.Optimizer instead.\n",
      "\n",
      "W1115 17:54:55.308113 4648900032 deprecation_wrapper.py:119] From /usr/local/lib/python3.7/site-packages/keras/backend/tensorflow_backend.py:3295: The name tf.log is deprecated. Please use tf.math.log instead.\n",
      "\n"
     ]
    }
   ],
   "source": [
    "from keras import optimizers\n",
    "\n",
    "model.compile(loss='categorical_crossentropy', # Changed from binary\n",
    "              #optimizer=optimizers.Adam(),\n",
    "              optimizer=optimizers.RMSprop(lr=1e-4), # other optimizer was used previously in binary task\n",
    "              metrics=['acc'])"
   ]
  },
  {
   "cell_type": "markdown",
   "metadata": {
    "colab_type": "text",
    "id": "tM0MPJPjO2c2"
   },
   "source": [
    "## Data preprocessing\n",
    "\n",
    "As you already know by now, data should be formatted into appropriately pre-processed floating point tensors before being fed into our \n",
    "network. Currently, our data sits on a drive as JPEG files, so the steps for getting it into our network are roughly:\n",
    "\n",
    "* Read the picture files.\n",
    "* Decode the JPEG content to RBG grids of pixels.\n",
    "* Convert these into floating point tensors.\n",
    "* Rescale the pixel values (between 0 and 255) to the [0, 1] interval (as you know, neural networks prefer to deal with small input values).\n",
    "\n",
    "It may seem a bit daunting, but thankfully Keras has utilities to take care of these steps automatically. Keras has a module with image \n",
    "processing helper tools, located at `keras.preprocessing.image`. In particular, it contains the class `ImageDataGenerator` which allows to \n",
    "quickly set up Python generators that can automatically turn image files on disk into batches of pre-processed tensors. This is what we \n",
    "will use here."
   ]
  },
  {
   "cell_type": "code",
   "execution_count": 27,
   "metadata": {
    "colab": {
     "base_uri": "https://localhost:8080/",
     "height": 51
    },
    "colab_type": "code",
    "id": "cbA--wZcO2c2",
    "outputId": "6b29906d-bc41-470e-c3b5-4f26394cd4e5"
   },
   "outputs": [
    {
     "name": "stdout",
     "output_type": "stream",
     "text": [
      "Found 128340 images belonging to 5 classes.\n",
      "Found 710 images belonging to 5 classes.\n"
     ]
    }
   ],
   "source": [
    "from keras.preprocessing.image import ImageDataGenerator\n",
    "\n",
    "# All images will be rescaled by 1./255\n",
    "train_datagen = ImageDataGenerator(rescale=1./255)\n",
    "test_datagen = ImageDataGenerator(rescale=1./255)\n",
    "\n",
    "train_generator = train_datagen.flow_from_directory(\n",
    "        # This is the target directory\n",
    "        train_dir,\n",
    "        # All images will be resized to 150x150\n",
    "        target_size=(x, y),\n",
    "        batch_size=20,\n",
    "        # Since we use binary_crossentropy loss, we need binary labels\n",
    "        class_mode='categorical') # Changed from binary\n",
    "\n",
    "validation_generator = test_datagen.flow_from_directory(\n",
    "        val_dir,\n",
    "        target_size=(x, y),\n",
    "        batch_size=20,\n",
    "        class_mode='categorical') # Changed from binary"
   ]
  },
  {
   "cell_type": "code",
   "execution_count": 28,
   "metadata": {
    "colab": {
     "base_uri": "https://localhost:8080/",
     "height": 34
    },
    "colab_type": "code",
    "id": "nlneEVP1icrZ",
    "outputId": "b62dc7cb-879e-483f-f773-1043dd7b8801"
   },
   "outputs": [
    {
     "data": {
      "text/plain": [
       "<keras_preprocessing.image.directory_iterator.DirectoryIterator at 0x14713c940>"
      ]
     },
     "execution_count": 28,
     "metadata": {},
     "output_type": "execute_result"
    }
   ],
   "source": [
    "train_generator"
   ]
  },
  {
   "cell_type": "code",
   "execution_count": 29,
   "metadata": {
    "colab": {},
    "colab_type": "code",
    "id": "9NDt5kU6O2c4"
   },
   "outputs": [],
   "source": [
    "#!pip install pillow"
   ]
  },
  {
   "cell_type": "code",
   "execution_count": 30,
   "metadata": {
    "colab": {
     "base_uri": "https://localhost:8080/",
     "height": 51
    },
    "colab_type": "code",
    "id": "GU0QXTntO2c6",
    "outputId": "ef247ee2-b47c-4828-a72d-96f42d1dae90"
   },
   "outputs": [
    {
     "name": "stdout",
     "output_type": "stream",
     "text": [
      "data batch shape: (20, 500, 500, 3)\n",
      "labels batch shape: (20, 5)\n"
     ]
    }
   ],
   "source": [
    "for data_batch, labels_batch in train_generator:\n",
    "    print('data batch shape:', data_batch.shape)\n",
    "    print('labels batch shape:', labels_batch.shape)\n",
    "    break"
   ]
  },
  {
   "cell_type": "code",
   "execution_count": 31,
   "metadata": {
    "colab": {
     "base_uri": "https://localhost:8080/",
     "height": 850
    },
    "colab_type": "code",
    "id": "6FGs8utflkEj",
    "outputId": "b53ced2e-858e-4289-eb08-00736a33a977"
   },
   "outputs": [
    {
     "data": {
      "text/plain": [
       "array([[[0.01568628, 0.        , 0.03137255],\n",
       "        [0.02352941, 0.00392157, 0.03137255],\n",
       "        [0.03921569, 0.01960784, 0.04313726],\n",
       "        ...,\n",
       "        [0.07843138, 0.04313726, 0.02352941],\n",
       "        [0.07058824, 0.03529412, 0.01568628],\n",
       "        [0.0627451 , 0.02745098, 0.00784314]],\n",
       "\n",
       "       [[0.03921569, 0.01568628, 0.05490196],\n",
       "        [0.03921569, 0.01960784, 0.04705883],\n",
       "        [0.0509804 , 0.03137255, 0.05490196],\n",
       "        ...,\n",
       "        [0.00392157, 0.01568628, 0.        ],\n",
       "        [0.        , 0.00784314, 0.        ],\n",
       "        [0.        , 0.00784314, 0.        ]],\n",
       "\n",
       "       [[0.04705883, 0.03529412, 0.0627451 ],\n",
       "        [0.01568628, 0.00392157, 0.03137255],\n",
       "        [0.00392157, 0.        , 0.01568628],\n",
       "        ...,\n",
       "        [0.02352941, 0.09019608, 0.0509804 ],\n",
       "        [0.01568628, 0.08235294, 0.04313726],\n",
       "        [0.00784314, 0.07450981, 0.03529412]],\n",
       "\n",
       "       ...,\n",
       "\n",
       "       [[0.10980393, 0.03529412, 0.10980393],\n",
       "        [0.07843138, 0.01568628, 0.05882353],\n",
       "        [0.09019608, 0.05490196, 0.05882353],\n",
       "        ...,\n",
       "        [0.01568628, 0.        , 0.03529412],\n",
       "        [0.01176471, 0.        , 0.02745098],\n",
       "        [0.00784314, 0.        , 0.02352941]],\n",
       "\n",
       "       [[0.10980393, 0.02745098, 0.10196079],\n",
       "        [0.08627451, 0.02352941, 0.0627451 ],\n",
       "        [0.09019608, 0.05490196, 0.05882353],\n",
       "        ...,\n",
       "        [0.        , 0.00392157, 0.01176471],\n",
       "        [0.        , 0.01568628, 0.01960784],\n",
       "        [0.01176471, 0.03529412, 0.02745098]],\n",
       "\n",
       "       [[0.10588236, 0.02352941, 0.09803922],\n",
       "        [0.0627451 , 0.        , 0.03921569],\n",
       "        [0.07058824, 0.03921569, 0.03137255],\n",
       "        ...,\n",
       "        [0.01176471, 0.05882353, 0.01960784],\n",
       "        [0.02745098, 0.08235294, 0.03137255],\n",
       "        [0.03921569, 0.10588236, 0.04313726]]], dtype=float32)"
      ]
     },
     "execution_count": 31,
     "metadata": {},
     "output_type": "execute_result"
    }
   ],
   "source": [
    "data_batch[1]"
   ]
  },
  {
   "cell_type": "code",
   "execution_count": 32,
   "metadata": {
    "colab": {
     "base_uri": "https://localhost:8080/",
     "height": 357
    },
    "colab_type": "code",
    "id": "16wAM7rZldSI",
    "outputId": "9fa952fc-6aed-4d1a-910f-85e52db64c91"
   },
   "outputs": [
    {
     "data": {
      "text/plain": [
       "array([[0., 0., 0., 1., 0.],\n",
       "       [0., 0., 0., 1., 0.],\n",
       "       [0., 0., 1., 0., 0.],\n",
       "       [1., 0., 0., 0., 0.],\n",
       "       [0., 0., 0., 1., 0.],\n",
       "       [1., 0., 0., 0., 0.],\n",
       "       [0., 0., 0., 0., 1.],\n",
       "       [1., 0., 0., 0., 0.],\n",
       "       [0., 0., 0., 1., 0.],\n",
       "       [0., 1., 0., 0., 0.],\n",
       "       [1., 0., 0., 0., 0.],\n",
       "       [1., 0., 0., 0., 0.],\n",
       "       [0., 0., 1., 0., 0.],\n",
       "       [0., 0., 1., 0., 0.],\n",
       "       [0., 0., 0., 0., 1.],\n",
       "       [0., 1., 0., 0., 0.],\n",
       "       [0., 0., 0., 0., 1.],\n",
       "       [0., 0., 0., 0., 1.],\n",
       "       [0., 1., 0., 0., 0.],\n",
       "       [1., 0., 0., 0., 0.]], dtype=float32)"
      ]
     },
     "execution_count": 32,
     "metadata": {},
     "output_type": "execute_result"
    }
   ],
   "source": [
    "labels_batch"
   ]
  },
  {
   "cell_type": "markdown",
   "metadata": {
    "colab_type": "text",
    "id": "wlVoayCOO2c7"
   },
   "source": [
    "Let's fit our model to the data using the generator. We do it using the `fit_generator` method, the equivalent of `fit` for data generators \n",
    "like ours. It expects as first argument a Python generator that will yield batches of inputs and targets indefinitely, like ours does. \n",
    "Because the data is being generated endlessly, the generator needs to know example how many samples to draw from the generator before \n",
    "declaring an epoch over. This is the role of the `steps_per_epoch` argument: after having drawn `steps_per_epoch` batches from the \n",
    "generator, i.e. after having run for `steps_per_epoch` gradient descent steps, the fitting process will go to the next epoch. In our case, \n",
    "batches are 20-sample large, so it will take 100 batches until we see our target of 2000 samples.\n",
    "\n",
    "When using `fit_generator`, one may pass a `validation_data` argument, much like with the `fit` method. Importantly, this argument is \n",
    "allowed to be a data generator itself, but it could be a tuple of Numpy arrays as well. If you pass a generator as `validation_data`, then \n",
    "this generator is expected to yield batches of validation data endlessly, and thus you should also specify the `validation_steps` argument, \n",
    "which tells the process how many batches to draw from the validation generator for evaluation."
   ]
  },
  {
   "cell_type": "code",
   "execution_count": 33,
   "metadata": {
    "colab": {},
    "colab_type": "code",
    "id": "8gaGfkjSO2c8"
   },
   "outputs": [
    {
     "name": "stderr",
     "output_type": "stream",
     "text": [
      "W1115 17:56:09.474091 4648900032 deprecation.py:323] From /usr/local/lib/python3.7/site-packages/tensorflow/python/ops/math_grad.py:1250: add_dispatch_support.<locals>.wrapper (from tensorflow.python.ops.array_ops) is deprecated and will be removed in a future version.\n",
      "Instructions for updating:\n",
      "Use tf.where in 2.0, which has the same broadcast rule as np.where\n",
      "W1115 17:56:09.651130 4648900032 deprecation_wrapper.py:119] From /usr/local/lib/python3.7/site-packages/keras/backend/tensorflow_backend.py:986: The name tf.assign_add is deprecated. Please use tf.compat.v1.assign_add instead.\n",
      "\n"
     ]
    },
    {
     "name": "stdout",
     "output_type": "stream",
     "text": [
      "Epoch 1/15\n",
      "100/100 [==============================] - 334s 3s/step - loss: 1.6067 - acc: 0.2385 - val_loss: 1.6487 - val_acc: 0.1909\n",
      "\n",
      "Epoch 00001: val_loss improved from inf to 1.64873, saving model to ../SML_Project_Data/cross_entrophy_dim_500_class_count_566_new.h5\n",
      "Epoch 2/15\n",
      "100/100 [==============================] - 344s 3s/step - loss: 1.4978 - acc: 0.3125 - val_loss: 1.6837 - val_acc: 0.2202\n",
      "\n",
      "Epoch 00002: val_loss did not improve from 1.64873\n",
      "Epoch 3/15\n",
      "100/100 [==============================] - 383s 4s/step - loss: 1.4687 - acc: 0.3395 - val_loss: 1.7263 - val_acc: 0.2031\n",
      "\n",
      "Epoch 00003: val_loss did not improve from 1.64873\n",
      "Epoch 4/15\n",
      "100/100 [==============================] - 330s 3s/step - loss: 1.4338 - acc: 0.3545 - val_loss: 1.7607 - val_acc: 0.2323\n",
      "\n",
      "Epoch 00004: val_loss did not improve from 1.64873\n",
      "Epoch 5/15\n",
      "100/100 [==============================] - 330s 3s/step - loss: 1.4084 - acc: 0.3910 - val_loss: 1.6269 - val_acc: 0.2525\n",
      "\n",
      "Epoch 00005: val_loss improved from 1.64873 to 1.62692, saving model to ../SML_Project_Data/cross_entrophy_dim_500_class_count_566_new.h5\n",
      "Epoch 6/15\n",
      "100/100 [==============================] - 345s 3s/step - loss: 1.4059 - acc: 0.3765 - val_loss: 1.9681 - val_acc: 0.2112\n",
      "\n",
      "Epoch 00006: val_loss did not improve from 1.62692\n",
      "Epoch 7/15\n",
      "100/100 [==============================] - 358s 4s/step - loss: 1.3745 - acc: 0.3795 - val_loss: 1.8794 - val_acc: 0.2374\n",
      "\n",
      "Epoch 00007: val_loss did not improve from 1.62692\n",
      "Epoch 8/15\n",
      "100/100 [==============================] - 364s 4s/step - loss: 1.3563 - acc: 0.4080 - val_loss: 1.7731 - val_acc: 0.2296\n",
      "\n",
      "Epoch 00008: val_loss did not improve from 1.62692\n",
      "Epoch 9/15\n",
      "100/100 [==============================] - 339s 3s/step - loss: 1.3504 - acc: 0.3985 - val_loss: 1.8516 - val_acc: 0.2051\n",
      "\n",
      "Epoch 00009: val_loss did not improve from 1.62692\n",
      "Epoch 10/15\n",
      "100/100 [==============================] - 331s 3s/step - loss: 1.2761 - acc: 0.4435 - val_loss: 2.1452 - val_acc: 0.2071\n",
      "\n",
      "Epoch 00010: val_loss did not improve from 1.62692\n"
     ]
    }
   ],
   "source": [
    "from keras.callbacks import ModelCheckpoint, EarlyStopping\n",
    "\n",
    "if train_action == True:\n",
    "\n",
    "  # define the checkpoint\n",
    "  #filepath = \"model.h5\"\n",
    "  filepath = original_base_dir + '/cross_entrophy_dim_500_class_count_566_new.h5'\n",
    "  checkpoint = ModelCheckpoint(filepath, monitor='val_loss', verbose=1, save_best_only=True, mode='min')\n",
    "  es = EarlyStopping(monitor='val_loss', mode='min', patience = 5)\n",
    "\n",
    "  callbacks_list = [checkpoint, es]\n",
    "\n",
    "  history = model.fit_generator(\n",
    "        train_generator,\n",
    "        steps_per_epoch=100,\n",
    "        epochs=15,\n",
    "        validation_data=validation_generator,\n",
    "        validation_steps=50,\n",
    "        callbacks=callbacks_list\n",
    "        )\n",
    "\n",
    "  # Get the dictionary containing each metric and the loss for each epoch\n",
    "  history_dict = history.history\n",
    "  # Save it under the form of a json file\n",
    "  json.dump(history_dict, open(history_dir + '/history', 'w'))"
   ]
  },
  {
   "cell_type": "code",
   "execution_count": 34,
   "metadata": {
    "colab": {
     "base_uri": "https://localhost:8080/",
     "height": 377
    },
    "colab_type": "code",
    "id": "c2D-jxsC-9SK",
    "outputId": "043382aa-fb66-44ab-ae63-9f67acd5b0ec"
   },
   "outputs": [
    {
     "data": {
      "text/plain": [
       "<keras.engine.sequential.Sequential at 0x14e23b400>"
      ]
     },
     "execution_count": 34,
     "metadata": {},
     "output_type": "execute_result"
    }
   ],
   "source": [
    "from keras.models import load_model\n",
    "model1 = load_model(original_base_dir + '/cross_entrophy_dim_500_class_count_566_new.h5')\n",
    "model1"
   ]
  },
  {
   "cell_type": "code",
   "execution_count": 35,
   "metadata": {
    "colab": {
     "base_uri": "https://localhost:8080/",
     "height": 221
    },
    "colab_type": "code",
    "id": "7wrCsjlnGxG3",
    "outputId": "d553be53-d69b-48d6-cf33-d395d2e3fa6f"
   },
   "outputs": [
    {
     "data": {
      "text/plain": [
       "[0.1909090942054084,\n",
       " 0.22020202468742023,\n",
       " 0.20306122743961763,\n",
       " 0.23232323480675918,\n",
       " 0.25252525583662166,\n",
       " 0.21122449271532953,\n",
       " 0.23737373963148908,\n",
       " 0.22959183924356286,\n",
       " 0.20505050780496212,\n",
       " 0.20707071068310978]"
      ]
     },
     "execution_count": 35,
     "metadata": {},
     "output_type": "execute_result"
    }
   ],
   "source": [
    "with open(original_base_dir + '/history/history') as json_file:\n",
    "    history = json.load(json_file)\n",
    "history.get('val_acc')"
   ]
  },
  {
   "cell_type": "markdown",
   "metadata": {
    "colab_type": "text",
    "id": "6aaP3yUWO2dC"
   },
   "source": [
    "Let's plot the loss and accuracy of the model over the training and validation data during training:"
   ]
  },
  {
   "cell_type": "code",
   "execution_count": 36,
   "metadata": {
    "colab": {
     "base_uri": "https://localhost:8080/",
     "height": 545
    },
    "colab_type": "code",
    "id": "teMFY2tvO2dC",
    "outputId": "92f79b0a-1034-42f7-c103-76852759567e"
   },
   "outputs": [
    {
     "data": {
      "text/plain": [
       "<Figure size 640x480 with 1 Axes>"
      ]
     },
     "metadata": {},
     "output_type": "display_data"
    },
    {
     "data": {
      "text/plain": [
       "<Figure size 640x480 with 1 Axes>"
      ]
     },
     "metadata": {},
     "output_type": "display_data"
    }
   ],
   "source": [
    "import matplotlib.pyplot as plt\n",
    "\n",
    "acc = history['acc']\n",
    "val_acc = history['val_acc']\n",
    "loss = history['loss']\n",
    "val_loss = history['val_loss']\n",
    "\n",
    "epochs = range(len(acc))\n",
    "\n",
    "plt.plot(epochs, acc, 'bo', label='Training acc')\n",
    "plt.plot(epochs, val_acc, 'b', label='Validation acc')\n",
    "plt.title('Training and validation accuracy')\n",
    "plt.legend()\n",
    "\n",
    "plt.figure()\n",
    "\n",
    "plt.plot(epochs, loss, 'bo', label='Training loss')\n",
    "plt.plot(epochs, val_loss, 'b', label='Validation loss')\n",
    "plt.title('Training and validation loss')\n",
    "plt.legend()\n",
    "\n",
    "plt.show()"
   ]
  },
  {
   "cell_type": "markdown",
   "metadata": {
    "colab_type": "text",
    "id": "ZncSS5XYFRQi"
   },
   "source": [
    "# Model Evaluation"
   ]
  },
  {
   "cell_type": "code",
   "execution_count": 37,
   "metadata": {
    "colab": {},
    "colab_type": "code",
    "id": "jENuLa-FBPCo"
   },
   "outputs": [],
   "source": [
    "from keras.models import load_model\n",
    "from keras.preprocessing import image\n",
    "import matplotlib.pyplot as plt\n",
    "import numpy as np\n",
    "import os\n",
    "\n",
    "def load_image(img_path, show=False, verbose = False):\n",
    "    '''Written from https://stackoverflow.com/questions/43469281/how-to-predict-input-image-using-trained-model-in-keras'''\n",
    "\n",
    "    img = image.load_img(img_path, target_size=(500, 500, 3))\n",
    "    img_tensor = image.img_to_array(img)                    # (height, width, channels)\n",
    "    img_tensor = np.expand_dims(img_tensor, axis=0)         # (1, height, width, channels), add a dimension because the model expects this shape: (batch_size, height, width, channels)\n",
    "    if verbose:\n",
    "      print(img_tensor.shape)\n",
    "      print(img_tensor)\n",
    "    img_tensor /= 255.                                      # imshow expects values in the range [0, 1]\n",
    "\n",
    "    if show:\n",
    "        plt.imshow(img_tensor[0])                           \n",
    "        plt.axis('off')\n",
    "        plt.show()\n",
    "\n",
    "    return img_tensor\n"
   ]
  },
  {
   "cell_type": "code",
   "execution_count": 38,
   "metadata": {
    "colab": {
     "base_uri": "https://localhost:8080/",
     "height": 1000
    },
    "colab_type": "code",
    "id": "1Y6F_5KDZFto",
    "outputId": "538deabb-2f4e-4de2-8665-be0346685ff6"
   },
   "outputs": [
    {
     "name": "stdout",
     "output_type": "stream",
     "text": [
      "(1, 500, 500, 3)\n",
      "[[[[0. 0. 0.]\n",
      "   [0. 0. 0.]\n",
      "   [0. 0. 0.]\n",
      "   ...\n",
      "   [0. 0. 0.]\n",
      "   [0. 0. 0.]\n",
      "   [0. 0. 0.]]\n",
      "\n",
      "  [[0. 0. 0.]\n",
      "   [0. 0. 0.]\n",
      "   [0. 0. 0.]\n",
      "   ...\n",
      "   [0. 0. 0.]\n",
      "   [0. 0. 0.]\n",
      "   [0. 0. 0.]]\n",
      "\n",
      "  [[0. 0. 0.]\n",
      "   [0. 0. 0.]\n",
      "   [0. 0. 0.]\n",
      "   ...\n",
      "   [0. 0. 0.]\n",
      "   [0. 0. 0.]\n",
      "   [0. 0. 0.]]\n",
      "\n",
      "  ...\n",
      "\n",
      "  [[0. 0. 0.]\n",
      "   [0. 0. 0.]\n",
      "   [0. 0. 0.]\n",
      "   ...\n",
      "   [0. 0. 0.]\n",
      "   [0. 0. 0.]\n",
      "   [0. 0. 0.]]\n",
      "\n",
      "  [[0. 0. 0.]\n",
      "   [0. 0. 0.]\n",
      "   [0. 0. 0.]\n",
      "   ...\n",
      "   [0. 0. 0.]\n",
      "   [0. 0. 0.]\n",
      "   [0. 0. 0.]]\n",
      "\n",
      "  [[0. 0. 0.]\n",
      "   [0. 0. 0.]\n",
      "   [0. 0. 0.]\n",
      "   ...\n",
      "   [0. 0. 0.]\n",
      "   [0. 0. 0.]\n",
      "   [0. 0. 0.]]]]\n"
     ]
    },
    {
     "data": {
      "image/png": "[encoded data removed]",
      "text/plain": [
       "<Figure size 432x288 with 1 Axes>"
      ]
     },
     "metadata": {
      "needs_background": "light"
     },
     "output_type": "display_data"
    },
    {
     "data": {
      "image/png": "[encoded data removed]",
      "text/plain": [
       "<Figure size 432x288 with 1 Axes>"
      ]
     },
     "metadata": {
      "needs_background": "light"
     },
     "output_type": "display_data"
    },
    {
     "name": "stdout",
     "output_type": "stream",
     "text": [
      "(500, 500)\n"
     ]
    }
   ],
   "source": [
    "confusion_matrix_object = np.zeros((5,5))\n",
    "\n",
    "filenames = validation_generator.filenames\n",
    "#filenames = train_generator.filenames\n",
    "folder = 'val'\n",
    "#folder = 'train'\n",
    "\n",
    "correct = 0\n",
    "total = len(filenames)\n",
    "image_dir = 'data/' + folder + '/' + filenames[0]\n",
    "result = load_image(image_dir, show=True, verbose = True)\n",
    "\n",
    "\n",
    "new_image = image.load_img(image_dir)\n",
    "plt.imshow(new_image)                           \n",
    "plt.axis('off')\n",
    "plt.show()\n",
    "print(new_image.size)"
   ]
  },
  {
   "cell_type": "code",
   "execution_count": 39,
   "metadata": {
    "colab": {
     "base_uri": "https://localhost:8080/",
     "height": 153
    },
    "colab_type": "code",
    "id": "BxjABHBBSfjf",
    "outputId": "0bc6dfde-630b-4335-f8b2-866fe6d6c18c"
   },
   "outputs": [
    {
     "name": "stdout",
     "output_type": "stream",
     "text": [
      "Overall Accuracy: 0.2577464788732394 \n",
      "\n",
      "Confusion Matrix: rows is true, columns is result \n",
      " [[64.  3. 54. 14.  7.]\n",
      " [62.  4. 48. 21.  7.]\n",
      " [47.  7. 59. 18. 11.]\n",
      " [46.  0. 56. 26. 14.]\n",
      " [35.  5. 47. 25. 30.]]\n"
     ]
    }
   ],
   "source": [
    "\n",
    "for image_name in filenames:\n",
    "\n",
    "  image_object = 'data/' + folder + '/' + image_name\n",
    "  #print(image_object)\n",
    "  class_name = image_object.split('/')[2]\n",
    "  true_class = int(class_name[-1])\n",
    "\n",
    "  result =  model1.predict(load_image(image_object))[0].tolist()\n",
    "  result = int(result.index(max(result)))\n",
    "\n",
    "  if true_class == result:\n",
    "    correct = correct + 1\n",
    "\n",
    "  confusion_matrix_object[true_class, result] = 1 + confusion_matrix_object[true_class, result]\n",
    "\n",
    "print('Overall Accuracy:', correct/total, '\\n')\n",
    "\n",
    "print('Confusion Matrix: rows is true, columns is result \\n', confusion_matrix_object)"
   ]
  },
  {
   "cell_type": "code",
   "execution_count": 40,
   "metadata": {
    "colab": {
     "base_uri": "https://localhost:8080/",
     "height": 102
    },
    "colab_type": "code",
    "id": "IDj9C5hEJ7UO",
    "outputId": "6e4a9ec6-fc04-4627-e0e9-a8b726e491e1"
   },
   "outputs": [
    {
     "name": "stdout",
     "output_type": "stream",
     "text": [
      "Accuracy for class 0 is 0.4507042253521127\n",
      "Accuracy for class 1 is 0.028169014084507043\n",
      "Accuracy for class 2 is 0.4154929577464789\n",
      "Accuracy for class 3 is 0.18309859154929578\n",
      "Accuracy for class 4 is 0.2112676056338028\n"
     ]
    }
   ],
   "source": [
    "import sys\n",
    "for x in range (0, 5):\n",
    "\n",
    "  row_total = sum(confusion_matrix_object[x])\n",
    "  if row_total != 142:\n",
    "    raise Exception('Error, row_total is {} instead of 142'.format(int(row_total)))\n",
    "\n",
    "  print('Accuracy for class', x, 'is', confusion_matrix_object[x][x]/row_total)"
   ]
  },
  {
   "cell_type": "markdown",
   "metadata": {
    "colab": {},
    "colab_type": "code",
    "id": "nd2jeI9eV5aM"
   },
   "source": [
    "# Logistic Regression"
   ]
  },
  {
   "cell_type": "code",
   "execution_count": null,
   "metadata": {},
   "outputs": [],
   "source": [
    "# https://medium.com/@luwei.io/logistic-regression-with-keras-d75d640d175e\n",
    "import numpy as np\n",
    "from keras.models import Sequential\n",
    "from keras.layers import Dense\n",
    "from keras.regularizers import L1L2\n",
    "\n",
    "\"\"\"\n",
    "Prepare you data, such as:\n",
    "\"\"\"\n",
    "#x_train = np.array([],[],[])  # should be a numpy array\n",
    "#y_train = np.array([],[],[])  # should be a numpy array\n",
    "#x_val = np.array([],[],[])    # should be a numpy array\n",
    "#y_val = np.array([],[],[])    # should be a numpy array\n",
    "\n",
    "\n",
    "\"\"\"\n",
    "Set up the logistic regression model\n",
    "\"\"\"\n",
    "model = Sequential()\n",
    "model.add(Dense(2,  # output dim is 2, one score per each class\n",
    "                activation='softmax',\n",
    "                kernel_regularizer=L1L2(l1=0.0, l2=0.1),\n",
    "                input_dim=len(feature_vector))  # input dimension = number of features your data has\n",
    "model.compile(optimizer='sgd',\n",
    "              loss='categorical_crossentropy',\n",
    "              metrics=['accuracy'])\n",
    "model.fit(x_train=train_generator,\n",
    "          y_train,\n",
    "          epochs=100,\n",
    "          #validation_data=(x_val, y_val)\n",
    "          validation_data=validation_generation\n",
    "         )\n",
    "          \n",
    "          \n",
    "          \n",
    "          \n",
    "          \n",
    "          "
   ]
  }
 ],
 "metadata": {
  "accelerator": "GPU",
  "colab": {
   "collapsed_sections": [
    "pPsf2uskg5Md"
   ],
   "name": "CNN_Diabetic_Retinopathy_Classification.ipynb",
   "provenance": []
  },
  "kernelspec": {
   "display_name": "Python 3",
   "language": "python",
   "name": "python3"
  },
  "language_info": {
   "codemirror_mode": {
    "name": "ipython",
    "version": 3
   },
   "file_extension": ".py",
   "mimetype": "text/x-python",
   "name": "python",
   "nbconvert_exporter": "python",
   "pygments_lexer": "ipython3",
   "version": "3.7.3"
  }
 },
 "nbformat": 4,
 "nbformat_minor": 1
}
