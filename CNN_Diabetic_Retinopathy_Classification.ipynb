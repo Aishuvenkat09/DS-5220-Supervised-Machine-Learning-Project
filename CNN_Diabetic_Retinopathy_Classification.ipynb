{
 "cells": [
  {
   "cell_type": "markdown",
   "metadata": {
    "colab_type": "text",
    "id": "UdNksH15FbXb"
   },
   "source": [
    "# Diabetic Retinopathy Classification\n",
    "## Input:\n",
    "##### 1) Set up connection of Google Colab to Google Drive\n",
    "##### 2) Set up use of GPU for processing\n",
    "##### 3) Set up directoy paths in the 'directory' object\n",
    "##### 4) Step of move JPEG into automatically created directories must be done manually. Currently it is done by uploading all files in distinct folders which correspond to each class for training, and folders for validation\n",
    "\n",
    "## Output:\n",
    "##### 1) Trained Cross Entrophy Loss CNN model. Model on 15th epoch is saved.\n",
    "##### 2) JSON file with Accuracy and Cross Entrophy Loss based on Training and Validation Set across 15 epochs\n",
    "\n",
    "## Process Overview:\n",
    "##### 566 Color JPEG images of 500 by 500 pixels for each disease class of 0, 1, 2, 3, and 4 is used to train a CNN model with cross entrophy loss. 566 images were used because the class with the smallest count was 566 from using all training zip files. The model was trained for 30 minutes, when 20 minutes is sufficient for highest validation set accuracy. A validation set of 144 images of each class is used. In this model the validation set is just used to give information on which epoch to use the model for, but the validation data does not train the model.\n",
    "\n",
    "## Results:\n",
    "##### Model has a validation set accuracy between 27% and 30% accuracy. Random quessing results in an accuracy of 20%. Close to state of the art models on Kaggle have an accuracy of between 60-75%. https://www.kaggle.com/c/diabetic-retinopathy-detection/notebooks"
   ]
  },
  {
   "cell_type": "markdown",
   "metadata": {
    "colab_type": "text",
    "id": "FCaKj8eRGGBK"
   },
   "source": [
    "# Setup"
   ]
  },
  {
   "cell_type": "code",
   "execution_count": 74,
   "metadata": {
    "colab": {
     "base_uri": "https://localhost:8080/",
     "height": 97
    },
    "colab_type": "code",
    "id": "dXW43PpVFYxv",
    "outputId": "9034a0a6-fcf7-4d0b-f81c-e3d2e8bc3a48"
   },
   "outputs": [
    {
     "name": "stdout",
     "output_type": "stream",
     "text": [
      "2.2.4\n"
     ]
    }
   ],
   "source": [
    "# Keras\n",
    "import keras\n",
    "print(keras.__version__)\n",
    "from keras import metrics\n",
    "\n",
    "# File and Folder Management\n",
    "import os, shutil\n",
    "\n",
    "# Store history\n",
    "import json"
   ]
  },
  {
   "cell_type": "markdown",
   "metadata": {
    "colab_type": "text",
    "id": "I0YMD2iOO2cZ"
   },
   "source": [
    "\n",
    "\n",
    "\n",
    "\n",
    "This notebook contains the code sample found in Chapter 5, Section 2 of [Deep Learning with Python](https://www.manning.com/books/deep-learning-with-python?a_aid=keras&a_bid=76564dff)"
   ]
  },
  {
   "cell_type": "code",
   "execution_count": 75,
   "metadata": {
    "colab": {},
    "colab_type": "code",
    "id": "x0Z0QQzMO64j"
   },
   "outputs": [],
   "source": [
    "# Example of how to unzip files directly on google drive\n",
    "# unzipped directly on gdrive. !unzip -qq dogs-vs-cats.zip, followed up by !unzip -qq train.zip and !unzip -qq test1.zip"
   ]
  },
  {
   "cell_type": "code",
   "execution_count": null,
   "metadata": {
    "colab": {},
    "colab_type": "code",
    "id": "ACbTRQkiYDgq"
   },
   "outputs": [],
   "source": []
  },
  {
   "cell_type": "code",
   "execution_count": 76,
   "metadata": {
    "colab": {
     "base_uri": "https://localhost:8080/",
     "height": 34
    },
    "colab_type": "code",
    "id": "uHp5LaKdPkY8",
    "outputId": "943db7fe-4e65-495e-9d4f-4bc8b5cb447e"
   },
   "outputs": [
    {
     "name": "stdout",
     "output_type": "stream",
     "text": [
      "/Users/aaronmoskowitz/Documents/SML_Project_Data\r\n"
     ]
    }
   ],
   "source": [
    "!pwd"
   ]
  },
  {
   "cell_type": "code",
   "execution_count": 77,
   "metadata": {
    "colab": {
     "base_uri": "https://localhost:8080/",
     "height": 34
    },
    "colab_type": "code",
    "id": "iyu1FBzxNtRJ",
    "outputId": "8102ffc4-31d7-4121-dd11-725e51f81c34"
   },
   "outputs": [
    {
     "name": "stdout",
     "output_type": "stream",
     "text": [
      "/bin/sh: dir: command not found\r\n"
     ]
    }
   ],
   "source": [
    "!dir"
   ]
  },
  {
   "cell_type": "code",
   "execution_count": 78,
   "metadata": {
    "colab": {
     "base_uri": "https://localhost:8080/",
     "height": 122
    },
    "colab_type": "code",
    "id": "qiTsG-KfPt2U",
    "outputId": "449d284d-23de-4c0b-bb99-2768252375c2"
   },
   "outputs": [
    {
     "ename": "ModuleNotFoundError",
     "evalue": "No module named 'google.colab'",
     "output_type": "error",
     "traceback": [
      "\u001b[0;31m---------------------------------------------------------------------------\u001b[0m",
      "\u001b[0;31mModuleNotFoundError\u001b[0m                       Traceback (most recent call last)",
      "\u001b[0;32m<ipython-input-78-d5df0069828e>\u001b[0m in \u001b[0;36m<module>\u001b[0;34m\u001b[0m\n\u001b[0;32m----> 1\u001b[0;31m \u001b[0;32mfrom\u001b[0m \u001b[0mgoogle\u001b[0m\u001b[0;34m.\u001b[0m\u001b[0mcolab\u001b[0m \u001b[0;32mimport\u001b[0m \u001b[0mdrive\u001b[0m\u001b[0;34m\u001b[0m\u001b[0;34m\u001b[0m\u001b[0m\n\u001b[0m\u001b[1;32m      2\u001b[0m \u001b[0mdrive\u001b[0m\u001b[0;34m.\u001b[0m\u001b[0mmount\u001b[0m\u001b[0;34m(\u001b[0m\u001b[0;34m'/content/drive'\u001b[0m\u001b[0;34m)\u001b[0m\u001b[0;34m\u001b[0m\u001b[0;34m\u001b[0m\u001b[0m\n",
      "\u001b[0;31mModuleNotFoundError\u001b[0m: No module named 'google.colab'"
     ]
    }
   ],
   "source": [
    "from google.colab import drive\n",
    "drive.mount('/content/drive')\n"
   ]
  },
  {
   "cell_type": "code",
   "execution_count": 79,
   "metadata": {
    "colab": {},
    "colab_type": "code",
    "id": "AFB8Ac7zQyb_"
   },
   "outputs": [],
   "source": [
    "train_action = True\n",
    "\n",
    "# Set directory\n",
    "#aaron_dir = \"/content/drive/My Drive/Colab Notebooks/SML_Project\"\n",
    "aaron_dir = '../SML_Project_Data'\n",
    "\n",
    "directory = aaron_dir"
   ]
  },
  {
   "cell_type": "code",
   "execution_count": 80,
   "metadata": {
    "colab": {
     "base_uri": "https://localhost:8080/",
     "height": 136
    },
    "colab_type": "code",
    "id": "dCvg3RofbqxV",
    "outputId": "11b59855-7fd1-4983-900e-43b74c516cdd"
   },
   "outputs": [
    {
     "name": "stdout",
     "output_type": "stream",
     "text": [
      "/Users/aaronmoskowitz/Documents/SML_Project_Data\n",
      "cross_entrophy_dim_500_class_25668.h5\n",
      "cross_entrophy_dim_500_class_count_25668.h5\n",
      "cross_entrophy_dim_500_class_count_28k_new.h5\n",
      "cross_entrophy_dim_500_class_count_5000_new.h5\n",
      "cross_entrophy_dim_500_class_count_500_new.h5\n",
      "cross_entrophy_dim_500_class_count_566_new.h5\n",
      "cross_entrophy_dim_500_class_weighed.h5\n",
      "\u001b[34mdata\u001b[m\u001b[m\n",
      "data.zip\n",
      "\u001b[34mdata_25668\u001b[m\u001b[m\n",
      "\u001b[34mdata_25668_2019_11_23\u001b[m\u001b[m\n",
      "\u001b[34mdata_25668_old\u001b[m\u001b[m\n",
      "\u001b[34mdata_25720_old\u001b[m\u001b[m\n",
      "\u001b[34mdata_5000_old\u001b[m\u001b[m\n",
      "\u001b[34mdata_saveddd\u001b[m\u001b[m\n",
      "\u001b[34mdownsized_data\u001b[m\u001b[m\n",
      "\u001b[34mdownsized_data_saved\u001b[m\u001b[m\n",
      "\u001b[34mhistory\u001b[m\u001b[m\n",
      "logistic_cross_entrophy_dim_500_count_28k.h5\n",
      "logistic_cross_entrophy_dim_500_count_500_new.h5\n",
      "\u001b[34mresized_0\u001b[m\u001b[m\n",
      "\u001b[34mtrain\u001b[m\u001b[m\n",
      "train.zip.001\n",
      "train.zip.002\n",
      "train.zip.003\n",
      "train.zip.004\n",
      "train.zip.005\n",
      "trainLabels.csv\n",
      "trainLabels.csv.zip\n",
      "\u001b[34mtrain_001\u001b[m\u001b[m\n",
      "\u001b[34mtrain_002\u001b[m\u001b[m\n",
      "\u001b[34mtrain_003\u001b[m\u001b[m\n",
      "\u001b[34mtrain_004\u001b[m\u001b[m\n",
      "\u001b[34mtrain_005\u001b[m\u001b[m\n"
     ]
    }
   ],
   "source": [
    "!pwd\n",
    "os.chdir(directory)\n",
    "!ls"
   ]
  },
  {
   "cell_type": "code",
   "execution_count": 81,
   "metadata": {
    "colab": {
     "base_uri": "https://localhost:8080/",
     "height": 119
    },
    "colab_type": "code",
    "id": "0r8ukaxHmx9O",
    "outputId": "c1dd5846-df82-495b-a284-5f3129d93b3b"
   },
   "outputs": [],
   "source": [
    "#!apt-get install p7zip-full\n",
    "\n",
    "#!p7zip -d data.zip\n"
   ]
  },
  {
   "cell_type": "code",
   "execution_count": 82,
   "metadata": {
    "colab": {
     "base_uri": "https://localhost:8080/",
     "height": 221
    },
    "colab_type": "code",
    "id": "jAcAg1oGYTVE",
    "outputId": "89c6bab1-8d23-4c87-8bd9-96e84a02d895"
   },
   "outputs": [],
   "source": [
    "#!7za e data.zip"
   ]
  },
  {
   "cell_type": "code",
   "execution_count": 83,
   "metadata": {
    "colab": {},
    "colab_type": "code",
    "id": "z1qyKoIyuVZC"
   },
   "outputs": [],
   "source": [
    "#!pip install h5py\n",
    "\n",
    "#!pwd # just to see where you are, optional\n",
    "# !ls -lt # just to see what is in that directory, optional\n",
    "#!unzip -qq dogs-vs-cats.zip\n",
    "# etc."
   ]
  },
  {
   "cell_type": "code",
   "execution_count": 84,
   "metadata": {
    "colab": {
     "base_uri": "https://localhost:8080/",
     "height": 119
    },
    "colab_type": "code",
    "id": "fJ6lYil5QGwN",
    "outputId": "47d2a7b2-5a79-43af-86f7-5bd5d9f54f48"
   },
   "outputs": [],
   "source": [
    "#!unzip -qq data.zip"
   ]
  },
  {
   "cell_type": "code",
   "execution_count": 85,
   "metadata": {
    "colab": {},
    "colab_type": "code",
    "id": "_bWq4La-ff0v"
   },
   "outputs": [],
   "source": [
    "#!unzip -qq train.zip\n",
    "#!unzip -qq test1.zip"
   ]
  },
  {
   "cell_type": "markdown",
   "metadata": {
    "colab_type": "text",
    "id": "WQEwdbFmGJlz"
   },
   "source": [
    "# Create Directories"
   ]
  },
  {
   "cell_type": "code",
   "execution_count": 86,
   "metadata": {
    "colab": {
     "base_uri": "https://localhost:8080/",
     "height": 51
    },
    "colab_type": "code",
    "id": "DquqqA7kFgRt",
    "outputId": "3d51c138-749f-4942-ff61-0726881631a9"
   },
   "outputs": [
    {
     "name": "stdout",
     "output_type": "stream",
     "text": [
      "Folder Already Exists \n",
      "\n"
     ]
    }
   ],
   "source": [
    "# Directory of training data\n",
    "\n",
    "original_base_dir = directory\n",
    "\n",
    "\n",
    "base_dir = original_base_dir + \"/data\"\n",
    "\n",
    "try:\n",
    "    os.mkdir(base_dir)\n",
    "except FileExistsError:\n",
    "  print('Folder Already Exists \\n')\n",
    "else:\n",
    "  print('Creating Folder \\n')"
   ]
  },
  {
   "cell_type": "code",
   "execution_count": 87,
   "metadata": {
    "colab": {},
    "colab_type": "code",
    "id": "mZU6LIxuMtXC"
   },
   "outputs": [],
   "source": [
    "history_dir = directory + '/history'\n",
    "\n",
    "train_dir = os.path.join(directory, 'data', 'train')\n",
    "val_dir = os.path.join(directory, 'data', 'val')\n",
    "#test_dir = os.path.join(directory, 'data','test')\n",
    "\n",
    "train_0_dir = os.path.join(train_dir, 'resized_0')\n",
    "train_1_dir = os.path.join(train_dir, 'resized_1')\n",
    "train_2_dir = os.path.join(train_dir, 'resized_2')\n",
    "train_3_dir = os.path.join(train_dir, 'resized_3')\n",
    "train_4_dir = os.path.join(train_dir, 'resized_4')\n",
    "\n",
    "val_0_dir = os.path.join(val_dir, 'resized_0')\n",
    "val_1_dir = os.path.join(val_dir, 'resized_1')\n",
    "val_2_dir = os.path.join(val_dir, 'resized_2')\n",
    "val_3_dir = os.path.join(val_dir, 'resized_3')\n",
    "val_4_dir = os.path.join(val_dir, 'resized_4')\n",
    "\n",
    "#test_cats_dir = os.path.join(test_dir, 'cats')\n",
    "#test_dogs_dir = os.path.join(test_dir, 'dogs')\n",
    "\n",
    "def create_folder(path):\n",
    "  print('Looking to create folder of', path)\n",
    "  try:\n",
    "      os.mkdir(path)\n",
    "  except FileExistsError:\n",
    "    print('Folder Already Exists \\n')\n",
    "  else:\n",
    "    print('Creating Folder \\n')"
   ]
  },
  {
   "cell_type": "code",
   "execution_count": 88,
   "metadata": {
    "colab": {
     "base_uri": "https://localhost:8080/",
     "height": 68
    },
    "colab_type": "code",
    "id": "9fxV2eHOO2cb",
    "outputId": "b13bbbfb-3f78-47cc-cb5e-23e5ca9b0067"
   },
   "outputs": [
    {
     "name": "stdout",
     "output_type": "stream",
     "text": [
      "Looking to create folder of ../SML_Project_Data/history\n",
      "Folder Already Exists \n",
      "\n"
     ]
    }
   ],
   "source": [
    "# Store history files\n",
    "history_dir = directory + '/history'\n",
    "create_folder(history_dir)"
   ]
  },
  {
   "cell_type": "code",
   "execution_count": 89,
   "metadata": {
    "colab": {
     "base_uri": "https://localhost:8080/",
     "height": 527
    },
    "colab_type": "code",
    "id": "Tf4T9dOqOCZO",
    "outputId": "c6743b5e-fad8-44ba-b408-5c1fc46819dc"
   },
   "outputs": [
    {
     "name": "stdout",
     "output_type": "stream",
     "text": [
      "Looking to create folder of ../SML_Project_Data/data/train/resized_0\n",
      "Folder Already Exists \n",
      "\n",
      "Looking to create folder of ../SML_Project_Data/data/train/resized_1\n",
      "Folder Already Exists \n",
      "\n",
      "Looking to create folder of ../SML_Project_Data/data/train/resized_2\n",
      "Folder Already Exists \n",
      "\n",
      "Looking to create folder of ../SML_Project_Data/data/train/resized_3\n",
      "Folder Already Exists \n",
      "\n",
      "Looking to create folder of ../SML_Project_Data/data/train/resized_4\n",
      "Folder Already Exists \n",
      "\n",
      "Looking to create folder of ../SML_Project_Data/data/val/resized_0\n",
      "Folder Already Exists \n",
      "\n",
      "Looking to create folder of ../SML_Project_Data/data/val/resized_1\n",
      "Folder Already Exists \n",
      "\n",
      "Looking to create folder of ../SML_Project_Data/data/val/resized_2\n",
      "Folder Already Exists \n",
      "\n",
      "Looking to create folder of ../SML_Project_Data/data/val/resized_3\n",
      "Folder Already Exists \n",
      "\n",
      "Looking to create folder of ../SML_Project_Data/data/val/resized_4\n",
      "Folder Already Exists \n",
      "\n"
     ]
    }
   ],
   "source": [
    "# Create all Train and Validate Folders in Data with Folders for Each Class\n",
    "for data_type in ('train', 'val'):\n",
    "  for disease in (0, 1, 2, 3, 4):\n",
    "    path = directory + '/data/' + data_type + '/resized_' + str(disease)\n",
    "    create_folder(path)"
   ]
  },
  {
   "cell_type": "markdown",
   "metadata": {
    "colab_type": "text",
    "id": "MOJvwzl2GM5T"
   },
   "source": [
    "# Move Files into Directories (Not Done)"
   ]
  },
  {
   "cell_type": "code",
   "execution_count": 90,
   "metadata": {
    "colab": {
     "base_uri": "https://localhost:8080/",
     "height": 54
    },
    "colab_type": "code",
    "id": "6_7RNFTxO2ce",
    "outputId": "c793ea63-56bf-42ce-801b-ae7289c2da72"
   },
   "outputs": [
    {
     "data": {
      "text/plain": [
       "\"\\n# Copy first 1000 cat images to train_cats_dir\\nfnames = ['cat.{}.jpg'.format(i) for i in range(1000)]\\nfor fname in fnames:\\n    src = os.path.join(original_dataset_dir, fname)\\n    dst = os.path.join(train_cats_dir, fname)\\n    shutil.copyfile(src, dst)\\n\\n# Copy next 500 cat images to validation_cats_dir\\nfnames = ['cat.{}.jpg'.format(i) for i in range(1000, 1500)]\\nfor fname in fnames:\\n    src = os.path.join(original_dataset_dir, fname)\\n    dst = os.path.join(validation_cats_dir, fname)\\n    shutil.copyfile(src, dst)\\n    \\n# Copy next 500 cat images to test_cats_dir\\nfnames = ['cat.{}.jpg'.format(i) for i in range(1500, 2000)]\\nfor fname in fnames:\\n    src = os.path.join(original_dataset_dir, fname)\\n    dst = os.path.join(test_cats_dir, fname)\\n    shutil.copyfile(src, dst)\\n    \\n# Copy first 1000 dog images to train_dogs_dir\\nfnames = ['dog.{}.jpg'.format(i) for i in range(1000)]\\nfor fname in fnames:\\n    src = os.path.join(original_dataset_dir, fname)\\n    dst = os.path.join(train_dogs_dir, fname)\\n    shutil.copyfile(src, dst)\\n    \\n# Copy next 500 dog images to validation_dogs_dir\\nfnames = ['dog.{}.jpg'.format(i) for i in range(1000, 1500)]\\nfor fname in fnames:\\n    src = os.path.join(original_dataset_dir, fname)\\n    dst = os.path.join(validation_dogs_dir, fname)\\n    shutil.copyfile(src, dst)\\n    \\n# Copy next 500 dog images to test_dogs_dir\\nfnames = ['dog.{}.jpg'.format(i) for i in range(1500, 2000)]\\nfor fname in fnames:\\n    src = os.path.join(original_dataset_dir, fname)\\n    dst = os.path.join(test_dogs_dir, fname)\\n    shutil.copyfile(src, dst)\\n\""
      ]
     },
     "execution_count": 90,
     "metadata": {},
     "output_type": "execute_result"
    }
   ],
   "source": [
    "# Move files from one folder to another, didn't work, so did it manually\n",
    "'''\n",
    "# Copy first 1000 cat images to train_cats_dir\n",
    "fnames = ['cat.{}.jpg'.format(i) for i in range(1000)]\n",
    "for fname in fnames:\n",
    "    src = os.path.join(original_dataset_dir, fname)\n",
    "    dst = os.path.join(train_cats_dir, fname)\n",
    "    shutil.copyfile(src, dst)\n",
    "\n",
    "# Copy next 500 cat images to validation_cats_dir\n",
    "fnames = ['cat.{}.jpg'.format(i) for i in range(1000, 1500)]\n",
    "for fname in fnames:\n",
    "    src = os.path.join(original_dataset_dir, fname)\n",
    "    dst = os.path.join(validation_cats_dir, fname)\n",
    "    shutil.copyfile(src, dst)\n",
    "    \n",
    "# Copy next 500 cat images to test_cats_dir\n",
    "fnames = ['cat.{}.jpg'.format(i) for i in range(1500, 2000)]\n",
    "for fname in fnames:\n",
    "    src = os.path.join(original_dataset_dir, fname)\n",
    "    dst = os.path.join(test_cats_dir, fname)\n",
    "    shutil.copyfile(src, dst)\n",
    "    \n",
    "# Copy first 1000 dog images to train_dogs_dir\n",
    "fnames = ['dog.{}.jpg'.format(i) for i in range(1000)]\n",
    "for fname in fnames:\n",
    "    src = os.path.join(original_dataset_dir, fname)\n",
    "    dst = os.path.join(train_dogs_dir, fname)\n",
    "    shutil.copyfile(src, dst)\n",
    "    \n",
    "# Copy next 500 dog images to validation_dogs_dir\n",
    "fnames = ['dog.{}.jpg'.format(i) for i in range(1000, 1500)]\n",
    "for fname in fnames:\n",
    "    src = os.path.join(original_dataset_dir, fname)\n",
    "    dst = os.path.join(validation_dogs_dir, fname)\n",
    "    shutil.copyfile(src, dst)\n",
    "    \n",
    "# Copy next 500 dog images to test_dogs_dir\n",
    "fnames = ['dog.{}.jpg'.format(i) for i in range(1500, 2000)]\n",
    "for fname in fnames:\n",
    "    src = os.path.join(original_dataset_dir, fname)\n",
    "    dst = os.path.join(test_dogs_dir, fname)\n",
    "    shutil.copyfile(src, dst)\n",
    "'''"
   ]
  },
  {
   "cell_type": "markdown",
   "metadata": {
    "colab_type": "text",
    "id": "YHHcJz0aEl6O"
   },
   "source": [
    "As a sanity check, let's count how many pictures we have in each training split (train/validation):"
   ]
  },
  {
   "cell_type": "code",
   "execution_count": 91,
   "metadata": {
    "colab": {
     "base_uri": "https://localhost:8080/",
     "height": 187
    },
    "colab_type": "code",
    "id": "af6t__kfwRsh",
    "outputId": "7596c9e0-ec61-4e23-c3a6-d638c47d50c1"
   },
   "outputs": [
    {
     "name": "stdout",
     "output_type": "stream",
     "text": [
      "Total train disease level 0 images: 566\n",
      "Total train disease level 1 images: 566\n",
      "Total train disease level 2 images: 566\n",
      "Total train disease level 3 images: 566\n",
      "Total train disease level 4 images: 566\n",
      "Total val disease level 0 images: 71\n",
      "Total val disease level 1 images: 71\n",
      "Total val disease level 2 images: 71\n",
      "Total val disease level 3 images: 71\n",
      "Total val disease level 4 images: 71\n",
      "Total test disease level 0 images: 71\n",
      "Total test disease level 1 images: 71\n",
      "Total test disease level 2 images: 71\n",
      "Total test disease level 3 images: 71\n",
      "Total test disease level 4 images: 71\n"
     ]
    }
   ],
   "source": [
    "train_count_dict = {\"resized_0\": 0,\n",
    "                        \"resized_1\": 0,\n",
    "                        \"resized_2\": 0,\n",
    "                        \"resized_3\": 0,\n",
    "                        \"resized_4\": 0}\n",
    "for data_type in ('train', 'val','test'):\n",
    "  for disease in (0, 1, 2, 3, 4):\n",
    "    path = directory + '/data/' + data_type + '/resized_' + str(disease)\n",
    "    train_count = len(os.listdir(path))\n",
    "    if data_type == 'train':\n",
    "        train_count_dict.update({'resized_' + str(disease) : train_count})\n",
    "    print('Total ' + data_type + ' disease level ' + str(disease) + ' images:', train_count)"
   ]
  },
  {
   "cell_type": "code",
   "execution_count": 92,
   "metadata": {},
   "outputs": [
    {
     "data": {
      "text/plain": [
       "{'resized_0': 566,\n",
       " 'resized_1': 566,\n",
       " 'resized_2': 566,\n",
       " 'resized_3': 566,\n",
       " 'resized_4': 566}"
      ]
     },
     "execution_count": 92,
     "metadata": {},
     "output_type": "execute_result"
    }
   ],
   "source": [
    "train_count_dict"
   ]
  },
  {
   "cell_type": "markdown",
   "metadata": {
    "colab_type": "text",
    "id": "OWheSEWvO2cv"
   },
   "source": [
    "## Create CNN Network"
   ]
  },
  {
   "cell_type": "code",
   "execution_count": 93,
   "metadata": {
    "colab": {
     "base_uri": "https://localhost:8080/",
     "height": 173
    },
    "colab_type": "code",
    "id": "HdQn1MZLO2cw",
    "outputId": "b30f6a8b-678f-4da7-8be9-3f41a4be8309"
   },
   "outputs": [],
   "source": [
    "from keras import layers\n",
    "from keras import models\n",
    "\n",
    "x = 500\n",
    "y = 500\n",
    "\n",
    "model = models.Sequential()\n",
    "model.add(layers.Conv2D(32, kernel_size=(3, 3), activation='relu',\n",
    "                        input_shape=(x, y, 3)))\n",
    "model.add(layers.MaxPooling2D((2, 2)))\n",
    "model.add(layers.Conv2D(64, (3, 3), activation='relu'))\n",
    "model.add(layers.MaxPooling2D((2, 2)))\n",
    "model.add(layers.Conv2D(128, (3, 3), activation='relu'))\n",
    "model.add(layers.MaxPooling2D((2, 2)))\n",
    "model.add(layers.Conv2D(128, (3, 3), activation='relu'))\n",
    "model.add(layers.MaxPooling2D((2, 2)))\n",
    "model.add(layers.Flatten())\n",
    "model.add(layers.Dense(512, activation='relu'))\n",
    "\n",
    "# Output Layer\n",
    "#model.add(layers.Dense(1, activation='sigmoid')) # Used for binary class\n",
    "model.add(layers.Dense(5, activation='softmax'))"
   ]
  },
  {
   "cell_type": "markdown",
   "metadata": {
    "colab_type": "text",
    "id": "jEGXJSmWO2cy"
   },
   "source": [
    "Let's take a look at how the dimensions of the feature maps change with every successive layer:"
   ]
  },
  {
   "cell_type": "code",
   "execution_count": 94,
   "metadata": {
    "colab": {
     "base_uri": "https://localhost:8080/",
     "height": 527
    },
    "colab_type": "code",
    "id": "-X8rG_9BO2cy",
    "outputId": "fc7e89a5-c8c8-400d-ee61-ccf86e28df5a"
   },
   "outputs": [
    {
     "name": "stdout",
     "output_type": "stream",
     "text": [
      "_________________________________________________________________\n",
      "Layer (type)                 Output Shape              Param #   \n",
      "=================================================================\n",
      "conv2d_9 (Conv2D)            (None, 498, 498, 32)      896       \n",
      "_________________________________________________________________\n",
      "max_pooling2d_9 (MaxPooling2 (None, 249, 249, 32)      0         \n",
      "_________________________________________________________________\n",
      "conv2d_10 (Conv2D)           (None, 247, 247, 64)      18496     \n",
      "_________________________________________________________________\n",
      "max_pooling2d_10 (MaxPooling (None, 123, 123, 64)      0         \n",
      "_________________________________________________________________\n",
      "conv2d_11 (Conv2D)           (None, 121, 121, 128)     73856     \n",
      "_________________________________________________________________\n",
      "max_pooling2d_11 (MaxPooling (None, 60, 60, 128)       0         \n",
      "_________________________________________________________________\n",
      "conv2d_12 (Conv2D)           (None, 58, 58, 128)       147584    \n",
      "_________________________________________________________________\n",
      "max_pooling2d_12 (MaxPooling (None, 29, 29, 128)       0         \n",
      "_________________________________________________________________\n",
      "flatten_3 (Flatten)          (None, 107648)            0         \n",
      "_________________________________________________________________\n",
      "dense_5 (Dense)              (None, 512)               55116288  \n",
      "_________________________________________________________________\n",
      "dense_6 (Dense)              (None, 5)                 2565      \n",
      "=================================================================\n",
      "Total params: 55,359,685\n",
      "Trainable params: 55,359,685\n",
      "Non-trainable params: 0\n",
      "_________________________________________________________________\n"
     ]
    }
   ],
   "source": [
    "model.summary()"
   ]
  },
  {
   "cell_type": "markdown",
   "metadata": {
    "colab_type": "text",
    "id": "b3n5RAeMIDup"
   },
   "source": [
    "# Parameter Explenation Work:"
   ]
  },
  {
   "cell_type": "code",
   "execution_count": 95,
   "metadata": {
    "colab": {
     "base_uri": "https://localhost:8080/",
     "height": 85
    },
    "colab_type": "code",
    "id": "F8a8b6UXO2c0",
    "outputId": "972080d9-dcd2-4141-b785-eaab03bb588d"
   },
   "outputs": [],
   "source": [
    "from keras import optimizers\n",
    "\n",
    "model.compile(loss='categorical_crossentropy', # Changed from binary\n",
    "              #optimizer=optimizers.Adam(),\n",
    "              optimizer=optimizers.RMSprop(lr=1e-4), # other optimizer was used previously in binary task\n",
    "              metrics=['acc'])"
   ]
  },
  {
   "cell_type": "markdown",
   "metadata": {
    "colab_type": "text",
    "id": "tM0MPJPjO2c2"
   },
   "source": [
    "## Data preprocessing\n",
    "\n",
    "As you already know by now, data should be formatted into appropriately pre-processed floating point tensors before being fed into our \n",
    "network. Currently, our data sits on a drive as JPEG files, so the steps for getting it into our network are roughly:\n",
    "\n",
    "* Read the picture files.\n",
    "* Decode the JPEG content to RBG grids of pixels.\n",
    "* Convert these into floating point tensors.\n",
    "* Rescale the pixel values (between 0 and 255) to the [0, 1] interval (as you know, neural networks prefer to deal with small input values).\n",
    "\n",
    "It may seem a bit daunting, but thankfully Keras has utilities to take care of these steps automatically. Keras has a module with image \n",
    "processing helper tools, located at `keras.preprocessing.image`. In particular, it contains the class `ImageDataGenerator` which allows to \n",
    "quickly set up Python generators that can automatically turn image files on disk into batches of pre-processed tensors. This is what we \n",
    "will use here."
   ]
  },
  {
   "cell_type": "code",
   "execution_count": 96,
   "metadata": {
    "colab": {
     "base_uri": "https://localhost:8080/",
     "height": 51
    },
    "colab_type": "code",
    "id": "cbA--wZcO2c2",
    "outputId": "6b29906d-bc41-470e-c3b5-4f26394cd4e5"
   },
   "outputs": [
    {
     "name": "stdout",
     "output_type": "stream",
     "text": [
      "Found 2830 images belonging to 5 classes.\n",
      "{'resized_0': 0, 'resized_1': 1, 'resized_2': 2, 'resized_3': 3, 'resized_4': 4}\n",
      "Found 355 images belonging to 5 classes.\n"
     ]
    }
   ],
   "source": [
    "from keras.preprocessing.image import ImageDataGenerator\n",
    "\n",
    "# All images will be rescaled by 1./255\n",
    "train_datagen = ImageDataGenerator(rescale=1./255)\n",
    "test_datagen = ImageDataGenerator(rescale=1./255)\n",
    "\n",
    "train_generator = train_datagen.flow_from_directory(\n",
    "        # This is the target directory\n",
    "        train_dir,\n",
    "        # All images will be resized to 150x150\n",
    "        target_size=(x, y),\n",
    "        batch_size=20,\n",
    "        # Since we use binary_crossentropy loss, we need binary labels\n",
    "        class_mode='categorical') # Changed from binary\n",
    "\n",
    "print(train_generator.class_indices)\n",
    "\n",
    "validation_generator = test_datagen.flow_from_directory(\n",
    "        val_dir,\n",
    "        target_size=(x, y),\n",
    "        batch_size=20,\n",
    "        class_mode='categorical') # Changed from binary"
   ]
  },
  {
   "cell_type": "code",
   "execution_count": 97,
   "metadata": {
    "colab": {
     "base_uri": "https://localhost:8080/",
     "height": 34
    },
    "colab_type": "code",
    "id": "nlneEVP1icrZ",
    "outputId": "b62dc7cb-879e-483f-f773-1043dd7b8801"
   },
   "outputs": [
    {
     "data": {
      "text/plain": [
       "<keras_preprocessing.image.directory_iterator.DirectoryIterator at 0x1576f4f28>"
      ]
     },
     "execution_count": 97,
     "metadata": {},
     "output_type": "execute_result"
    }
   ],
   "source": [
    "train_generator"
   ]
  },
  {
   "cell_type": "code",
   "execution_count": 98,
   "metadata": {
    "colab": {},
    "colab_type": "code",
    "id": "9NDt5kU6O2c4"
   },
   "outputs": [],
   "source": [
    "#!pip install pillow"
   ]
  },
  {
   "cell_type": "code",
   "execution_count": 99,
   "metadata": {
    "colab": {
     "base_uri": "https://localhost:8080/",
     "height": 51
    },
    "colab_type": "code",
    "id": "GU0QXTntO2c6",
    "outputId": "ef247ee2-b47c-4828-a72d-96f42d1dae90"
   },
   "outputs": [
    {
     "name": "stdout",
     "output_type": "stream",
     "text": [
      "data batch shape: (20, 500, 500, 3)\n",
      "labels batch shape: (20, 5)\n"
     ]
    }
   ],
   "source": [
    "for data_batch, labels_batch in train_generator:\n",
    "    print('data batch shape:', data_batch.shape)\n",
    "    print('labels batch shape:', labels_batch.shape)\n",
    "    break"
   ]
  },
  {
   "cell_type": "code",
   "execution_count": 100,
   "metadata": {
    "colab": {
     "base_uri": "https://localhost:8080/",
     "height": 850
    },
    "colab_type": "code",
    "id": "6FGs8utflkEj",
    "outputId": "b53ced2e-858e-4289-eb08-00736a33a977"
   },
   "outputs": [
    {
     "data": {
      "text/plain": [
       "array([[[0., 0., 0.],\n",
       "        [0., 0., 0.],\n",
       "        [0., 0., 0.],\n",
       "        ...,\n",
       "        [0., 0., 0.],\n",
       "        [0., 0., 0.],\n",
       "        [0., 0., 0.]],\n",
       "\n",
       "       [[0., 0., 0.],\n",
       "        [0., 0., 0.],\n",
       "        [0., 0., 0.],\n",
       "        ...,\n",
       "        [0., 0., 0.],\n",
       "        [0., 0., 0.],\n",
       "        [0., 0., 0.]],\n",
       "\n",
       "       [[0., 0., 0.],\n",
       "        [0., 0., 0.],\n",
       "        [0., 0., 0.],\n",
       "        ...,\n",
       "        [0., 0., 0.],\n",
       "        [0., 0., 0.],\n",
       "        [0., 0., 0.]],\n",
       "\n",
       "       ...,\n",
       "\n",
       "       [[0., 0., 0.],\n",
       "        [0., 0., 0.],\n",
       "        [0., 0., 0.],\n",
       "        ...,\n",
       "        [0., 0., 0.],\n",
       "        [0., 0., 0.],\n",
       "        [0., 0., 0.]],\n",
       "\n",
       "       [[0., 0., 0.],\n",
       "        [0., 0., 0.],\n",
       "        [0., 0., 0.],\n",
       "        ...,\n",
       "        [0., 0., 0.],\n",
       "        [0., 0., 0.],\n",
       "        [0., 0., 0.]],\n",
       "\n",
       "       [[0., 0., 0.],\n",
       "        [0., 0., 0.],\n",
       "        [0., 0., 0.],\n",
       "        ...,\n",
       "        [0., 0., 0.],\n",
       "        [0., 0., 0.],\n",
       "        [0., 0., 0.]]], dtype=float32)"
      ]
     },
     "execution_count": 100,
     "metadata": {},
     "output_type": "execute_result"
    }
   ],
   "source": [
    "data_batch[1]"
   ]
  },
  {
   "cell_type": "code",
   "execution_count": 101,
   "metadata": {
    "colab": {
     "base_uri": "https://localhost:8080/",
     "height": 357
    },
    "colab_type": "code",
    "id": "16wAM7rZldSI",
    "outputId": "9fa952fc-6aed-4d1a-910f-85e52db64c91"
   },
   "outputs": [
    {
     "data": {
      "text/plain": [
       "array([[0., 0., 0., 1., 0.],\n",
       "       [0., 0., 1., 0., 0.],\n",
       "       [0., 0., 1., 0., 0.],\n",
       "       [1., 0., 0., 0., 0.],\n",
       "       [1., 0., 0., 0., 0.],\n",
       "       [0., 0., 0., 0., 1.],\n",
       "       [0., 0., 0., 0., 1.],\n",
       "       [1., 0., 0., 0., 0.],\n",
       "       [0., 1., 0., 0., 0.],\n",
       "       [1., 0., 0., 0., 0.],\n",
       "       [0., 0., 1., 0., 0.],\n",
       "       [0., 1., 0., 0., 0.],\n",
       "       [0., 0., 0., 1., 0.],\n",
       "       [0., 1., 0., 0., 0.],\n",
       "       [0., 0., 0., 0., 1.],\n",
       "       [0., 1., 0., 0., 0.],\n",
       "       [0., 0., 0., 1., 0.],\n",
       "       [0., 1., 0., 0., 0.],\n",
       "       [0., 0., 0., 0., 1.],\n",
       "       [0., 1., 0., 0., 0.]], dtype=float32)"
      ]
     },
     "execution_count": 101,
     "metadata": {},
     "output_type": "execute_result"
    }
   ],
   "source": [
    "labels_batch"
   ]
  },
  {
   "cell_type": "markdown",
   "metadata": {
    "colab_type": "text",
    "id": "wlVoayCOO2c7"
   },
   "source": [
    "Let's fit our model to the data using the generator. We do it using the `fit_generator` method, the equivalent of `fit` for data generators \n",
    "like ours. It expects as first argument a Python generator that will yield batches of inputs and targets indefinitely, like ours does. \n",
    "Because the data is being generated endlessly, the generator needs to know example how many samples to draw from the generator before \n",
    "declaring an epoch over. This is the role of the `steps_per_epoch` argument: after having drawn `steps_per_epoch` batches from the \n",
    "generator, i.e. after having run for `steps_per_epoch` gradient descent steps, the fitting process will go to the next epoch. In our case, \n",
    "batches are 20-sample large, so it will take 100 batches until we see our target of 2000 samples.\n",
    "\n",
    "When using `fit_generator`, one may pass a `validation_data` argument, much like with the `fit` method. Importantly, this argument is \n",
    "allowed to be a data generator itself, but it could be a tuple of Numpy arrays as well. If you pass a generator as `validation_data`, then \n",
    "this generator is expected to yield batches of validation data endlessly, and thus you should also specify the `validation_steps` argument, \n",
    "which tells the process how many batches to draw from the validation generator for evaluation."
   ]
  },
  {
   "cell_type": "code",
   "execution_count": 102,
   "metadata": {},
   "outputs": [],
   "source": [
    "{0: 0.2 / (train_count_dict.get(\"resized_0\")),\n",
    "                     1: 0.2 / (train_count_dict.get(\"resized_1\")),\n",
    "                    2: 0.2 / (train_count_dict.get(\"resized_2\")),\n",
    "                    3: 0.2 / (train_count_dict.get(\"resized_3\")),\n",
    "                    4: 0.2 / (train_count_dict.get(\"resized_4\"))\n",
    "                 }\n",
    "\n",
    "total_count_training_int = (train_count_dict.get(\"resized_0\") +\n",
    "                              train_count_dict.get(\"resized_1\") +\n",
    "                              train_count_dict.get(\"resized_2\") +\n",
    "                              train_count_dict.get(\"resized_3\") +\n",
    "                              train_count_dict.get(\"resized_4\")\n",
    "                             )\n",
    "\n",
    "class_weight = {0: (train_count_dict.get(\"resized_0\") /total_count_training_int),\n",
    "                 1: (train_count_dict.get(\"resized_1\") /total_count_training_int),\n",
    "                2: (train_count_dict.get(\"resized_2\")/ total_count_training_int),\n",
    "                3: (train_count_dict.get(\"resized_3\")/ total_count_training_int),\n",
    "                4: (train_count_dict.get(\"resized_4\")/ total_count_training_int)\n",
    "             }"
   ]
  },
  {
   "cell_type": "code",
   "execution_count": 103,
   "metadata": {
    "colab": {},
    "colab_type": "code",
    "id": "8gaGfkjSO2c8"
   },
   "outputs": [
    {
     "name": "stdout",
     "output_type": "stream",
     "text": [
      "Epoch 1/15\n",
      "100/100 [==============================] - 326s 3s/step - loss: 1.6199 - acc: 0.2195 - val_loss: 1.9062 - val_acc: 0.1980\n",
      "\n",
      "Epoch 00001: val_loss improved from inf to 1.90619, saving model to ../SML_Project_Data/cross_entrophy_dim_500_class_566.h5\n",
      "Epoch 2/15\n",
      "100/100 [==============================] - 322s 3s/step - loss: 1.5812 - acc: 0.2755 - val_loss: 1.6045 - val_acc: 0.2518\n",
      "\n",
      "Epoch 00002: val_loss improved from 1.90619 to 1.60450, saving model to ../SML_Project_Data/cross_entrophy_dim_500_class_566.h5\n",
      "Epoch 3/15\n",
      "100/100 [==============================] - 323s 3s/step - loss: 1.5573 - acc: 0.2875 - val_loss: 1.6105 - val_acc: 0.2173\n",
      "\n",
      "Epoch 00003: val_loss did not improve from 1.60450\n",
      "Epoch 4/15\n",
      "100/100 [==============================] - 324s 3s/step - loss: 1.5361 - acc: 0.3265 - val_loss: 1.6185 - val_acc: 0.2244\n",
      "\n",
      "Epoch 00004: val_loss did not improve from 1.60450\n",
      "Epoch 5/15\n",
      "100/100 [==============================] - 325s 3s/step - loss: 1.5118 - acc: 0.3275 - val_loss: 1.6276 - val_acc: 0.2384\n",
      "\n",
      "Epoch 00005: val_loss did not improve from 1.60450\n",
      "Epoch 6/15\n",
      "100/100 [==============================] - 319s 3s/step - loss: 1.4854 - acc: 0.3600 - val_loss: 1.6685 - val_acc: 0.2629\n",
      "\n",
      "Epoch 00006: val_loss did not improve from 1.60450\n",
      "Epoch 7/15\n",
      "100/100 [==============================] - 322s 3s/step - loss: 1.4827 - acc: 0.3640 - val_loss: 1.5937 - val_acc: 0.2751\n",
      "\n",
      "Epoch 00007: val_loss improved from 1.60450 to 1.59372, saving model to ../SML_Project_Data/cross_entrophy_dim_500_class_566.h5\n",
      "Epoch 8/15\n",
      "100/100 [==============================] - 322s 3s/step - loss: 1.4492 - acc: 0.3780 - val_loss: 1.6093 - val_acc: 0.2832\n",
      "\n",
      "Epoch 00008: val_loss did not improve from 1.59372\n",
      "Epoch 9/15\n",
      "100/100 [==============================] - 323s 3s/step - loss: 1.4076 - acc: 0.3935 - val_loss: 1.6320 - val_acc: 0.2761\n",
      "\n",
      "Epoch 00009: val_loss did not improve from 1.59372\n",
      "Epoch 10/15\n",
      "100/100 [==============================] - 324s 3s/step - loss: 1.4167 - acc: 0.4025 - val_loss: 1.5945 - val_acc: 0.2869\n",
      "\n",
      "Epoch 00010: val_loss did not improve from 1.59372\n",
      "Epoch 11/15\n",
      "100/100 [==============================] - 329s 3s/step - loss: 1.3692 - acc: 0.4265 - val_loss: 1.6022 - val_acc: 0.2812\n",
      "\n",
      "Epoch 00011: val_loss did not improve from 1.59372\n",
      "Epoch 12/15\n",
      "  3/100 [..............................] - ETA: 5:18 - loss: 1.2962 - acc: 0.4833"
     ]
    },
    {
     "ename": "KeyboardInterrupt",
     "evalue": "",
     "output_type": "error",
     "traceback": [
      "\u001b[0;31m---------------------------------------------------------------------------\u001b[0m",
      "\u001b[0;31mKeyboardInterrupt\u001b[0m                         Traceback (most recent call last)",
      "\u001b[0;32m<ipython-input-103-9b5d400bc6ab>\u001b[0m in \u001b[0;36m<module>\u001b[0;34m\u001b[0m\n\u001b[1;32m     19\u001b[0m         \u001b[0mvalidation_data\u001b[0m\u001b[0;34m=\u001b[0m\u001b[0mvalidation_generator\u001b[0m\u001b[0;34m,\u001b[0m\u001b[0;34m\u001b[0m\u001b[0;34m\u001b[0m\u001b[0m\n\u001b[1;32m     20\u001b[0m         \u001b[0mvalidation_steps\u001b[0m\u001b[0;34m=\u001b[0m\u001b[0;36m50\u001b[0m\u001b[0;34m,\u001b[0m\u001b[0;34m\u001b[0m\u001b[0;34m\u001b[0m\u001b[0m\n\u001b[0;32m---> 21\u001b[0;31m         \u001b[0mcallbacks\u001b[0m\u001b[0;34m=\u001b[0m\u001b[0mcallbacks_list\u001b[0m\u001b[0;34m,\u001b[0m\u001b[0;34m\u001b[0m\u001b[0;34m\u001b[0m\u001b[0m\n\u001b[0m\u001b[1;32m     22\u001b[0m         \u001b[0;31m#class_weight = class_weight\u001b[0m\u001b[0;34m\u001b[0m\u001b[0;34m\u001b[0m\u001b[0;34m\u001b[0m\u001b[0m\n\u001b[1;32m     23\u001b[0m         )\n",
      "\u001b[0;32m/usr/local/lib/python3.7/site-packages/keras/legacy/interfaces.py\u001b[0m in \u001b[0;36mwrapper\u001b[0;34m(*args, **kwargs)\u001b[0m\n\u001b[1;32m     89\u001b[0m                 warnings.warn('Update your `' + object_name + '` call to the ' +\n\u001b[1;32m     90\u001b[0m                               'Keras 2 API: ' + signature, stacklevel=2)\n\u001b[0;32m---> 91\u001b[0;31m             \u001b[0;32mreturn\u001b[0m \u001b[0mfunc\u001b[0m\u001b[0;34m(\u001b[0m\u001b[0;34m*\u001b[0m\u001b[0margs\u001b[0m\u001b[0;34m,\u001b[0m \u001b[0;34m**\u001b[0m\u001b[0mkwargs\u001b[0m\u001b[0;34m)\u001b[0m\u001b[0;34m\u001b[0m\u001b[0;34m\u001b[0m\u001b[0m\n\u001b[0m\u001b[1;32m     92\u001b[0m         \u001b[0mwrapper\u001b[0m\u001b[0;34m.\u001b[0m\u001b[0m_original_function\u001b[0m \u001b[0;34m=\u001b[0m \u001b[0mfunc\u001b[0m\u001b[0;34m\u001b[0m\u001b[0;34m\u001b[0m\u001b[0m\n\u001b[1;32m     93\u001b[0m         \u001b[0;32mreturn\u001b[0m \u001b[0mwrapper\u001b[0m\u001b[0;34m\u001b[0m\u001b[0;34m\u001b[0m\u001b[0m\n",
      "\u001b[0;32m/usr/local/lib/python3.7/site-packages/keras/engine/training.py\u001b[0m in \u001b[0;36mfit_generator\u001b[0;34m(self, generator, steps_per_epoch, epochs, verbose, callbacks, validation_data, validation_steps, class_weight, max_queue_size, workers, use_multiprocessing, shuffle, initial_epoch)\u001b[0m\n\u001b[1;32m   1416\u001b[0m             \u001b[0muse_multiprocessing\u001b[0m\u001b[0;34m=\u001b[0m\u001b[0muse_multiprocessing\u001b[0m\u001b[0;34m,\u001b[0m\u001b[0;34m\u001b[0m\u001b[0;34m\u001b[0m\u001b[0m\n\u001b[1;32m   1417\u001b[0m             \u001b[0mshuffle\u001b[0m\u001b[0;34m=\u001b[0m\u001b[0mshuffle\u001b[0m\u001b[0;34m,\u001b[0m\u001b[0;34m\u001b[0m\u001b[0;34m\u001b[0m\u001b[0m\n\u001b[0;32m-> 1418\u001b[0;31m             initial_epoch=initial_epoch)\n\u001b[0m\u001b[1;32m   1419\u001b[0m \u001b[0;34m\u001b[0m\u001b[0m\n\u001b[1;32m   1420\u001b[0m     \u001b[0;34m@\u001b[0m\u001b[0minterfaces\u001b[0m\u001b[0;34m.\u001b[0m\u001b[0mlegacy_generator_methods_support\u001b[0m\u001b[0;34m\u001b[0m\u001b[0;34m\u001b[0m\u001b[0m\n",
      "\u001b[0;32m/usr/local/lib/python3.7/site-packages/keras/engine/training_generator.py\u001b[0m in \u001b[0;36mfit_generator\u001b[0;34m(model, generator, steps_per_epoch, epochs, verbose, callbacks, validation_data, validation_steps, class_weight, max_queue_size, workers, use_multiprocessing, shuffle, initial_epoch)\u001b[0m\n\u001b[1;32m    215\u001b[0m                 outs = model.train_on_batch(x, y,\n\u001b[1;32m    216\u001b[0m                                             \u001b[0msample_weight\u001b[0m\u001b[0;34m=\u001b[0m\u001b[0msample_weight\u001b[0m\u001b[0;34m,\u001b[0m\u001b[0;34m\u001b[0m\u001b[0;34m\u001b[0m\u001b[0m\n\u001b[0;32m--> 217\u001b[0;31m                                             class_weight=class_weight)\n\u001b[0m\u001b[1;32m    218\u001b[0m \u001b[0;34m\u001b[0m\u001b[0m\n\u001b[1;32m    219\u001b[0m                 \u001b[0mouts\u001b[0m \u001b[0;34m=\u001b[0m \u001b[0mto_list\u001b[0m\u001b[0;34m(\u001b[0m\u001b[0mouts\u001b[0m\u001b[0;34m)\u001b[0m\u001b[0;34m\u001b[0m\u001b[0;34m\u001b[0m\u001b[0m\n",
      "\u001b[0;32m/usr/local/lib/python3.7/site-packages/keras/engine/training.py\u001b[0m in \u001b[0;36mtrain_on_batch\u001b[0;34m(self, x, y, sample_weight, class_weight)\u001b[0m\n\u001b[1;32m   1215\u001b[0m             \u001b[0mins\u001b[0m \u001b[0;34m=\u001b[0m \u001b[0mx\u001b[0m \u001b[0;34m+\u001b[0m \u001b[0my\u001b[0m \u001b[0;34m+\u001b[0m \u001b[0msample_weights\u001b[0m\u001b[0;34m\u001b[0m\u001b[0;34m\u001b[0m\u001b[0m\n\u001b[1;32m   1216\u001b[0m         \u001b[0mself\u001b[0m\u001b[0;34m.\u001b[0m\u001b[0m_make_train_function\u001b[0m\u001b[0;34m(\u001b[0m\u001b[0;34m)\u001b[0m\u001b[0;34m\u001b[0m\u001b[0;34m\u001b[0m\u001b[0m\n\u001b[0;32m-> 1217\u001b[0;31m         \u001b[0moutputs\u001b[0m \u001b[0;34m=\u001b[0m \u001b[0mself\u001b[0m\u001b[0;34m.\u001b[0m\u001b[0mtrain_function\u001b[0m\u001b[0;34m(\u001b[0m\u001b[0mins\u001b[0m\u001b[0;34m)\u001b[0m\u001b[0;34m\u001b[0m\u001b[0;34m\u001b[0m\u001b[0m\n\u001b[0m\u001b[1;32m   1218\u001b[0m         \u001b[0;32mreturn\u001b[0m \u001b[0munpack_singleton\u001b[0m\u001b[0;34m(\u001b[0m\u001b[0moutputs\u001b[0m\u001b[0;34m)\u001b[0m\u001b[0;34m\u001b[0m\u001b[0;34m\u001b[0m\u001b[0m\n\u001b[1;32m   1219\u001b[0m \u001b[0;34m\u001b[0m\u001b[0m\n",
      "\u001b[0;32m/usr/local/lib/python3.7/site-packages/keras/backend/tensorflow_backend.py\u001b[0m in \u001b[0;36m__call__\u001b[0;34m(self, inputs)\u001b[0m\n\u001b[1;32m   2713\u001b[0m                 \u001b[0;32mreturn\u001b[0m \u001b[0mself\u001b[0m\u001b[0;34m.\u001b[0m\u001b[0m_legacy_call\u001b[0m\u001b[0;34m(\u001b[0m\u001b[0minputs\u001b[0m\u001b[0;34m)\u001b[0m\u001b[0;34m\u001b[0m\u001b[0;34m\u001b[0m\u001b[0m\n\u001b[1;32m   2714\u001b[0m \u001b[0;34m\u001b[0m\u001b[0m\n\u001b[0;32m-> 2715\u001b[0;31m             \u001b[0;32mreturn\u001b[0m \u001b[0mself\u001b[0m\u001b[0;34m.\u001b[0m\u001b[0m_call\u001b[0m\u001b[0;34m(\u001b[0m\u001b[0minputs\u001b[0m\u001b[0;34m)\u001b[0m\u001b[0;34m\u001b[0m\u001b[0;34m\u001b[0m\u001b[0m\n\u001b[0m\u001b[1;32m   2716\u001b[0m         \u001b[0;32melse\u001b[0m\u001b[0;34m:\u001b[0m\u001b[0;34m\u001b[0m\u001b[0;34m\u001b[0m\u001b[0m\n\u001b[1;32m   2717\u001b[0m             \u001b[0;32mif\u001b[0m \u001b[0mpy_any\u001b[0m\u001b[0;34m(\u001b[0m\u001b[0mis_tensor\u001b[0m\u001b[0;34m(\u001b[0m\u001b[0mx\u001b[0m\u001b[0;34m)\u001b[0m \u001b[0;32mfor\u001b[0m \u001b[0mx\u001b[0m \u001b[0;32min\u001b[0m \u001b[0minputs\u001b[0m\u001b[0;34m)\u001b[0m\u001b[0;34m:\u001b[0m\u001b[0;34m\u001b[0m\u001b[0;34m\u001b[0m\u001b[0m\n",
      "\u001b[0;32m/usr/local/lib/python3.7/site-packages/keras/backend/tensorflow_backend.py\u001b[0m in \u001b[0;36m_call\u001b[0;34m(self, inputs)\u001b[0m\n\u001b[1;32m   2673\u001b[0m             \u001b[0mfetched\u001b[0m \u001b[0;34m=\u001b[0m \u001b[0mself\u001b[0m\u001b[0;34m.\u001b[0m\u001b[0m_callable_fn\u001b[0m\u001b[0;34m(\u001b[0m\u001b[0;34m*\u001b[0m\u001b[0marray_vals\u001b[0m\u001b[0;34m,\u001b[0m \u001b[0mrun_metadata\u001b[0m\u001b[0;34m=\u001b[0m\u001b[0mself\u001b[0m\u001b[0;34m.\u001b[0m\u001b[0mrun_metadata\u001b[0m\u001b[0;34m)\u001b[0m\u001b[0;34m\u001b[0m\u001b[0;34m\u001b[0m\u001b[0m\n\u001b[1;32m   2674\u001b[0m         \u001b[0;32melse\u001b[0m\u001b[0;34m:\u001b[0m\u001b[0;34m\u001b[0m\u001b[0;34m\u001b[0m\u001b[0m\n\u001b[0;32m-> 2675\u001b[0;31m             \u001b[0mfetched\u001b[0m \u001b[0;34m=\u001b[0m \u001b[0mself\u001b[0m\u001b[0;34m.\u001b[0m\u001b[0m_callable_fn\u001b[0m\u001b[0;34m(\u001b[0m\u001b[0;34m*\u001b[0m\u001b[0marray_vals\u001b[0m\u001b[0;34m)\u001b[0m\u001b[0;34m\u001b[0m\u001b[0;34m\u001b[0m\u001b[0m\n\u001b[0m\u001b[1;32m   2676\u001b[0m         \u001b[0;32mreturn\u001b[0m \u001b[0mfetched\u001b[0m\u001b[0;34m[\u001b[0m\u001b[0;34m:\u001b[0m\u001b[0mlen\u001b[0m\u001b[0;34m(\u001b[0m\u001b[0mself\u001b[0m\u001b[0;34m.\u001b[0m\u001b[0moutputs\u001b[0m\u001b[0;34m)\u001b[0m\u001b[0;34m]\u001b[0m\u001b[0;34m\u001b[0m\u001b[0;34m\u001b[0m\u001b[0m\n\u001b[1;32m   2677\u001b[0m \u001b[0;34m\u001b[0m\u001b[0m\n",
      "\u001b[0;32m/usr/local/lib/python3.7/site-packages/tensorflow/python/client/session.py\u001b[0m in \u001b[0;36m__call__\u001b[0;34m(self, *args, **kwargs)\u001b[0m\n\u001b[1;32m   1456\u001b[0m         ret = tf_session.TF_SessionRunCallable(self._session._session,\n\u001b[1;32m   1457\u001b[0m                                                \u001b[0mself\u001b[0m\u001b[0;34m.\u001b[0m\u001b[0m_handle\u001b[0m\u001b[0;34m,\u001b[0m \u001b[0margs\u001b[0m\u001b[0;34m,\u001b[0m\u001b[0;34m\u001b[0m\u001b[0;34m\u001b[0m\u001b[0m\n\u001b[0;32m-> 1458\u001b[0;31m                                                run_metadata_ptr)\n\u001b[0m\u001b[1;32m   1459\u001b[0m         \u001b[0;32mif\u001b[0m \u001b[0mrun_metadata\u001b[0m\u001b[0;34m:\u001b[0m\u001b[0;34m\u001b[0m\u001b[0;34m\u001b[0m\u001b[0m\n\u001b[1;32m   1460\u001b[0m           \u001b[0mproto_data\u001b[0m \u001b[0;34m=\u001b[0m \u001b[0mtf_session\u001b[0m\u001b[0;34m.\u001b[0m\u001b[0mTF_GetBuffer\u001b[0m\u001b[0;34m(\u001b[0m\u001b[0mrun_metadata_ptr\u001b[0m\u001b[0;34m)\u001b[0m\u001b[0;34m\u001b[0m\u001b[0;34m\u001b[0m\u001b[0m\n",
      "\u001b[0;31mKeyboardInterrupt\u001b[0m: "
     ]
    }
   ],
   "source": [
    "from keras.callbacks import ModelCheckpoint, EarlyStopping\n",
    "\n",
    "saved_model_name = '/cross_entrophy_dim_500_class_566.h5'\n",
    "\n",
    "if train_action == True:\n",
    "    \n",
    "  # define the checkpoint\n",
    "  #filepath = \"model.h5\"\n",
    "  filepath = original_base_dir + saved_model_name\n",
    "  checkpoint = ModelCheckpoint(filepath, monitor='val_loss', verbose=1, save_best_only=True, mode='min')\n",
    "  es = EarlyStopping(monitor='val_loss', mode='min', patience = 5)\n",
    "\n",
    "  callbacks_list = [checkpoint, es]\n",
    "    \n",
    "  history = model.fit_generator(\n",
    "        train_generator,\n",
    "        steps_per_epoch=100,\n",
    "        epochs=15,\n",
    "        validation_data=validation_generator,\n",
    "        validation_steps=50,\n",
    "        callbacks=callbacks_list,\n",
    "        #class_weight = class_weight\n",
    "        )\n",
    "\n",
    "  # Get the dictionary containing each metric and the loss for each epoch\n",
    "  history_dict = history.history\n",
    "  # Save it under the form of a json file\n",
    "  json.dump(history_dict, open(history_dir + '/history', 'w'))"
   ]
  },
  {
   "cell_type": "code",
   "execution_count": 104,
   "metadata": {
    "colab": {
     "base_uri": "https://localhost:8080/",
     "height": 377
    },
    "colab_type": "code",
    "id": "c2D-jxsC-9SK",
    "outputId": "043382aa-fb66-44ab-ae63-9f67acd5b0ec"
   },
   "outputs": [
    {
     "data": {
      "text/plain": [
       "<keras.engine.sequential.Sequential at 0x150601390>"
      ]
     },
     "execution_count": 104,
     "metadata": {},
     "output_type": "execute_result"
    }
   ],
   "source": [
    "from keras.models import load_model\n",
    "model1 = load_model(original_base_dir + saved_model_name)\n",
    "model1"
   ]
  },
  {
   "cell_type": "code",
   "execution_count": null,
   "metadata": {
    "colab": {
     "base_uri": "https://localhost:8080/",
     "height": 221
    },
    "colab_type": "code",
    "id": "7wrCsjlnGxG3",
    "outputId": "d553be53-d69b-48d6-cf33-d395d2e3fa6f"
   },
   "outputs": [],
   "source": [
    "with open(original_base_dir + '/history/history') as json_file:\n",
    "    history = json.load(json_file)\n",
    "history.get('val_acc')"
   ]
  },
  {
   "cell_type": "markdown",
   "metadata": {
    "colab_type": "text",
    "id": "6aaP3yUWO2dC"
   },
   "source": [
    "Let's plot the loss and accuracy of the model over the training and validation data during training:"
   ]
  },
  {
   "cell_type": "code",
   "execution_count": null,
   "metadata": {
    "colab": {
     "base_uri": "https://localhost:8080/",
     "height": 545
    },
    "colab_type": "code",
    "id": "teMFY2tvO2dC",
    "outputId": "92f79b0a-1034-42f7-c103-76852759567e"
   },
   "outputs": [],
   "source": [
    "import matplotlib.pyplot as plt\n",
    "\n",
    "acc = history['acc']\n",
    "val_acc = history['val_acc']\n",
    "loss = history['loss']\n",
    "val_loss = history['val_loss']\n",
    "\n",
    "epochs = range(len(acc))\n",
    "\n",
    "plt.plot(epochs, acc, 'bo', label='Training acc')\n",
    "plt.plot(epochs, val_acc, 'b', label='Validation acc')\n",
    "plt.title('Training and validation accuracy')\n",
    "plt.legend()\n",
    "\n",
    "plt.figure()\n",
    "\n",
    "plt.plot(epochs, loss, 'bo', label='Training loss')\n",
    "plt.plot(epochs, val_loss, 'b', label='Validation loss')\n",
    "plt.title('Training and validation loss')\n",
    "plt.legend()\n",
    "\n",
    "plt.show()"
   ]
  },
  {
   "cell_type": "markdown",
   "metadata": {
    "colab_type": "text",
    "id": "ZncSS5XYFRQi"
   },
   "source": [
    "# Model Evaluation"
   ]
  },
  {
   "cell_type": "code",
   "execution_count": 105,
   "metadata": {
    "colab": {},
    "colab_type": "code",
    "id": "jENuLa-FBPCo"
   },
   "outputs": [],
   "source": [
    "from keras.models import load_model\n",
    "from keras.preprocessing import image\n",
    "import matplotlib.pyplot as plt\n",
    "import numpy as np\n",
    "import os\n",
    "\n",
    "def load_image(img_path, show=False, verbose = False):\n",
    "    '''Written from https://stackoverflow.com/questions/43469281/how-to-predict-input-image-using-trained-model-in-keras'''\n",
    "\n",
    "    img = image.load_img(img_path, target_size=(500, 500, 3))\n",
    "    img_tensor = image.img_to_array(img)                    # (height, width, channels)\n",
    "    img_tensor = np.expand_dims(img_tensor, axis=0)         # (1, height, width, channels), add a dimension because the model expects this shape: (batch_size, height, width, channels)\n",
    "    if verbose:\n",
    "      print(img_tensor.shape)\n",
    "      print(img_tensor)\n",
    "    img_tensor /= 255.                                      # imshow expects values in the range [0, 1]\n",
    "\n",
    "    if show:\n",
    "        plt.imshow(img_tensor[0])                           \n",
    "        plt.axis('off')\n",
    "        plt.show()\n",
    "\n",
    "    return img_tensor\n"
   ]
  },
  {
   "cell_type": "code",
   "execution_count": 106,
   "metadata": {
    "colab": {
     "base_uri": "https://localhost:8080/",
     "height": 1000
    },
    "colab_type": "code",
    "id": "1Y6F_5KDZFto",
    "outputId": "538deabb-2f4e-4de2-8665-be0346685ff6"
   },
   "outputs": [
    {
     "name": "stdout",
     "output_type": "stream",
     "text": [
      "(1, 500, 500, 3)\n",
      "[[[[0. 0. 0.]\n",
      "   [0. 0. 0.]\n",
      "   [0. 0. 0.]\n",
      "   ...\n",
      "   [0. 0. 0.]\n",
      "   [0. 0. 0.]\n",
      "   [0. 0. 0.]]\n",
      "\n",
      "  [[0. 0. 0.]\n",
      "   [0. 0. 0.]\n",
      "   [0. 0. 0.]\n",
      "   ...\n",
      "   [0. 0. 0.]\n",
      "   [0. 0. 0.]\n",
      "   [0. 0. 0.]]\n",
      "\n",
      "  [[0. 0. 0.]\n",
      "   [0. 0. 0.]\n",
      "   [0. 0. 0.]\n",
      "   ...\n",
      "   [0. 0. 0.]\n",
      "   [0. 0. 0.]\n",
      "   [0. 0. 0.]]\n",
      "\n",
      "  ...\n",
      "\n",
      "  [[0. 0. 0.]\n",
      "   [0. 0. 0.]\n",
      "   [0. 0. 0.]\n",
      "   ...\n",
      "   [0. 0. 0.]\n",
      "   [0. 0. 0.]\n",
      "   [0. 0. 0.]]\n",
      "\n",
      "  [[0. 0. 0.]\n",
      "   [0. 0. 0.]\n",
      "   [0. 0. 0.]\n",
      "   ...\n",
      "   [0. 0. 0.]\n",
      "   [0. 0. 0.]\n",
      "   [0. 0. 0.]]\n",
      "\n",
      "  [[0. 0. 0.]\n",
      "   [0. 0. 0.]\n",
      "   [0. 0. 0.]\n",
      "   ...\n",
      "   [0. 0. 0.]\n",
      "   [0. 0. 0.]\n",
      "   [0. 0. 0.]]]]\n"
     ]
    },
    {
     "data": {
      "image/png": "[encoded data removed]",
      "text/plain": [
       "<Figure size 432x288 with 1 Axes>"
      ]
     },
     "metadata": {
      "needs_background": "light"
     },
     "output_type": "display_data"
    },
    {
     "data": {
      "image/png": "[encoded data removed]",
      "text/plain": [
       "<Figure size 432x288 with 1 Axes>"
      ]
     },
     "metadata": {
      "needs_background": "light"
     },
     "output_type": "display_data"
    },
    {
     "name": "stdout",
     "output_type": "stream",
     "text": [
      "(500, 500)\n"
     ]
    }
   ],
   "source": [
    "confusion_matrix_object = np.zeros((5,5))\n",
    "\n",
    "filenames = validation_generator.filenames\n",
    "#filenames = train_generator.filenames\n",
    "folder = 'val'\n",
    "#folder = 'train'\n",
    "\n",
    "correct = 0\n",
    "total = len(filenames)\n",
    "image_dir = 'data/' + folder + '/' + filenames[0]\n",
    "result = load_image(image_dir, show=True, verbose = True)\n",
    "\n",
    "\n",
    "new_image = image.load_img(image_dir)\n",
    "plt.imshow(new_image)                           \n",
    "plt.axis('off')\n",
    "plt.show()\n",
    "print(new_image.size)"
   ]
  },
  {
   "cell_type": "code",
   "execution_count": 107,
   "metadata": {
    "colab": {
     "base_uri": "https://localhost:8080/",
     "height": 153
    },
    "colab_type": "code",
    "id": "BxjABHBBSfjf",
    "outputId": "0bc6dfde-630b-4335-f8b2-866fe6d6c18c"
   },
   "outputs": [
    {
     "name": "stdout",
     "output_type": "stream",
     "text": [
      "Overall Accuracy: 0.27887323943661974 \n",
      "\n",
      "Confusion Matrix: rows is true, columns is result \n",
      " [[30.  9. 14.  8. 10.]\n",
      " [18. 10. 18. 15. 10.]\n",
      " [24.  8. 17. 12. 10.]\n",
      " [18.  1. 15. 16. 21.]\n",
      " [12.  7. 18.  8. 26.]]\n"
     ]
    }
   ],
   "source": [
    "\n",
    "for image_name in filenames:\n",
    "\n",
    "  image_object = 'data/' + folder + '/' + image_name\n",
    "  #print(image_object)\n",
    "  class_name = image_object.split('/')[2]\n",
    "  true_class = int(class_name[-1])\n",
    "\n",
    "  result =  model1.predict(load_image(image_object))[0].tolist()\n",
    "  result = int(result.index(max(result)))\n",
    "\n",
    "  if true_class == result:\n",
    "    correct = correct + 1\n",
    "\n",
    "  confusion_matrix_object[true_class, result] = 1 + confusion_matrix_object[true_class, result]\n",
    "\n",
    "print('Overall Accuracy:', correct/total, '\\n')\n",
    "\n",
    "print('Confusion Matrix: rows is true, columns is result \\n', confusion_matrix_object)"
   ]
  },
  {
   "cell_type": "code",
   "execution_count": 108,
   "metadata": {
    "colab": {
     "base_uri": "https://localhost:8080/",
     "height": 102
    },
    "colab_type": "code",
    "id": "IDj9C5hEJ7UO",
    "outputId": "6e4a9ec6-fc04-4627-e0e9-a8b726e491e1"
   },
   "outputs": [
    {
     "name": "stdout",
     "output_type": "stream",
     "text": [
      "Accuracy for class 0 is 0.4225352112676056\n",
      "Accuracy for class 1 is 0.14084507042253522\n",
      "Accuracy for class 2 is 0.23943661971830985\n",
      "Accuracy for class 3 is 0.22535211267605634\n",
      "Accuracy for class 4 is 0.36619718309859156\n"
     ]
    }
   ],
   "source": [
    "import sys\n",
    "for x in range (0, 5):\n",
    "\n",
    "  row_total = sum(confusion_matrix_object[x])\n",
    "  if row_total != 71:\n",
    "    raise Exception('Error, row_total is {} instead of 142'.format(int(row_total)))\n",
    "\n",
    "  print('Accuracy for class', x, 'is', confusion_matrix_object[x][x]/row_total)"
   ]
  },
  {
   "cell_type": "code",
   "execution_count": null,
   "metadata": {},
   "outputs": [],
   "source": []
  },
  {
   "cell_type": "code",
   "execution_count": null,
   "metadata": {},
   "outputs": [],
   "source": []
  },
  {
   "cell_type": "code",
   "execution_count": null,
   "metadata": {},
   "outputs": [],
   "source": []
  },
  {
   "cell_type": "code",
   "execution_count": null,
   "metadata": {},
   "outputs": [],
   "source": []
  }
 ],
 "metadata": {
  "accelerator": "GPU",
  "colab": {
   "collapsed_sections": [
    "pPsf2uskg5Md"
   ],
   "name": "CNN_Diabetic_Retinopathy_Classification.ipynb",
   "provenance": []
  },
  "kernelspec": {
   "display_name": "Python 3",
   "language": "python",
   "name": "python3"
  },
  "language_info": {
   "codemirror_mode": {
    "name": "ipython",
    "version": 3
   },
   "file_extension": ".py",
   "mimetype": "text/x-python",
   "name": "python",
   "nbconvert_exporter": "python",
   "pygments_lexer": "ipython3",
   "version": "3.7.3"
  }
 },
 "nbformat": 4,
 "nbformat_minor": 1
}
