{
 "cells": [
  {
   "cell_type": "markdown",
   "metadata": {
    "colab_type": "text",
    "id": "UdNksH15FbXb"
   },
   "source": [
    "# Diabetic Retinopathy Five Disease Level Classification using a Fully Trained CNN and Inception V3 Fine Tuning\n",
    "\n",
    "## Input:\n",
    "##### 1) Set up connection of Google Colab to Google Drive or comment out section for use on local computer\n",
    "##### 2) Set up use of GPU for processing\n",
    "##### 3) Set up directoy paths and excpected size of data\n",
    "##### 4) Make sure the designated folder has data in the format of train/val/test with folders of resized_0, resized_1, resized_2, resized_3 and resized_4 for each 5 levels of Diabetic Retinopathy. Original data can be found at https://www.kaggle.com/c/diabetic-retinopathy-detection/data\n",
    "\n",
    "## Output:\n",
    "##### 1) Fine-tuned Inception V3 or fully trained Convolutional Neural Network is created\n",
    "##### 2) JSON file with Accuracy and Cross Entrophy Loss based on Training and Validation Set for desired model\n",
    "\n",
    "## Prints metrics for desired model\n",
    "#### 1) Metrics of overall validation set accuracy, validation set confusion matrix, and accuracy for class 0 and class 1.\n",
    "#### 2) Validation metrics are shared for test set\n",
    "#### 3) Printed training loss and accuracy across epochs of training"
   ]
  },
  {
   "cell_type": "markdown",
   "metadata": {
    "colab_type": "text",
    "id": "FCaKj8eRGGBK"
   },
   "source": [
    "# Setup"
   ]
  },
  {
   "cell_type": "code",
   "execution_count": 0,
   "metadata": {
    "colab": {
     "base_uri": "https://localhost:8080/",
     "height": 97
    },
    "colab_type": "code",
    "id": "dXW43PpVFYxv",
    "outputId": "f4992c25-80ae-4348-c79d-7d4edd74e313"
   },
   "outputs": [
    {
     "name": "stderr",
     "output_type": "stream",
     "text": [
      "Using TensorFlow backend.\n"
     ]
    },
    {
     "data": {
      "text/html": [
       "<p style=\"color: red;\">\n",
       "The default version of TensorFlow in Colab will soon switch to TensorFlow 2.x.<br>\n",
       "We recommend you <a href=\"https://www.tensorflow.org/guide/migrate\" target=\"_blank\">upgrade</a> now \n",
       "or ensure your notebook will continue to use TensorFlow 1.x via the <code>%tensorflow_version 1.x</code> magic:\n",
       "<a href=\"https://colab.research.google.com/notebooks/tensorflow_version.ipynb\" target=\"_blank\">more info</a>.</p>\n"
      ],
      "text/plain": [
       "<IPython.core.display.HTML object>"
      ]
     },
     "metadata": {
      "tags": []
     },
     "output_type": "display_data"
    },
    {
     "name": "stdout",
     "output_type": "stream",
     "text": [
      "2.2.5\n"
     ]
    }
   ],
   "source": [
    "# Keras\n",
    "import keras\n",
    "from keras import metrics\n",
    "\n",
    "# File and Folder Management\n",
    "import os, shutil\n",
    "\n",
    "# Store history\n",
    "import json"
   ]
  },
  {
   "cell_type": "code",
   "execution_count": 0,
   "metadata": {
    "colab": {
     "base_uri": "https://localhost:8080/",
     "height": 122
    },
    "colab_type": "code",
    "id": "qiTsG-KfPt2U",
    "outputId": "0d624f5f-8b40-48fa-fa35-298541b893f8"
   },
   "outputs": [
    {
     "name": "stdout",
     "output_type": "stream",
     "text": [
      "Go to this URL in a browser: https://accounts.google.com/o/oauth2/auth?client_id=947318989803-6bn6qk8qdgf4n4g3pfee6491hc0brc4i.apps.googleusercontent.com&redirect_uri=urn%3aietf%3awg%3aoauth%3a2.0%3aoob&response_type=code&scope=email%20https%3a%2f%2fwww.googleapis.com%2fauth%2fdocs.test%20https%3a%2f%2fwww.googleapis.com%2fauth%2fdrive%20https%3a%2f%2fwww.googleapis.com%2fauth%2fdrive.photos.readonly%20https%3a%2f%2fwww.googleapis.com%2fauth%2fpeopleapi.readonly\n",
      "\n",
      "Enter your authorization code:\n",
      "··········\n",
      "Mounted at /content/drive\n"
     ]
    }
   ],
   "source": [
    "from google.colab import drive\n",
    "drive.mount('/content/drive')\n"
   ]
  },
  {
   "cell_type": "code",
   "execution_count": 0,
   "metadata": {
    "colab": {},
    "colab_type": "code",
    "id": "AFB8Ac7zQyb_"
   },
   "outputs": [],
   "source": [
    "train_action = True\n",
    "\n",
    "# Set directory\n",
    "aaron_dir = \"/content/drive/My Drive/Colab Notebooks/SML_Project\"\n",
    "#aaron_dir = '../SML_Project_Data'\n",
    "\n",
    "directory = aaron_dir"
   ]
  },
  {
   "cell_type": "code",
   "execution_count": 0,
   "metadata": {
    "colab": {
     "base_uri": "https://localhost:8080/",
     "height": 442
    },
    "colab_type": "code",
    "id": "dCvg3RofbqxV",
    "outputId": "5f4bd9cf-17fe-41cc-ff32-b45915e6d779"
   },
   "outputs": [
    {
     "name": "stdout",
     "output_type": "stream",
     "text": [
      "/content\n",
      "best_model.hdf5\n",
      "binary_data_4\n",
      "binary_data_all\n",
      "CNN_Diabetic_Retinopathy_Binary.ipynb\n",
      "CNN_Diabetic_Retinopathy_Classification.ipynb\n",
      "CNN_Diabetic_Retinopathy_Classification_old.ipynb\n",
      "cross_entrophy_dim_500_class_566.h5\n",
      "cross_entrophy_dim_500_class_count_566_new.h5\n",
      "data_566\n",
      "data_566_copy.zip\n",
      "data_566.zip\n",
      "data_zip\n",
      "downsized_data.zip\n",
      "history\n",
      "inception_binary_dim_256_class_crop.h5\n",
      "inception_binary_dim_500_class_4.h5\n",
      "inception_binary_dim_500_class_566.h5\n",
      "inception_binary_dim_500_class_all.h5\n",
      "inception_binary_dim_500_class_all_rand.h5\n",
      "inception_cross_entrophy_dim_500_class_566.h5\n",
      "kNN_image_classification.ipynb\n",
      "__MACOSX\n",
      "train1.zip\n",
      "trainLabels.csv\n"
     ]
    }
   ],
   "source": [
    "!pwd\n",
    "os.chdir(directory)\n",
    "!ls"
   ]
  },
  {
   "cell_type": "code",
   "execution_count": 0,
   "metadata": {
    "colab": {},
    "colab_type": "code",
    "id": "fJ6lYil5QGwN"
   },
   "outputs": [],
   "source": [
    "#!unzip -qq data_566_copy.zip"
   ]
  },
  {
   "cell_type": "markdown",
   "metadata": {
    "colab_type": "text",
    "id": "WQEwdbFmGJlz"
   },
   "source": [
    "# Create Directories"
   ]
  },
  {
   "cell_type": "code",
   "execution_count": 0,
   "metadata": {
    "colab": {
     "base_uri": "https://localhost:8080/",
     "height": 51
    },
    "colab_type": "code",
    "id": "DquqqA7kFgRt",
    "outputId": "14fa6515-9ab3-4f97-872e-53f8b86303fc"
   },
   "outputs": [
    {
     "name": "stdout",
     "output_type": "stream",
     "text": [
      "Folder Already Exists \n",
      "\n"
     ]
    }
   ],
   "source": [
    "# Directory of training data\n",
    "\n",
    "original_base_dir = directory\n",
    "\n",
    "data_folder_name = 'data_566'\n",
    "\n",
    "base_dir = original_base_dir + \"/\" + data_folder_name\n",
    "\n",
    "try:\n",
    "    os.mkdir(base_dir)\n",
    "except FileExistsError:\n",
    "  print('Folder Already Exists \\n')\n",
    "else:\n",
    "  print('Creating Folder \\n')"
   ]
  },
  {
   "cell_type": "code",
   "execution_count": 0,
   "metadata": {
    "colab": {},
    "colab_type": "code",
    "id": "mZU6LIxuMtXC"
   },
   "outputs": [],
   "source": [
    "history_dir = directory + '/history'\n",
    "\n",
    "train_dir = os.path.join(directory, data_folder_name, 'train')\n",
    "val_dir = os.path.join(directory, data_folder_name, 'val')\n",
    "\n",
    "train_0_dir = os.path.join(train_dir, 'resized_0')\n",
    "train_1_dir = os.path.join(train_dir, 'resized_1')\n",
    "train_2_dir = os.path.join(train_dir, 'resized_2')\n",
    "train_3_dir = os.path.join(train_dir, 'resized_3')\n",
    "train_4_dir = os.path.join(train_dir, 'resized_4')\n",
    "\n",
    "val_0_dir = os.path.join(val_dir, 'resized_0')\n",
    "val_1_dir = os.path.join(val_dir, 'resized_1')\n",
    "val_2_dir = os.path.join(val_dir, 'resized_2')\n",
    "val_3_dir = os.path.join(val_dir, 'resized_3')\n",
    "val_4_dir = os.path.join(val_dir, 'resized_4')\n",
    "\n",
    "def create_folder(path):\n",
    "  print('Looking to create folder of', path)\n",
    "  try:\n",
    "      os.mkdir(path)\n",
    "  except FileExistsError:\n",
    "    print('Folder Already Exists \\n')\n",
    "  else:\n",
    "    print('Creating Folder \\n')"
   ]
  },
  {
   "cell_type": "code",
   "execution_count": 0,
   "metadata": {
    "colab": {
     "base_uri": "https://localhost:8080/",
     "height": 68
    },
    "colab_type": "code",
    "id": "9fxV2eHOO2cb",
    "outputId": "55492179-a110-431b-e086-421cc41ef69f"
   },
   "outputs": [
    {
     "name": "stdout",
     "output_type": "stream",
     "text": [
      "Looking to create folder of /content/drive/My Drive/Colab Notebooks/SML_Project/history\n",
      "Folder Already Exists \n",
      "\n"
     ]
    }
   ],
   "source": [
    "# Store history files\n",
    "history_dir = directory + '/history'\n",
    "create_folder(history_dir)"
   ]
  },
  {
   "cell_type": "code",
   "execution_count": 0,
   "metadata": {
    "colab": {
     "base_uri": "https://localhost:8080/",
     "height": 527
    },
    "colab_type": "code",
    "id": "Tf4T9dOqOCZO",
    "outputId": "a7962fd2-84ac-481d-c219-b7890328a126"
   },
   "outputs": [
    {
     "name": "stdout",
     "output_type": "stream",
     "text": [
      "Looking to create folder of /content/drive/My Drive/Colab Notebooks/SML_Project/data_566/train/resized_0\n",
      "Folder Already Exists \n",
      "\n",
      "Looking to create folder of /content/drive/My Drive/Colab Notebooks/SML_Project/data_566/train/resized_1\n",
      "Folder Already Exists \n",
      "\n",
      "Looking to create folder of /content/drive/My Drive/Colab Notebooks/SML_Project/data_566/train/resized_2\n",
      "Folder Already Exists \n",
      "\n",
      "Looking to create folder of /content/drive/My Drive/Colab Notebooks/SML_Project/data_566/train/resized_3\n",
      "Folder Already Exists \n",
      "\n",
      "Looking to create folder of /content/drive/My Drive/Colab Notebooks/SML_Project/data_566/train/resized_4\n",
      "Folder Already Exists \n",
      "\n",
      "Looking to create folder of /content/drive/My Drive/Colab Notebooks/SML_Project/data_566/val/resized_0\n",
      "Folder Already Exists \n",
      "\n",
      "Looking to create folder of /content/drive/My Drive/Colab Notebooks/SML_Project/data_566/val/resized_1\n",
      "Folder Already Exists \n",
      "\n",
      "Looking to create folder of /content/drive/My Drive/Colab Notebooks/SML_Project/data_566/val/resized_2\n",
      "Folder Already Exists \n",
      "\n",
      "Looking to create folder of /content/drive/My Drive/Colab Notebooks/SML_Project/data_566/val/resized_3\n",
      "Folder Already Exists \n",
      "\n",
      "Looking to create folder of /content/drive/My Drive/Colab Notebooks/SML_Project/data_566/val/resized_4\n",
      "Folder Already Exists \n",
      "\n"
     ]
    }
   ],
   "source": [
    "# Create all Train and Validate Folders in Data with Folders for Each Class\n",
    "for data_type in ('train', 'val'):\n",
    "  for disease in (0, 1, 2, 3, 4):\n",
    "    path = directory + '/' + data_folder_name + '/' + data_type + '/resized_' + str(disease)\n",
    "    create_folder(path)"
   ]
  },
  {
   "cell_type": "code",
   "execution_count": 0,
   "metadata": {
    "colab": {},
    "colab_type": "code",
    "id": "hVYpidWVnnGt"
   },
   "outputs": [],
   "source": [
    "from keras import layers\n",
    "from keras import models\n",
    "\n",
    "x = 500\n",
    "y = 500"
   ]
  },
  {
   "cell_type": "markdown",
   "metadata": {
    "colab_type": "text",
    "id": "tM0MPJPjO2c2"
   },
   "source": [
    "## Data preprocessing"
   ]
  },
  {
   "cell_type": "code",
   "execution_count": 0,
   "metadata": {
    "colab": {
     "base_uri": "https://localhost:8080/",
     "height": 68
    },
    "colab_type": "code",
    "id": "cbA--wZcO2c2",
    "outputId": "2f3ea53e-9b68-4720-d27b-ec7ec9721c5d"
   },
   "outputs": [
    {
     "name": "stdout",
     "output_type": "stream",
     "text": [
      "Found 2830 images belonging to 5 classes.\n",
      "{'resized_0': 0, 'resized_1': 1, 'resized_2': 2, 'resized_3': 3, 'resized_4': 4}\n",
      "Found 355 images belonging to 5 classes.\n"
     ]
    }
   ],
   "source": [
    "from keras.preprocessing.image import ImageDataGenerator\n",
    "\n",
    "data_generation = ImageDataGenerator(rescale=1./255)\n",
    "\n",
    "batch_size = 20\n",
    "\n",
    "train_generator = data_generation.flow_from_directory(\n",
    "        # This is the target directory\n",
    "        train_dir,\n",
    "        target_size=(x, y),\n",
    "        batch_size=batch_size,\n",
    "        class_mode='categorical')\n",
    "# 2830/5=566\n",
    "\n",
    "validation_generator = data_generation.flow_from_directory(\n",
    "        val_dir,\n",
    "        target_size=(x, y),\n",
    "        batch_size=batch_size,\n",
    "        shuffle = False,\n",
    "        class_mode='categorical')\n",
    "# 355/5=71\n",
    "\n",
    "# classes that will be used and dictionary for each name\n",
    "print(train_generator.class_indices)"
   ]
  },
  {
   "cell_type": "markdown",
   "metadata": {
    "colab_type": "text",
    "id": "b3n5RAeMIDup"
   },
   "source": [
    "# CNN Training"
   ]
  },
  {
   "cell_type": "code",
   "execution_count": 0,
   "metadata": {
    "colab": {},
    "colab_type": "code",
    "id": "8gaGfkjSO2c8"
   },
   "outputs": [],
   "source": [
    "from keras.callbacks import ModelCheckpoint, EarlyStopping\n",
    "\n",
    "saved_model_name = '/cross_entrophy_dim_500_class_566.h5'\n",
    "\n",
    "if train_action == True:\n",
    "  filepath = original_base_dir + saved_model_name\n",
    "  checkpoint = ModelCheckpoint(filepath, monitor='val_acc', verbose=1, save_best_only=True, mode='max')\n",
    "  es = EarlyStopping(monitor='val_acc', mode='max', patience = 3)\n",
    "\n",
    "  callbacks_list = [checkpoint, es]\n",
    "    \n",
    "  history = model.fit_generator(\n",
    "        train_generator,\n",
    "        steps_per_epoch=2830//20,\n",
    "        epochs=15,\n",
    "        validation_data=validation_generator,\n",
    "        validation_steps=355//20,\n",
    "        callbacks=callbacks_list,\n",
    "        )\n",
    "\n",
    "  # Save history object\n",
    "  history_dict = history.history\n",
    "  json.dump(history_dict, open(history_dir + '/history', 'w'))"
   ]
  },
  {
   "cell_type": "markdown",
   "metadata": {
    "colab_type": "text",
    "id": "9kgVMnAk-_e4"
   },
   "source": [
    "# CNN Loss and Accuracy across Epochs"
   ]
  },
  {
   "cell_type": "code",
   "execution_count": 0,
   "metadata": {
    "colab": {
     "base_uri": "https://localhost:8080/",
     "height": 377
    },
    "colab_type": "code",
    "id": "c2D-jxsC-9SK",
    "outputId": "043382aa-fb66-44ab-ae63-9f67acd5b0ec"
   },
   "outputs": [
    {
     "data": {
      "text/plain": [
       "<keras.engine.sequential.Sequential at 0x150601390>"
      ]
     },
     "execution_count": 104,
     "metadata": {
      "tags": []
     },
     "output_type": "execute_result"
    }
   ],
   "source": [
    "from keras.models import load_model\n",
    "model1 = load_model(original_base_dir + saved_model_name)\n",
    "model1"
   ]
  },
  {
   "cell_type": "code",
   "execution_count": 0,
   "metadata": {
    "colab": {},
    "colab_type": "code",
    "id": "7wrCsjlnGxG3"
   },
   "outputs": [],
   "source": [
    "with open(original_base_dir + '/history/history') as json_file:\n",
    "    history = json.load(json_file)\n",
    "history.get('val_acc')"
   ]
  },
  {
   "cell_type": "markdown",
   "metadata": {
    "colab_type": "text",
    "id": "6aaP3yUWO2dC"
   },
   "source": [
    "Let's plot the loss and accuracy of the model over the training and validation data during training:"
   ]
  },
  {
   "cell_type": "code",
   "execution_count": 0,
   "metadata": {
    "colab": {},
    "colab_type": "code",
    "id": "teMFY2tvO2dC"
   },
   "outputs": [],
   "source": [
    "import matplotlib.pyplot as plt\n",
    "\n",
    "acc = history['acc']\n",
    "val_acc = history['val_acc']\n",
    "loss = history['loss']\n",
    "val_loss = history['val_loss']\n",
    "\n",
    "epochs = range(len(acc))\n",
    "\n",
    "plt.plot(epochs, acc, 'bo', label='Training acc')\n",
    "plt.plot(epochs, val_acc, 'b', label='Validation acc')\n",
    "plt.title('Training and validation accuracy')\n",
    "plt.legend()\n",
    "\n",
    "plt.figure()\n",
    "\n",
    "plt.plot(epochs, loss, 'bo', label='Training loss')\n",
    "plt.plot(epochs, val_loss, 'b', label='Validation loss')\n",
    "plt.title('Training and validation loss')\n",
    "plt.legend()\n",
    "\n",
    "plt.show()"
   ]
  },
  {
   "cell_type": "markdown",
   "metadata": {
    "colab_type": "text",
    "id": "hbJ0985bnnHL"
   },
   "source": [
    "# Create Classification InceptionV3 Model"
   ]
  },
  {
   "cell_type": "code",
   "execution_count": 2,
   "metadata": {
    "colab": {
     "base_uri": "https://localhost:8080/",
     "height": 80
    },
    "colab_type": "code",
    "id": "Ld19RtSonnHL",
    "outputId": "4cd18900-279e-4cec-e3fa-db609c5f3ca2"
   },
   "outputs": [
    {
     "name": "stderr",
     "output_type": "stream",
     "text": [
      "Using TensorFlow backend.\n"
     ]
    },
    {
     "data": {
      "text/html": [
       "<p style=\"color: red;\">\n",
       "The default version of TensorFlow in Colab will soon switch to TensorFlow 2.x.<br>\n",
       "We recommend you <a href=\"https://www.tensorflow.org/guide/migrate\" target=\"_blank\">upgrade</a> now \n",
       "or ensure your notebook will continue to use TensorFlow 1.x via the <code>%tensorflow_version 1.x</code> magic:\n",
       "<a href=\"https://colab.research.google.com/notebooks/tensorflow_version.ipynb\" target=\"_blank\">more info</a>.</p>\n"
      ],
      "text/plain": [
       "<IPython.core.display.HTML object>"
      ]
     },
     "metadata": {
      "tags": []
     },
     "output_type": "display_data"
    }
   ],
   "source": [
    "# InceptionV3\n",
    "from keras.applications.inception_v3 import InceptionV3\n",
    "from keras.preprocessing import image\n",
    "from keras.models import Model\n",
    "from keras.layers import Dense, GlobalAveragePooling2D\n",
    "from keras import backend as K\n",
    "from keras import layers, models\n",
    "from keras.layers import Dropout\n",
    "\n",
    "inception_saved_model_name = '/inception_cross_entrophy_dim_500_class_566.h5'"
   ]
  },
  {
   "cell_type": "code",
   "execution_count": 3,
   "metadata": {
    "colab": {
     "base_uri": "https://localhost:8080/",
     "height": 564
    },
    "colab_type": "code",
    "id": "2--52CwbnnHO",
    "outputId": "af7dd1b0-eb06-461d-def7-d0b1895f2fb6"
   },
   "outputs": [
    {
     "name": "stdout",
     "output_type": "stream",
     "text": [
      "WARNING:tensorflow:From /usr/local/lib/python3.6/dist-packages/keras/backend/tensorflow_backend.py:66: The name tf.get_default_graph is deprecated. Please use tf.compat.v1.get_default_graph instead.\n",
      "\n",
      "WARNING:tensorflow:From /usr/local/lib/python3.6/dist-packages/keras/backend/tensorflow_backend.py:541: The name tf.placeholder is deprecated. Please use tf.compat.v1.placeholder instead.\n",
      "\n",
      "WARNING:tensorflow:From /usr/local/lib/python3.6/dist-packages/keras/backend/tensorflow_backend.py:4432: The name tf.random_uniform is deprecated. Please use tf.random.uniform instead.\n",
      "\n",
      "WARNING:tensorflow:From /usr/local/lib/python3.6/dist-packages/keras/backend/tensorflow_backend.py:190: The name tf.get_default_session is deprecated. Please use tf.compat.v1.get_default_session instead.\n",
      "\n",
      "WARNING:tensorflow:From /usr/local/lib/python3.6/dist-packages/keras/backend/tensorflow_backend.py:197: The name tf.ConfigProto is deprecated. Please use tf.compat.v1.ConfigProto instead.\n",
      "\n",
      "WARNING:tensorflow:From /usr/local/lib/python3.6/dist-packages/keras/backend/tensorflow_backend.py:203: The name tf.Session is deprecated. Please use tf.compat.v1.Session instead.\n",
      "\n",
      "WARNING:tensorflow:From /usr/local/lib/python3.6/dist-packages/keras/backend/tensorflow_backend.py:207: The name tf.global_variables is deprecated. Please use tf.compat.v1.global_variables instead.\n",
      "\n",
      "WARNING:tensorflow:From /usr/local/lib/python3.6/dist-packages/keras/backend/tensorflow_backend.py:216: The name tf.is_variable_initialized is deprecated. Please use tf.compat.v1.is_variable_initialized instead.\n",
      "\n",
      "WARNING:tensorflow:From /usr/local/lib/python3.6/dist-packages/keras/backend/tensorflow_backend.py:223: The name tf.variables_initializer is deprecated. Please use tf.compat.v1.variables_initializer instead.\n",
      "\n",
      "WARNING:tensorflow:From /usr/local/lib/python3.6/dist-packages/keras/backend/tensorflow_backend.py:2041: The name tf.nn.fused_batch_norm is deprecated. Please use tf.compat.v1.nn.fused_batch_norm instead.\n",
      "\n",
      "WARNING:tensorflow:From /usr/local/lib/python3.6/dist-packages/keras/backend/tensorflow_backend.py:148: The name tf.placeholder_with_default is deprecated. Please use tf.compat.v1.placeholder_with_default instead.\n",
      "\n",
      "WARNING:tensorflow:From /usr/local/lib/python3.6/dist-packages/keras/backend/tensorflow_backend.py:4267: The name tf.nn.max_pool is deprecated. Please use tf.nn.max_pool2d instead.\n",
      "\n",
      "WARNING:tensorflow:From /usr/local/lib/python3.6/dist-packages/keras/backend/tensorflow_backend.py:4271: The name tf.nn.avg_pool is deprecated. Please use tf.nn.avg_pool2d instead.\n",
      "\n",
      "Downloading data from https://github.com/fchollet/deep-learning-models/releases/download/v0.5/inception_v3_weights_tf_dim_ordering_tf_kernels_notop.h5\n",
      "87916544/87910968 [==============================] - 1s 0us/step\n",
      "WARNING:tensorflow:From /usr/local/lib/python3.6/dist-packages/keras/backend/tensorflow_backend.py:3733: calling dropout (from tensorflow.python.ops.nn_ops) with keep_prob is deprecated and will be removed in a future version.\n",
      "Instructions for updating:\n",
      "Please use `rate` instead of `keep_prob`. Rate should be set to `rate = 1 - keep_prob`.\n"
     ]
    }
   ],
   "source": [
    "model = models.Sequential()\n",
    "\n",
    "# Source of inspiration for code\n",
    "# https://keras.io/applications/#inceptionv3\n",
    "\n",
    "# create the base pre-trained model\n",
    "model.add(InceptionV3(weights='imagenet', include_top=False))\n",
    "for layer in model.layers:\n",
    "    layer.trainable = False\n",
    "\n",
    "# Add a Global Average Pooling Layer\n",
    "model.add(GlobalAveragePooling2D())\n",
    "\n",
    "# Add fully connected layer\n",
    "model.add(Dense(1024, activation='relu'))\n",
    "\n",
    "# Add dropout layer\n",
    "model.add(Dropout(0.2))\n",
    "\n",
    "# Add output layer\n",
    "model.add(Dense(5, activation='softmax'))\n"
   ]
  },
  {
   "cell_type": "code",
   "execution_count": 4,
   "metadata": {
    "colab": {
     "base_uri": "https://localhost:8080/",
     "height": 323
    },
    "colab_type": "code",
    "id": "K6RkArfGnnHP",
    "outputId": "b67df41d-910a-4390-cb24-6e6cb0e36643"
   },
   "outputs": [
    {
     "name": "stdout",
     "output_type": "stream",
     "text": [
      "Model: \"sequential_1\"\n",
      "_________________________________________________________________\n",
      "Layer (type)                 Output Shape              Param #   \n",
      "=================================================================\n",
      "inception_v3 (Model)         (None, None, None, 2048)  21802784  \n",
      "_________________________________________________________________\n",
      "global_average_pooling2d_1 ( (None, 2048)              0         \n",
      "_________________________________________________________________\n",
      "dense_1 (Dense)              (None, 1024)              2098176   \n",
      "_________________________________________________________________\n",
      "dropout_1 (Dropout)          (None, 1024)              0         \n",
      "_________________________________________________________________\n",
      "dense_2 (Dense)              (None, 5)                 5125      \n",
      "=================================================================\n",
      "Total params: 23,906,085\n",
      "Trainable params: 2,103,301\n",
      "Non-trainable params: 21,802,784\n",
      "_________________________________________________________________\n"
     ]
    }
   ],
   "source": [
    "model.summary()"
   ]
  },
  {
   "cell_type": "code",
   "execution_count": 0,
   "metadata": {
    "colab": {},
    "colab_type": "code",
    "id": "NpaJQZHsnnHS"
   },
   "outputs": [],
   "source": [
    "from keras.optimizers import SGD\n",
    "model.compile(optimizer=SGD(lr=0.0001, momentum=0.9), loss='categorical_crossentropy', metrics=['acc'])\n",
    "\n",
    "from keras.callbacks import ModelCheckpoint, EarlyStopping\n",
    "import math"
   ]
  },
  {
   "cell_type": "code",
   "execution_count": 0,
   "metadata": {
    "colab": {
     "base_uri": "https://localhost:8080/",
     "height": 1000
    },
    "colab_type": "code",
    "id": "LBRK7dEmnnHV",
    "outputId": "d8d6feab-d25e-4b7f-b39b-bedee1723ecd"
   },
   "outputs": [
    {
     "name": "stdout",
     "output_type": "stream",
     "text": [
      "Epoch 1/25\n",
      "142/142 [==============================] - 926s 7s/step - loss: 1.6154 - acc: 0.2183 - val_loss: 1.6117 - val_acc: 0.2254\n",
      "\n",
      "Epoch 00001: val_acc improved from -inf to 0.22535, saving model to /content/drive/My Drive/Colab Notebooks/SML_Project/inception_cross_entrophy_dim_500_class_566.h5\n",
      "Epoch 2/25\n",
      "142/142 [==============================] - 32s 224ms/step - loss: 1.5405 - acc: 0.3190 - val_loss: 1.5828 - val_acc: 0.2676\n",
      "\n",
      "Epoch 00002: val_acc improved from 0.22535 to 0.26761, saving model to /content/drive/My Drive/Colab Notebooks/SML_Project/inception_cross_entrophy_dim_500_class_566.h5\n",
      "Epoch 3/25\n",
      "142/142 [==============================] - 32s 229ms/step - loss: 1.4912 - acc: 0.3556 - val_loss: 1.5622 - val_acc: 0.2676\n",
      "\n",
      "Epoch 00003: val_acc did not improve from 0.26761\n",
      "Epoch 4/25\n",
      "142/142 [==============================] - 33s 229ms/step - loss: 1.4351 - acc: 0.3852 - val_loss: 1.5473 - val_acc: 0.2592\n",
      "\n",
      "Epoch 00004: val_acc did not improve from 0.26761\n",
      "Epoch 5/25\n",
      "142/142 [==============================] - 33s 229ms/step - loss: 1.4013 - acc: 0.3944 - val_loss: 1.5296 - val_acc: 0.2704\n",
      "\n",
      "Epoch 00005: val_acc improved from 0.26761 to 0.27042, saving model to /content/drive/My Drive/Colab Notebooks/SML_Project/inception_cross_entrophy_dim_500_class_566.h5\n",
      "Epoch 6/25\n",
      "142/142 [==============================] - 32s 228ms/step - loss: 1.3690 - acc: 0.3894 - val_loss: 1.5041 - val_acc: 0.3042\n",
      "\n",
      "Epoch 00006: val_acc improved from 0.27042 to 0.30423, saving model to /content/drive/My Drive/Colab Notebooks/SML_Project/inception_cross_entrophy_dim_500_class_566.h5\n",
      "Epoch 7/25\n",
      "142/142 [==============================] - 33s 229ms/step - loss: 1.3390 - acc: 0.4261 - val_loss: 1.4864 - val_acc: 0.3268\n",
      "\n",
      "Epoch 00007: val_acc improved from 0.30423 to 0.32676, saving model to /content/drive/My Drive/Colab Notebooks/SML_Project/inception_cross_entrophy_dim_500_class_566.h5\n",
      "Epoch 8/25\n",
      "142/142 [==============================] - 32s 228ms/step - loss: 1.3088 - acc: 0.4426 - val_loss: 1.4827 - val_acc: 0.3070\n",
      "\n",
      "Epoch 00008: val_acc did not improve from 0.32676\n",
      "Epoch 9/25\n",
      "142/142 [==============================] - 33s 230ms/step - loss: 1.2900 - acc: 0.4620 - val_loss: 1.4723 - val_acc: 0.3211\n",
      "\n",
      "Epoch 00009: val_acc did not improve from 0.32676\n",
      "Epoch 10/25\n",
      "142/142 [==============================] - 32s 228ms/step - loss: 1.2621 - acc: 0.4574 - val_loss: 1.4597 - val_acc: 0.3380\n",
      "\n",
      "Epoch 00010: val_acc improved from 0.32676 to 0.33803, saving model to /content/drive/My Drive/Colab Notebooks/SML_Project/inception_cross_entrophy_dim_500_class_566.h5\n",
      "Epoch 11/25\n",
      "142/142 [==============================] - 32s 228ms/step - loss: 1.2528 - acc: 0.4824 - val_loss: 1.4545 - val_acc: 0.3437\n",
      "\n",
      "Epoch 00011: val_acc improved from 0.33803 to 0.34366, saving model to /content/drive/My Drive/Colab Notebooks/SML_Project/inception_cross_entrophy_dim_500_class_566.h5\n",
      "Epoch 12/25\n",
      "142/142 [==============================] - 32s 227ms/step - loss: 1.2319 - acc: 0.4817 - val_loss: 1.4460 - val_acc: 0.3606\n",
      "\n",
      "Epoch 00012: val_acc improved from 0.34366 to 0.36056, saving model to /content/drive/My Drive/Colab Notebooks/SML_Project/inception_cross_entrophy_dim_500_class_566.h5\n",
      "Epoch 13/25\n",
      "142/142 [==============================] - 32s 229ms/step - loss: 1.2141 - acc: 0.4845 - val_loss: 1.4426 - val_acc: 0.3493\n",
      "\n",
      "Epoch 00013: val_acc did not improve from 0.36056\n",
      "Epoch 14/25\n",
      "142/142 [==============================] - 33s 230ms/step - loss: 1.1896 - acc: 0.5092 - val_loss: 1.4229 - val_acc: 0.3775\n",
      "\n",
      "Epoch 00014: val_acc improved from 0.36056 to 0.37746, saving model to /content/drive/My Drive/Colab Notebooks/SML_Project/inception_cross_entrophy_dim_500_class_566.h5\n",
      "Epoch 15/25\n",
      "142/142 [==============================] - 33s 229ms/step - loss: 1.1756 - acc: 0.5053 - val_loss: 1.4187 - val_acc: 0.3831\n",
      "\n",
      "Epoch 00015: val_acc improved from 0.37746 to 0.38310, saving model to /content/drive/My Drive/Colab Notebooks/SML_Project/inception_cross_entrophy_dim_500_class_566.h5\n",
      "Epoch 16/25\n",
      "142/142 [==============================] - 33s 231ms/step - loss: 1.1627 - acc: 0.5074 - val_loss: 1.4097 - val_acc: 0.3944\n",
      "\n",
      "Epoch 00016: val_acc improved from 0.38310 to 0.39437, saving model to /content/drive/My Drive/Colab Notebooks/SML_Project/inception_cross_entrophy_dim_500_class_566.h5\n",
      "Epoch 17/25\n",
      "142/142 [==============================] - 32s 225ms/step - loss: 1.1505 - acc: 0.5229 - val_loss: 1.4092 - val_acc: 0.3915\n",
      "\n",
      "Epoch 00017: val_acc did not improve from 0.39437\n",
      "Epoch 18/25\n",
      "142/142 [==============================] - 32s 226ms/step - loss: 1.1299 - acc: 0.5405 - val_loss: 1.4093 - val_acc: 0.3803\n",
      "\n",
      "Epoch 00018: val_acc did not improve from 0.39437\n",
      "Epoch 19/25\n",
      "142/142 [==============================] - 32s 226ms/step - loss: 1.1126 - acc: 0.5408 - val_loss: 1.4040 - val_acc: 0.3887\n",
      "\n",
      "Epoch 00019: val_acc did not improve from 0.39437\n",
      "Epoch 20/25\n",
      "142/142 [==============================] - 32s 226ms/step - loss: 1.0987 - acc: 0.5602 - val_loss: 1.3991 - val_acc: 0.3944\n",
      "\n",
      "Epoch 00020: val_acc did not improve from 0.39437\n"
     ]
    }
   ],
   "source": [
    "inception_filepath = original_base_dir + inception_saved_model_name\n",
    "inception_checkpoint = ModelCheckpoint(inception_filepath, monitor='val_acc', verbose=1, save_best_only=True, mode='max')\n",
    "inception_es = EarlyStopping(monitor='val_acc', mode='max', patience = 5)\n",
    "\n",
    "inception_callbacks_list = [inception_checkpoint, inception_es]\n",
    "inception_history = model.fit_generator(train_generator,\n",
    "                                 steps_per_epoch=math.ceil(2830/batch_size),\n",
    "        epochs=25,\n",
    "        validation_data=validation_generator,\n",
    "        validation_steps=math.ceil(355/batch_size),\n",
    "        callbacks=inception_callbacks_list,\n",
    "                                  verbose = 1\n",
    "                                 )\n",
    "\n",
    "# Get the dictionary containing each metric and the loss for each epoch and export to file\n",
    "history_dict = inception_history.history\n",
    "json.dump(history_dict, open(history_dir + '/inception_history', 'w'))"
   ]
  },
  {
   "cell_type": "code",
   "execution_count": 0,
   "metadata": {
    "colab": {
     "base_uri": "https://localhost:8080/",
     "height": 734
    },
    "colab_type": "code",
    "id": "1MYW4at91MnD",
    "outputId": "0e31d057-9a62-49a5-c20d-fd58927d978e"
   },
   "outputs": [
    {
     "name": "stdout",
     "output_type": "stream",
     "text": [
      "WARNING:tensorflow:From /usr/local/lib/python3.6/dist-packages/keras/backend/tensorflow_backend.py:541: The name tf.placeholder is deprecated. Please use tf.compat.v1.placeholder instead.\n",
      "\n",
      "WARNING:tensorflow:From /usr/local/lib/python3.6/dist-packages/keras/backend/tensorflow_backend.py:4432: The name tf.random_uniform is deprecated. Please use tf.random.uniform instead.\n",
      "\n",
      "WARNING:tensorflow:From /usr/local/lib/python3.6/dist-packages/keras/backend/tensorflow_backend.py:66: The name tf.get_default_graph is deprecated. Please use tf.compat.v1.get_default_graph instead.\n",
      "\n",
      "WARNING:tensorflow:From /usr/local/lib/python3.6/dist-packages/keras/backend/tensorflow_backend.py:190: The name tf.get_default_session is deprecated. Please use tf.compat.v1.get_default_session instead.\n",
      "\n",
      "WARNING:tensorflow:From /usr/local/lib/python3.6/dist-packages/keras/backend/tensorflow_backend.py:197: The name tf.ConfigProto is deprecated. Please use tf.compat.v1.ConfigProto instead.\n",
      "\n",
      "WARNING:tensorflow:From /usr/local/lib/python3.6/dist-packages/keras/backend/tensorflow_backend.py:203: The name tf.Session is deprecated. Please use tf.compat.v1.Session instead.\n",
      "\n",
      "WARNING:tensorflow:From /usr/local/lib/python3.6/dist-packages/keras/backend/tensorflow_backend.py:207: The name tf.global_variables is deprecated. Please use tf.compat.v1.global_variables instead.\n",
      "\n",
      "WARNING:tensorflow:From /usr/local/lib/python3.6/dist-packages/keras/backend/tensorflow_backend.py:216: The name tf.is_variable_initialized is deprecated. Please use tf.compat.v1.is_variable_initialized instead.\n",
      "\n",
      "WARNING:tensorflow:From /usr/local/lib/python3.6/dist-packages/keras/backend/tensorflow_backend.py:223: The name tf.variables_initializer is deprecated. Please use tf.compat.v1.variables_initializer instead.\n",
      "\n",
      "WARNING:tensorflow:From /usr/local/lib/python3.6/dist-packages/keras/backend/tensorflow_backend.py:2041: The name tf.nn.fused_batch_norm is deprecated. Please use tf.compat.v1.nn.fused_batch_norm instead.\n",
      "\n",
      "WARNING:tensorflow:From /usr/local/lib/python3.6/dist-packages/keras/backend/tensorflow_backend.py:148: The name tf.placeholder_with_default is deprecated. Please use tf.compat.v1.placeholder_with_default instead.\n",
      "\n",
      "WARNING:tensorflow:From /usr/local/lib/python3.6/dist-packages/keras/backend/tensorflow_backend.py:4267: The name tf.nn.max_pool is deprecated. Please use tf.nn.max_pool2d instead.\n",
      "\n",
      "WARNING:tensorflow:From /usr/local/lib/python3.6/dist-packages/keras/backend/tensorflow_backend.py:4271: The name tf.nn.avg_pool is deprecated. Please use tf.nn.avg_pool2d instead.\n",
      "\n",
      "WARNING:tensorflow:From /usr/local/lib/python3.6/dist-packages/keras/backend/tensorflow_backend.py:3733: calling dropout (from tensorflow.python.ops.nn_ops) with keep_prob is deprecated and will be removed in a future version.\n",
      "Instructions for updating:\n",
      "Please use `rate` instead of `keep_prob`. Rate should be set to `rate = 1 - keep_prob`.\n",
      "WARNING:tensorflow:From /usr/local/lib/python3.6/dist-packages/keras/optimizers.py:793: The name tf.train.Optimizer is deprecated. Please use tf.compat.v1.train.Optimizer instead.\n",
      "\n",
      "WARNING:tensorflow:From /usr/local/lib/python3.6/dist-packages/keras/backend/tensorflow_backend.py:3576: The name tf.log is deprecated. Please use tf.math.log instead.\n",
      "\n",
      "WARNING:tensorflow:From /usr/local/lib/python3.6/dist-packages/tensorflow_core/python/ops/math_grad.py:1424: where (from tensorflow.python.ops.array_ops) is deprecated and will be removed in a future version.\n",
      "Instructions for updating:\n",
      "Use tf.where in 2.0, which has the same broadcast rule as np.where\n",
      "WARNING:tensorflow:From /usr/local/lib/python3.6/dist-packages/keras/backend/tensorflow_backend.py:1033: The name tf.assign_add is deprecated. Please use tf.compat.v1.assign_add instead.\n",
      "\n",
      "WARNING:tensorflow:From /usr/local/lib/python3.6/dist-packages/keras/backend/tensorflow_backend.py:1020: The name tf.assign is deprecated. Please use tf.compat.v1.assign instead.\n",
      "\n"
     ]
    },
    {
     "data": {
      "text/plain": [
       "<keras.engine.training.Model at 0x7fb18cf67b00>"
      ]
     },
     "execution_count": 19,
     "metadata": {
      "tags": []
     },
     "output_type": "execute_result"
    }
   ],
   "source": [
    "from keras.models import load_model\n",
    "model_inception = load_model(original_base_dir + inception_saved_model_name)\n",
    "model_inception.compile(optimizer=SGD(lr=0.0001, momentum=0.9), loss='categorical_crossentropy', metrics=['acc'])\n",
    "\n",
    "model_inception"
   ]
  },
  {
   "cell_type": "code",
   "execution_count": 0,
   "metadata": {
    "colab": {
     "base_uri": "https://localhost:8080/",
     "height": 221
    },
    "colab_type": "code",
    "id": "-SWVWQEQ1MnP",
    "outputId": "e5105085-e3df-4e8a-c7a1-0e1f1a75e7ad"
   },
   "outputs": [
    {
     "data": {
      "text/plain": [
       "[0.20294117993291685,\n",
       " 0.23880597415255078,\n",
       " 0.274626869763901,\n",
       " 0.2895522442326617,\n",
       " 0.34328358431360617,\n",
       " 0.27761194109916687,\n",
       " 0.32835821429295325,\n",
       " 0.3820895530394654,\n",
       " 0.30447761758939546,\n",
       " 0.34925373054262415,\n",
       " 0.3223880640606382,\n",
       " 0.3134328367105171]"
      ]
     },
     "execution_count": 28,
     "metadata": {
      "tags": []
     },
     "output_type": "execute_result"
    }
   ],
   "source": [
    "with open(original_base_dir + '/history/inception_history') as json_file:\n",
    "    history = json.load(json_file)\n",
    "history.get('val_acc')"
   ]
  },
  {
   "cell_type": "markdown",
   "metadata": {
    "colab_type": "text",
    "id": "9Hda1DDb1MnR"
   },
   "source": [
    "# Plot Training Loss and Accuracy across Epochs"
   ]
  },
  {
   "cell_type": "code",
   "execution_count": 0,
   "metadata": {
    "colab": {
     "base_uri": "https://localhost:8080/",
     "height": 545
    },
    "colab_type": "code",
    "id": "9s1eOcYh1MnS",
    "outputId": "7a0add64-8fb0-4cdc-8fa3-c952bc08a01f"
   },
   "outputs": [
    {
     "data": {
      "image/png": "[encoded data removed]",
      "text/plain": [
       "<Figure size 432x288 with 1 Axes>"
      ]
     },
     "metadata": {
      "tags": []
     },
     "output_type": "display_data"
    },
    {
     "data": {
      "image/png": "[encoded data removed]",
      "text/plain": [
       "<Figure size 432x288 with 1 Axes>"
      ]
     },
     "metadata": {
      "tags": []
     },
     "output_type": "display_data"
    }
   ],
   "source": [
    "import matplotlib.pyplot as plt\n",
    "\n",
    "acc = history['acc']\n",
    "val_acc = history['val_acc']\n",
    "loss = history['loss']\n",
    "val_loss = history['val_loss']\n",
    "\n",
    "epochs = range(len(acc))\n",
    "\n",
    "plt.plot(epochs, acc, 'bo', label='Training acc')\n",
    "plt.plot(epochs, val_acc, 'b', label='Validation acc')\n",
    "plt.title('Training and validation accuracy')\n",
    "plt.legend()\n",
    "\n",
    "plt.figure()\n",
    "\n",
    "plt.plot(epochs, loss, 'bo', label='Training loss')\n",
    "plt.plot(epochs, val_loss, 'b', label='Validation loss')\n",
    "plt.title('Training and validation loss')\n",
    "plt.legend()\n",
    "\n",
    "plt.show()"
   ]
  },
  {
   "cell_type": "markdown",
   "metadata": {
    "colab_type": "text",
    "id": "rba0WYiV8kVl"
   },
   "source": [
    "# Classification Validation Results"
   ]
  },
  {
   "cell_type": "code",
   "execution_count": 0,
   "metadata": {
    "colab": {
     "base_uri": "https://localhost:8080/",
     "height": 340
    },
    "colab_type": "code",
    "id": "7Vhv_xTI-a6S",
    "outputId": "2c6e7b65-0fb3-4e01-94a4-38defe06e119"
   },
   "outputs": [
    {
     "name": "stdout",
     "output_type": "stream",
     "text": [
      "Confusion Matrix\n",
      "[[39  9  5 17  1]\n",
      " [23 10 16 19  3]\n",
      " [26  4  9 29  3]\n",
      " [ 5  5  7 38 16]\n",
      " [ 4  2  8 13 44]]\n",
      "Classification Report\n",
      "              precision    recall  f1-score   support\n",
      "\n",
      "   resized_0       0.40      0.55      0.46        71\n",
      "   resized_1       0.33      0.14      0.20        71\n",
      "   resized_2       0.20      0.13      0.16        71\n",
      "   resized_3       0.33      0.54      0.41        71\n",
      "   resized_4       0.66      0.62      0.64        71\n",
      "\n",
      "    accuracy                           0.39       355\n",
      "   macro avg       0.38      0.39      0.37       355\n",
      "weighted avg       0.38      0.39      0.37       355\n",
      "\n"
     ]
    }
   ],
   "source": [
    "# Inspiration on generating scores for classification training\n",
    "# https://gist.github.com/RyanAkilos/3808c17f79e77c4117de35aa68447045\n",
    "\n",
    "import numpy as np\n",
    "from sklearn.metrics import classification_report, confusion_matrix\n",
    "Y_pred = model_inception.predict_generator(validation_generator, 355/batch_size)\n",
    "y_pred = np.argmax(Y_pred, axis=1)\n",
    "print('Confusion Matrix')\n",
    "print(confusion_matrix(validation_generator.classes, y_pred))\n",
    "print('Classification Report')\n",
    "target_names = ['resized_0','resized_1','resized_2','resized_3','resized_4']\n",
    "print(classification_report(validation_generator.classes, y_pred, target_names=target_names))"
   ]
  },
  {
   "cell_type": "code",
   "execution_count": 0,
   "metadata": {
    "colab": {},
    "colab_type": "code",
    "id": "x0HE9NEcAPKV"
   },
   "outputs": [],
   "source": [
    "confusion_matrix_object = confusion_matrix(validation_generator.classes, y_pred) "
   ]
  },
  {
   "cell_type": "code",
   "execution_count": 0,
   "metadata": {
    "colab": {
     "base_uri": "https://localhost:8080/",
     "height": 34
    },
    "colab_type": "code",
    "id": "sFOtpUWDAUqE",
    "outputId": "fc638d39-2232-48d0-9f35-922ba13c5315"
   },
   "outputs": [
    {
     "data": {
      "text/plain": [
       "0.2704225352112676"
      ]
     },
     "execution_count": 23,
     "metadata": {
      "tags": []
     },
     "output_type": "execute_result"
    }
   ],
   "source": [
    "# Accuracy overall\n",
    "(confusion_matrix_object[0,0] + confusion_matrix_object[1,1]+ confusion_matrix_object[2,2]+ confusion_matrix_object[3,3]) / 355"
   ]
  },
  {
   "cell_type": "markdown",
   "metadata": {
    "colab_type": "text",
    "id": "ZkOaEiR_8sJT"
   },
   "source": [
    "# Classification Testing Results"
   ]
  },
  {
   "cell_type": "code",
   "execution_count": 0,
   "metadata": {
    "colab": {
     "base_uri": "https://localhost:8080/",
     "height": 34
    },
    "colab_type": "code",
    "id": "buYmZofp8t9s",
    "outputId": "c6ee629a-0e97-4518-d8ec-a529dbdccd5a"
   },
   "outputs": [
    {
     "name": "stdout",
     "output_type": "stream",
     "text": [
      "Found 355 images belonging to 5 classes.\n"
     ]
    }
   ],
   "source": [
    "test_dir = os.path.join(directory, data_folder_name, 'test')\n",
    "\n",
    "testing_generator = test_datagen.flow_from_directory(\n",
    "        test_dir,\n",
    "        target_size=(x, y),\n",
    "        batch_size=batch_size,\n",
    "        shuffle = False,\n",
    "        class_mode='categorical')\n",
    "# 355/5=71"
   ]
  },
  {
   "cell_type": "code",
   "execution_count": 0,
   "metadata": {
    "colab": {
     "base_uri": "https://localhost:8080/",
     "height": 357
    },
    "colab_type": "code",
    "id": "CCvEh_vLD65J",
    "outputId": "a6f5bcad-b58c-4770-9cf1-d561a6216c9c"
   },
   "outputs": [
    {
     "name": "stdout",
     "output_type": "stream",
     "text": [
      "Confusion Matrix\n",
      "[[39  9  8  9  6]\n",
      " [40 11  4 14  2]\n",
      " [21  5 13 24  8]\n",
      " [10  5  5 36 15]\n",
      " [ 6  0 14 18 33]]\n",
      "Classification Report\n",
      "              precision    recall  f1-score   support\n",
      "\n",
      "   resized_0       0.34      0.55      0.42        71\n",
      "   resized_1       0.37      0.15      0.22        71\n",
      "   resized_2       0.30      0.18      0.23        71\n",
      "   resized_3       0.36      0.51      0.42        71\n",
      "   resized_4       0.52      0.46      0.49        71\n",
      "\n",
      "    accuracy                           0.37       355\n",
      "   macro avg       0.37      0.37      0.35       355\n",
      "weighted avg       0.37      0.37      0.35       355\n",
      "\n"
     ]
    },
    {
     "data": {
      "text/plain": [
       "0.27887323943661974"
      ]
     },
     "execution_count": 25,
     "metadata": {
      "tags": []
     },
     "output_type": "execute_result"
    }
   ],
   "source": [
    "import numpy as np\n",
    "from sklearn.metrics import classification_report, confusion_matrix\n",
    "Y_pred_test = model_inception.predict_generator(testing_generator, 355/batch_size)\n",
    "y_pred_test = np.argmax(Y_pred_test, axis=1)\n",
    "print('Confusion Matrix')\n",
    "print(confusion_matrix(testing_generator.classes, y_pred_test))\n",
    "print('Classification Report')\n",
    "target_names = ['resized_0','resized_1','resized_2','resized_3','resized_4']\n",
    "print(classification_report(testing_generator.classes, y_pred_test, target_names=target_names))\n",
    "\n",
    "confusion_matrix_object_test = confusion_matrix(testing_generator.classes, y_pred_test) \n",
    "\n",
    "# Overall accuracy\n",
    "(confusion_matrix_object_test[0,0] + confusion_matrix_object_test[1,1]+ confusion_matrix_object_test[2,2]+ confusion_matrix_object_test[3,3]) / 355"
   ]
  }
 ],
 "metadata": {
  "accelerator": "GPU",
  "colab": {
   "collapsed_sections": [],
   "name": "CNN_Diabetic_Retinopathy_Classification.ipynb",
   "provenance": []
  },
  "kernelspec": {
   "display_name": "Python 3",
   "language": "python",
   "name": "python3"
  },
  "language_info": {
   "codemirror_mode": {
    "name": "ipython",
    "version": 3
   },
   "file_extension": ".py",
   "mimetype": "text/x-python",
   "name": "python",
   "nbconvert_exporter": "python",
   "pygments_lexer": "ipython3",
   "version": "3.7.3"
  }
 },
 "nbformat": 4,
 "nbformat_minor": 1
}
