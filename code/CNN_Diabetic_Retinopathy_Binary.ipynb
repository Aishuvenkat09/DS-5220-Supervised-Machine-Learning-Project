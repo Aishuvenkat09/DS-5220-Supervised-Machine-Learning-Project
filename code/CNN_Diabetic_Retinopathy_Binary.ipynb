{
  "nbformat": 4,
  "nbformat_minor": 0,
  "metadata": {
    "accelerator": "GPU",
    "colab": {
      "name": "CNN_Diabetic_Retinopathy_Binary.ipynb",
      "provenance": [],
      "collapsed_sections": []
    },
    "kernelspec": {
      "display_name": "Python 3",
      "language": "python",
      "name": "python3"
    },
    "language_info": {
      "codemirror_mode": {
        "name": "ipython",
        "version": 3
      },
      "file_extension": ".py",
      "mimetype": "text/x-python",
      "name": "python",
      "nbconvert_exporter": "python",
      "pygments_lexer": "ipython3",
      "version": "3.7.3"
    }
  },
  "cells": [
    {
      "cell_type": "markdown",
      "metadata": {
        "colab_type": "text",
        "id": "UdNksH15FbXb"
      },
      "source": [
        "# Diabetic Retinopathy Binary Classification using Inception V3 Fine Tuning\n",
        "## Input:\n",
        "##### 1) Set up connection of Google Colab to Google Drive or comment out section for use on local computer\n",
        "##### 2) Set up use of GPU for processing\n",
        "##### 3) Set up directoy paths and excpected size of data\n",
        "##### 4) Make sure the designated folder has data in the format of train/val/test with folders of resized_0 for healthy images and resized_1 for the folder of sick eyes. Original data can be found at https://www.kaggle.com/c/diabetic-retinopathy-detection/data\n",
        "\n",
        "## Output:\n",
        "##### 1) Fine-tuned Inception V3 is created\n",
        "##### 2) JSON file with Accuracy and Cross Entrophy Loss based on Training and Validation Set\n",
        "\n",
        "## Prints\n",
        "#### 1) Metrics of overall validation set accuracy, validation set confusion matrix, and accuracy for class 0 and class 1.\n",
        "#### 2) Validation metrics are shared for test set\n",
        "#### 3) Printed training loss and accuracy across epochs of training"
      ]
    },
    {
      "cell_type": "markdown",
      "metadata": {
        "colab_type": "text",
        "id": "FCaKj8eRGGBK"
      },
      "source": [
        "# Setup"
      ]
    },
    {
      "cell_type": "code",
      "metadata": {
        "colab_type": "code",
        "id": "dXW43PpVFYxv",
        "outputId": "b4892194-65f6-4d08-dabf-5bf54367db72",
        "colab": {
          "base_uri": "https://localhost:8080/",
          "height": 97
        }
      },
      "source": [
        "# Keras\n",
        "import keras\n",
        "from keras import metrics\n",
        "\n",
        "# File and Folder Management\n",
        "import os, shutil\n",
        "\n",
        "# Store history\n",
        "import json"
      ],
      "execution_count": 1,
      "outputs": [
        {
          "output_type": "stream",
          "text": [
            "Using TensorFlow backend.\n"
          ],
          "name": "stderr"
        },
        {
          "output_type": "display_data",
          "data": {
            "text/html": [
              "<p style=\"color: red;\">\n",
              "The default version of TensorFlow in Colab will soon switch to TensorFlow 2.x.<br>\n",
              "We recommend you <a href=\"https://www.tensorflow.org/guide/migrate\" target=\"_blank\">upgrade</a> now \n",
              "or ensure your notebook will continue to use TensorFlow 1.x via the <code>%tensorflow_version 1.x</code> magic:\n",
              "<a href=\"https://colab.research.google.com/notebooks/tensorflow_version.ipynb\" target=\"_blank\">more info</a>.</p>\n"
            ],
            "text/plain": [
              "<IPython.core.display.HTML object>"
            ]
          },
          "metadata": {
            "tags": []
          }
        },
        {
          "output_type": "stream",
          "text": [
            "2.2.5\n"
          ],
          "name": "stdout"
        }
      ]
    },
    {
      "cell_type": "markdown",
      "metadata": {
        "colab_type": "text",
        "id": "I0YMD2iOO2cZ"
      },
      "source": [
        "\n",
        "\n",
        "\n",
        "\n",
        "This notebook contains the code sample found in Chapter 5, Section 2 of [Deep Learning with Python](https://www.manning.com/books/deep-learning-with-python?a_aid=keras&a_bid=76564dff)"
      ]
    },
    {
      "cell_type": "code",
      "metadata": {
        "colab_type": "code",
        "id": "qiTsG-KfPt2U",
        "outputId": "71718c8b-498f-4b23-ee83-2526b891142b",
        "colab": {
          "base_uri": "https://localhost:8080/",
          "height": 122
        }
      },
      "source": [
        "from google.colab import drive\n",
        "drive.mount('/content/drive')"
      ],
      "execution_count": 3,
      "outputs": [
        {
          "output_type": "stream",
          "text": [
            "Go to this URL in a browser: https://accounts.google.com/o/oauth2/auth?client_id=947318989803-6bn6qk8qdgf4n4g3pfee6491hc0brc4i.apps.googleusercontent.com&redirect_uri=urn%3aietf%3awg%3aoauth%3a2.0%3aoob&response_type=code&scope=email%20https%3a%2f%2fwww.googleapis.com%2fauth%2fdocs.test%20https%3a%2f%2fwww.googleapis.com%2fauth%2fdrive%20https%3a%2f%2fwww.googleapis.com%2fauth%2fdrive.photos.readonly%20https%3a%2f%2fwww.googleapis.com%2fauth%2fpeopleapi.readonly\n",
            "\n",
            "Enter your authorization code:\n",
            "··········\n",
            "Mounted at /content/drive\n"
          ],
          "name": "stdout"
        }
      ]
    },
    {
      "cell_type": "code",
      "metadata": {
        "colab_type": "code",
        "id": "AFB8Ac7zQyb_",
        "colab": {}
      },
      "source": [
        "# Set directory\n",
        "directory = \"/content/drive/My Drive/colab/\"\n",
        "\n",
        "# Local Computer\n",
        "#aaron_dir = '../SML_Project_Data'\n",
        "#directory = aaron_dir\n",
        "\n",
        "# Directory for inspecting train/val or test set\n",
        "#directory = \"/content/drive/My Drive/colab/data_binary_full_0/train\"\n",
        "\n",
        "#-------- Model ---------\n",
        "### binary_data_full_0\n",
        "inception_saved_model_name = '/inception_binary_dim_500_class_full_0_v2.h5'\n",
        "### binary_data_full_0\n",
        "#inception_saved_model_name = '/inception_binary_dim_500_class_full_0.h5'\n",
        "### binary_data_4\n",
        "#inception_saved_model_name = '/inception_binary_dim_500_class_4.h5'\n",
        "### binary_data_all_random\n",
        "#inception_saved_model_name = '/inception_binary_dim_500_class_all_rand.h5'\n",
        "### binary_data_all\n",
        "#inception_saved_model_name = '/inception_binary_dim_500_class_all.h5'\n",
        "### 256\n",
        "#inception_saved_model_name = '/inception_binary_dim_256_class_crop.h5'\n",
        "\n",
        "#--------- History ------\n",
        "### binary_data_full_0\n",
        "history_file_name = 'binary_binary_data_full_0_history'\n",
        "### binary_data_4\n",
        "#history_file_name = 'binary_data_4_history'\n",
        "### binary_data_all_random\n",
        "#history_file_name = 'binary_all_rand_inception_history'\n",
        "### binary_data_all\n",
        "#history_file_name = 'binary_all_inception_history'\n",
        "### 256\n",
        "#history_file_name = 'binary_256_inception_history'\n",
        "\n",
        "#------ Data Folder ----\n",
        "### binary_data_full_0\n",
        "data_folder_name = 'data_binary_full_0'\n",
        "### binary_data_4\n",
        "#data_folder_name = 'binary_data_4'\n",
        "### binary_data_all_random\n",
        "#data_folder_name = 'data_binary_all_random'\n",
        "### binary_data_all\n",
        "#data_folder_name = 'binary_data_all'\n",
        "### 256\n",
        "#data_folder_name = 'data_binary_crop'\n",
        "\n",
        "#------- Dimensions ----\n",
        "### binary_data_all_random\n",
        "### binary_data_all\n",
        "x = 500\n",
        "y = 500\n",
        "### 256\n",
        "#x = 256\n",
        "#y = 256\n",
        "\n",
        "\n",
        "#--------- Count --------\n",
        "### binary_data_full_0\n",
        "training_data_count = 51336 # 25668 * 2\n",
        "validation_data_count = 142 # 71*2\n",
        "### binary_data_4\n",
        "#training_data_count = 1132 # 566 * 2\n",
        "#validation_data_count = 142 # 71*2\n",
        "### binary_data_all_random\n",
        "#training_data_count = 14908 # 7454 * 2\n",
        "#validation_data_count = 1862 # 931 * 2\n",
        "### binary_data_all\n",
        "#training_data_count = 17496 # 8748*2\n",
        "#validation_data_count = 568 # 284*2\n",
        "### 256\n",
        "#training_data_count = 14632\n",
        "#validation_data_count = 2000\n",
        "\n",
        "#--------- ROC Curve --------\n",
        "### binary_data_full_0\n",
        "roc_title = 'Receiver Operating Characteristics - Inception v3 - All Healthy versus Disease Class 4'\n",
        "### data_binary_4\n",
        "#roc_title = 'Receiver Operating Characteristics - Inception v3 - Healthy versus Disease Class 4'\n",
        "### binary_data_all\n",
        "#roc_title = 'Receiver Operating Characteristics - Inception v3 - Healthy versus Diseased'\n"
      ],
      "execution_count": 0,
      "outputs": []
    },
    {
      "cell_type": "code",
      "metadata": {
        "colab_type": "code",
        "id": "dCvg3RofbqxV",
        "colab": {
          "base_uri": "https://localhost:8080/",
          "height": 51
        },
        "outputId": "445ebbc7-c14a-4fdf-bc15-cb51468844dc"
      },
      "source": [
        "!pwd\n",
        "os.chdir(directory)\n",
        "!ls"
      ],
      "execution_count": 101,
      "outputs": [
        {
          "output_type": "stream",
          "text": [
            "/content/drive/My Drive/colab\n",
            "data_binary_full_0  history  inception_binary_dim_500_class_full_0.h5\n"
          ],
          "name": "stdout"
        }
      ]
    },
    {
      "cell_type": "markdown",
      "metadata": {
        "id": "01p7wdJtfl3H",
        "colab_type": "text"
      },
      "source": [
        ""
      ]
    },
    {
      "cell_type": "code",
      "metadata": {
        "id": "XseSPcZ-b9yC",
        "colab_type": "code",
        "colab": {}
      },
      "source": [
        "#!mv resized_4 resized_1"
      ],
      "execution_count": 0,
      "outputs": []
    },
    {
      "cell_type": "code",
      "metadata": {
        "id": "Tb_ZgIeKfmnw",
        "colab_type": "code",
        "colab": {}
      },
      "source": [
        "#!unzip -qq resized_0.zip"
      ],
      "execution_count": 0,
      "outputs": []
    },
    {
      "cell_type": "code",
      "metadata": {
        "colab_type": "code",
        "id": "fJ6lYil5QGwN",
        "colab": {}
      },
      "source": [
        "#!unzip -qq resized_1.zip"
      ],
      "execution_count": 0,
      "outputs": []
    },
    {
      "cell_type": "code",
      "metadata": {
        "id": "Ct-R9AVleDGt",
        "colab_type": "code",
        "colab": {}
      },
      "source": [
        "#rm -rf __MACOSX"
      ],
      "execution_count": 0,
      "outputs": []
    },
    {
      "cell_type": "markdown",
      "metadata": {
        "colab_type": "text",
        "id": "WQEwdbFmGJlz"
      },
      "source": [
        "# Create Directories"
      ]
    },
    {
      "cell_type": "code",
      "metadata": {
        "colab_type": "code",
        "id": "DquqqA7kFgRt",
        "outputId": "c8e092d8-d49a-4775-acb7-723591401575",
        "colab": {
          "base_uri": "https://localhost:8080/",
          "height": 51
        }
      },
      "source": [
        "# Directory of training data\n",
        "original_base_dir = directory\n",
        "\n",
        "base_dir = original_base_dir + \"/\" + data_folder_name\n",
        "\n",
        "try:\n",
        "    os.mkdir(base_dir)\n",
        "except FileExistsError:\n",
        "  print('Folder Already Exists \\n')\n",
        "else:\n",
        "  print('Creating Folder \\n')"
      ],
      "execution_count": 102,
      "outputs": [
        {
          "output_type": "stream",
          "text": [
            "Folder Already Exists \n",
            "\n"
          ],
          "name": "stdout"
        }
      ]
    },
    {
      "cell_type": "code",
      "metadata": {
        "colab_type": "code",
        "id": "mZU6LIxuMtXC",
        "colab": {}
      },
      "source": [
        "history_dir = directory + '/history'\n",
        "\n",
        "train_dir = os.path.join(directory, data_folder_name, 'train')\n",
        "val_dir = os.path.join(directory, data_folder_name, 'val')\n",
        "\n",
        "train_0_dir = os.path.join(train_dir, 'resized_0')\n",
        "train_1_dir = os.path.join(train_dir, 'resized_1')\n",
        "\n",
        "val_0_dir = os.path.join(val_dir, 'resized_0')\n",
        "val_1_dir = os.path.join(val_dir, 'resized_1')\n",
        "\n",
        "def create_folder(path):\n",
        "  print('Looking to create folder of', path)\n",
        "  try:\n",
        "      os.mkdir(path)\n",
        "  except FileExistsError:\n",
        "    print('Folder Already Exists \\n')\n",
        "  else:\n",
        "    print('Creating Folder \\n')"
      ],
      "execution_count": 0,
      "outputs": []
    },
    {
      "cell_type": "code",
      "metadata": {
        "colab_type": "code",
        "id": "9fxV2eHOO2cb",
        "outputId": "fa63e124-2382-437c-d2fd-b2d815723c8b",
        "colab": {
          "base_uri": "https://localhost:8080/",
          "height": 68
        }
      },
      "source": [
        "history_dir = directory + '/history'\n",
        "create_folder(history_dir)"
      ],
      "execution_count": 104,
      "outputs": [
        {
          "output_type": "stream",
          "text": [
            "Looking to create folder of /content/drive/My Drive/colab//history\n",
            "Folder Already Exists \n",
            "\n"
          ],
          "name": "stdout"
        }
      ]
    },
    {
      "cell_type": "code",
      "metadata": {
        "colab_type": "code",
        "id": "Tf4T9dOqOCZO",
        "outputId": "38166b9c-abf5-4147-f9d1-4f9fd82c39bf",
        "colab": {
          "base_uri": "https://localhost:8080/",
          "height": 323
        }
      },
      "source": [
        "# Create all Train and Validate Folders in Data with Folders for each Class\n",
        "for data_type in ('train', 'val', 'test'):\n",
        "  for disease in (0, 1):\n",
        "    path = directory + '/' + data_folder_name + '/' + data_type + '/resized_' + str(disease)\n",
        "    create_folder(path)"
      ],
      "execution_count": 105,
      "outputs": [
        {
          "output_type": "stream",
          "text": [
            "Looking to create folder of /content/drive/My Drive/colab//data_binary_full_0/train/resized_0\n",
            "Folder Already Exists \n",
            "\n",
            "Looking to create folder of /content/drive/My Drive/colab//data_binary_full_0/train/resized_1\n",
            "Folder Already Exists \n",
            "\n",
            "Looking to create folder of /content/drive/My Drive/colab//data_binary_full_0/val/resized_0\n",
            "Folder Already Exists \n",
            "\n",
            "Looking to create folder of /content/drive/My Drive/colab//data_binary_full_0/val/resized_1\n",
            "Folder Already Exists \n",
            "\n",
            "Looking to create folder of /content/drive/My Drive/colab//data_binary_full_0/test/resized_0\n",
            "Folder Already Exists \n",
            "\n",
            "Looking to create folder of /content/drive/My Drive/colab//data_binary_full_0/test/resized_1\n",
            "Folder Already Exists \n",
            "\n"
          ],
          "name": "stdout"
        }
      ]
    },
    {
      "cell_type": "code",
      "metadata": {
        "id": "hVYpidWVnnGt",
        "colab_type": "code",
        "colab": {}
      },
      "source": [
        "from keras import layers\n",
        "from keras import models"
      ],
      "execution_count": 0,
      "outputs": []
    },
    {
      "cell_type": "markdown",
      "metadata": {
        "colab_type": "text",
        "id": "tM0MPJPjO2c2"
      },
      "source": [
        "## Data preprocessing"
      ]
    },
    {
      "cell_type": "code",
      "metadata": {
        "colab_type": "code",
        "id": "cbA--wZcO2c2",
        "outputId": "ff8290ff-3732-45bf-9ce7-02c17fcd6d39",
        "colab": {
          "base_uri": "https://localhost:8080/",
          "height": 68
        }
      },
      "source": [
        "from keras.preprocessing.image import ImageDataGenerator\n",
        "\n",
        "datagen = ImageDataGenerator(rescale=1./255)\n",
        "\n",
        "batch_size = 256\n",
        "\n",
        "train_generator = datagen.flow_from_directory(\n",
        "        train_dir,\n",
        "        target_size=(x, y),\n",
        "        batch_size=batch_size,\n",
        "        class_mode='binary')\n",
        "\n",
        "### binary_data_full_0\n",
        "#training_data_count = 51336 # 25668 * 2\n",
        "### data_binary_4\n",
        "# 1132 # 566 * 2\n",
        "### 566 Classification\n",
        "# 2830/5=566\n",
        "### binary_data_all_rand\n",
        "# 14908\n",
        "### binary_data_all\n",
        "# 17496/2=8748\n",
        "### 256\n",
        "# 14632/2= 7317\n",
        "\n",
        "validation_generator = datagen.flow_from_directory(\n",
        "        val_dir,\n",
        "        target_size=(x, y),\n",
        "        batch_size=batch_size,\n",
        "        class_mode='binary',\n",
        "        shuffle = False)\n",
        "### binary_data_full_0\n",
        "# 142 # 71*2\n",
        "### data_binary_4\n",
        "# 142 # 71*2\n",
        "### 566 Classification\n",
        "# 355/5=71\n",
        "### binary_data_all_rand\n",
        "# 1862 = 932*2\n",
        "### binary_data_all\n",
        "# 568/2=284\n",
        "### 256\n",
        "# 2000/2 = 1000\n",
        "\n",
        "# View class labels\n",
        "print('View class labels', train_generator.class_indices)"
      ],
      "execution_count": 107,
      "outputs": [
        {
          "output_type": "stream",
          "text": [
            "Found 51336 images belonging to 2 classes.\n",
            "Found 142 images belonging to 2 classes.\n",
            "View class labels {'resized_0': 0, 'resized_1': 1}\n"
          ],
          "name": "stdout"
        }
      ]
    },
    {
      "cell_type": "markdown",
      "metadata": {
        "id": "hbJ0985bnnHL",
        "colab_type": "text"
      },
      "source": [
        "# Create Classification InceptionV3 Model"
      ]
    },
    {
      "cell_type": "code",
      "metadata": {
        "id": "Ld19RtSonnHL",
        "colab_type": "code",
        "colab": {}
      },
      "source": [
        "from keras.applications.inception_v3 import InceptionV3\n",
        "from keras.preprocessing import image\n",
        "from keras.models import Model\n",
        "from keras import backend as K\n",
        "from keras.layers import Dropout, Dense, GlobalAveragePooling2D"
      ],
      "execution_count": 0,
      "outputs": []
    },
    {
      "cell_type": "code",
      "metadata": {
        "id": "yIUVMABQBivY",
        "colab_type": "code",
        "colab": {
          "base_uri": "https://localhost:8080/",
          "height": 323
        },
        "outputId": "dc79361e-a960-4c04-d1e2-53397d91e3a0"
      },
      "source": [
        "model = models.Sequential()\n",
        "\n",
        "# Source of inspiration for code\n",
        "# https://keras.io/applications/#inceptionv3\n",
        "\n",
        "# create the base pre-trained model\n",
        "model.add(InceptionV3(weights='imagenet', include_top=False))\n",
        "for layer in model.layers:\n",
        "    layer.trainable = False\n",
        "\n",
        "# Add a Global Average Pooling Layer\n",
        "model.add(GlobalAveragePooling2D())\n",
        "\n",
        "# Add fully connected layer\n",
        "model.add(Dense(524, activation='relu'))\n",
        "\n",
        "# Add dropout layer\n",
        "model.add(Dropout(0.5))\n",
        "\n",
        "# Add output layer\n",
        "model.add(Dense(1, activation='sigmoid'))\n",
        "\n",
        "model.summary()"
      ],
      "execution_count": 109,
      "outputs": [
        {
          "output_type": "stream",
          "text": [
            "Model: \"sequential_3\"\n",
            "_________________________________________________________________\n",
            "Layer (type)                 Output Shape              Param #   \n",
            "=================================================================\n",
            "inception_v3 (Model)         (None, None, None, 2048)  21802784  \n",
            "_________________________________________________________________\n",
            "global_average_pooling2d_3 ( (None, 2048)              0         \n",
            "_________________________________________________________________\n",
            "dense_5 (Dense)              (None, 524)               1073676   \n",
            "_________________________________________________________________\n",
            "dropout_3 (Dropout)          (None, 524)               0         \n",
            "_________________________________________________________________\n",
            "dense_6 (Dense)              (None, 1)                 525       \n",
            "=================================================================\n",
            "Total params: 22,876,985\n",
            "Trainable params: 1,074,201\n",
            "Non-trainable params: 21,802,784\n",
            "_________________________________________________________________\n"
          ],
          "name": "stdout"
        }
      ]
    },
    {
      "cell_type": "code",
      "metadata": {
        "id": "NpaJQZHsnnHS",
        "colab_type": "code",
        "colab": {}
      },
      "source": [
        "from keras.optimizers import SGD\n",
        "model.compile(optimizer=SGD(lr=0.0001, momentum=0.9), loss='binary_crossentropy', metrics=['acc'])\n",
        "\n",
        "from keras.callbacks import ModelCheckpoint, EarlyStopping\n",
        "import math"
      ],
      "execution_count": 0,
      "outputs": []
    },
    {
      "cell_type": "code",
      "metadata": {
        "id": "LBRK7dEmnnHV",
        "colab_type": "code",
        "outputId": "91b82ce8-0eb6-4ee0-dc3e-21cfe94759ff",
        "colab": {
          "base_uri": "https://localhost:8080/",
          "height": 833
        }
      },
      "source": [
        "inception_filepath = original_base_dir + inception_saved_model_name\n",
        "inception_checkpoint = ModelCheckpoint(inception_filepath, monitor='val_acc', verbose=1, save_best_only=True, mode='max')\n",
        "inception_es = EarlyStopping(monitor='val_acc', mode='max', patience = 5)\n",
        "\n",
        "inception_callbacks_list = [inception_checkpoint, inception_es]\n",
        "\n",
        "inception_history = model.fit_generator(train_generator,\n",
        "                                 steps_per_epoch=math.ceil(training_data_count/batch_size),\n",
        "        epochs=50,\n",
        "        validation_data=validation_generator,\n",
        "        validation_steps=math.ceil(validation_data_count/batch_size),\n",
        "        callbacks=inception_callbacks_list,\n",
        "                                  verbose = 1\n",
        "                                 )\n",
        "\n",
        "# Get the dictionary containing each metric and the loss for each epoch and save file\n",
        "history_dict = inception_history.history\n",
        "json.dump(history_dict, open(history_dir + '/' + history_file_name, 'w'))"
      ],
      "execution_count": 111,
      "outputs": [
        {
          "output_type": "stream",
          "text": [
            "Epoch 1/50\n",
            "402/402 [==============================] - 574s 1s/step - loss: 0.6579 - acc: 0.6101 - val_loss: 0.6561 - val_acc: 0.6197\n",
            "\n",
            "Epoch 00001: val_acc improved from -inf to 0.61972, saving model to /content/drive/My Drive/colab//inception_binary_dim_500_class_full_0_v2.h5\n",
            "Epoch 2/50\n",
            "402/402 [==============================] - 551s 1s/step - loss: 0.5572 - acc: 0.7504 - val_loss: 0.6203 - val_acc: 0.7183\n",
            "\n",
            "Epoch 00002: val_acc improved from 0.61972 to 0.71831, saving model to /content/drive/My Drive/colab//inception_binary_dim_500_class_full_0_v2.h5\n",
            "Epoch 3/50\n",
            "402/402 [==============================] - 513s 1s/step - loss: 0.4991 - acc: 0.7953 - val_loss: 0.5924 - val_acc: 0.7606\n",
            "\n",
            "Epoch 00003: val_acc improved from 0.71831 to 0.76056, saving model to /content/drive/My Drive/colab//inception_binary_dim_500_class_full_0_v2.h5\n",
            "Epoch 4/50\n",
            "402/402 [==============================] - 514s 1s/step - loss: 0.4606 - acc: 0.8158 - val_loss: 0.5715 - val_acc: 0.7958\n",
            "\n",
            "Epoch 00004: val_acc improved from 0.76056 to 0.79577, saving model to /content/drive/My Drive/colab//inception_binary_dim_500_class_full_0_v2.h5\n",
            "Epoch 5/50\n",
            "402/402 [==============================] - 512s 1s/step - loss: 0.4311 - acc: 0.8275 - val_loss: 0.5544 - val_acc: 0.8169\n",
            "\n",
            "Epoch 00005: val_acc improved from 0.79577 to 0.81690, saving model to /content/drive/My Drive/colab//inception_binary_dim_500_class_full_0_v2.h5\n",
            "Epoch 6/50\n",
            "402/402 [==============================] - 519s 1s/step - loss: 0.4098 - acc: 0.8360 - val_loss: 0.5393 - val_acc: 0.8169\n",
            "\n",
            "Epoch 00006: val_acc did not improve from 0.81690\n",
            "Epoch 7/50\n",
            "402/402 [==============================] - 506s 1s/step - loss: 0.3918 - acc: 0.8440 - val_loss: 0.5279 - val_acc: 0.8239\n",
            "\n",
            "Epoch 00007: val_acc improved from 0.81690 to 0.82394, saving model to /content/drive/My Drive/colab//inception_binary_dim_500_class_full_0_v2.h5\n",
            "Epoch 8/50\n",
            "402/402 [==============================] - 517s 1s/step - loss: 0.3778 - acc: 0.8493 - val_loss: 0.5175 - val_acc: 0.8169\n",
            "\n",
            "Epoch 00008: val_acc did not improve from 0.82394\n",
            "Epoch 9/50\n",
            "402/402 [==============================] - 512s 1s/step - loss: 0.3663 - acc: 0.8528 - val_loss: 0.5097 - val_acc: 0.8099\n",
            "\n",
            "Epoch 00009: val_acc did not improve from 0.82394\n",
            "Epoch 10/50\n",
            "402/402 [==============================] - 510s 1s/step - loss: 0.3560 - acc: 0.8577 - val_loss: 0.5025 - val_acc: 0.8099\n",
            "\n",
            "Epoch 00010: val_acc did not improve from 0.82394\n",
            "Epoch 11/50\n",
            "402/402 [==============================] - 524s 1s/step - loss: 0.3479 - acc: 0.8605 - val_loss: 0.4964 - val_acc: 0.8099\n",
            "\n",
            "Epoch 00011: val_acc did not improve from 0.82394\n",
            "Epoch 12/50\n",
            "402/402 [==============================] - 512s 1s/step - loss: 0.3413 - acc: 0.8638 - val_loss: 0.4912 - val_acc: 0.8099\n",
            "\n",
            "Epoch 00012: val_acc did not improve from 0.82394\n"
          ],
          "name": "stdout"
        }
      ]
    },
    {
      "cell_type": "code",
      "metadata": {
        "colab_type": "code",
        "id": "1MYW4at91MnD",
        "colab": {
          "base_uri": "https://localhost:8080/",
          "height": 71
        },
        "outputId": "ce333871-3dee-4bf6-f07c-6f036de4beb3"
      },
      "source": [
        "from keras.models import load_model\n",
        "model_inception = load_model(original_base_dir + inception_saved_model_name)\n",
        "\n",
        "model_inception.compile(optimizer=SGD(lr=0.0001, momentum=0.9), loss='binary_crossentropy', metrics=['acc'])"
      ],
      "execution_count": 139,
      "outputs": [
        {
          "output_type": "stream",
          "text": [
            "/usr/local/lib/python3.6/dist-packages/keras/engine/saving.py:350: UserWarning: Error in loading the saved optimizer state. As a result, your model is starting with a freshly initialized optimizer.\n",
            "  warnings.warn('Error in loading the saved optimizer '\n"
          ],
          "name": "stderr"
        }
      ]
    },
    {
      "cell_type": "code",
      "metadata": {
        "colab_type": "code",
        "id": "-SWVWQEQ1MnP",
        "outputId": "3906a653-bee8-4f03-d37c-0506ad44e66b",
        "colab": {
          "base_uri": "https://localhost:8080/",
          "height": 221
        }
      },
      "source": [
        "# Import saved history\n",
        "with open(original_base_dir + '/history/' + history_file_name) as json_file:\n",
        "    history = json.load(json_file)\n",
        "history.get('val_acc')"
      ],
      "execution_count": 120,
      "outputs": [
        {
          "output_type": "execute_result",
          "data": {
            "text/plain": [
              "[0.6197183098591549,\n",
              " 0.7183098591549296,\n",
              " 0.7605633802816901,\n",
              " 0.795774647887324,\n",
              " 0.8169014084507042,\n",
              " 0.8169014084507042,\n",
              " 0.823943661971831,\n",
              " 0.8169014084507042,\n",
              " 0.8098591557690795,\n",
              " 0.8098591557690795,\n",
              " 0.8098591557690795,\n",
              " 0.8098591557690795]"
            ]
          },
          "metadata": {
            "tags": []
          },
          "execution_count": 120
        }
      ]
    },
    {
      "cell_type": "code",
      "metadata": {
        "id": "l2RtFH6hv1zO",
        "colab_type": "code",
        "outputId": "dd1c4798-1708-4e94-929a-95bf8f1eda0d",
        "colab": {
          "base_uri": "https://localhost:8080/",
          "height": 34
        }
      },
      "source": [
        "len(history.get('val_acc'))"
      ],
      "execution_count": 0,
      "outputs": [
        {
          "output_type": "execute_result",
          "data": {
            "text/plain": [
              "38"
            ]
          },
          "metadata": {
            "tags": []
          },
          "execution_count": 46
        }
      ]
    },
    {
      "cell_type": "markdown",
      "metadata": {
        "colab_type": "text",
        "id": "9Hda1DDb1MnR"
      },
      "source": [
        "# Plot Training Process across Epochs"
      ]
    },
    {
      "cell_type": "code",
      "metadata": {
        "colab_type": "code",
        "id": "9s1eOcYh1MnS",
        "outputId": "0642bb3d-435a-48da-b6dd-cfb84ad78808",
        "colab": {
          "base_uri": "https://localhost:8080/",
          "height": 545
        }
      },
      "source": [
        "import matplotlib.pyplot as plt\n",
        "\n",
        "acc = history['acc']\n",
        "val_acc = history['val_acc']\n",
        "loss = history['loss']\n",
        "val_loss = history['val_loss']\n",
        "\n",
        "epochs = range(len(acc))\n",
        "\n",
        "plt.plot(epochs, acc, 'bo', label='Training acc')\n",
        "plt.plot(epochs, val_acc, 'b', label='Validation acc')\n",
        "plt.title('Training and validation accuracy')\n",
        "plt.legend()\n",
        "\n",
        "plt.figure()\n",
        "\n",
        "plt.plot(epochs, loss, 'bo', label='Training loss')\n",
        "plt.plot(epochs, val_loss, 'b', label='Validation loss')\n",
        "plt.title('Training and validation loss')\n",
        "plt.legend()\n",
        "\n",
        "plt.show()"
      ],
      "execution_count": 138,
      "outputs": [
        {
          "output_type": "display_data",
          "data": {
            "image/png": "[encoded data removed]",
            "text/plain": [
              "<Figure size 432x288 with 1 Axes>"
            ]
          },
          "metadata": {
            "tags": []
          }
        },
        {
          "output_type": "display_data",
          "data": {
            "image/png": "[encoded data removed]",
            "text/plain": [
              "<Figure size 432x288 with 1 Axes>"
            ]
          },
          "metadata": {
            "tags": []
          }
        }
      ]
    },
    {
      "cell_type": "markdown",
      "metadata": {
        "colab_type": "text",
        "id": "ZncSS5XYFRQi"
      },
      "source": [
        "# Model Evaluation"
      ]
    },
    {
      "cell_type": "code",
      "metadata": {
        "id": "hYgN9y73baL-",
        "colab_type": "code",
        "colab": {}
      },
      "source": [
        "def calculate_binary_accuracy(prediction, actual):\n",
        "\n",
        "  true_positive = 0\n",
        "  true_negative = 0\n",
        "  false_positive = 0\n",
        "  false_negative = 0\n",
        "\n",
        "  for pred, act in zip(prediction, actual):\n",
        "    if pred >= .5 and act == 1:\n",
        "      true_positive += 1\n",
        "    elif pred < .5 and act == 1:\n",
        "      false_negative += 1\n",
        "    elif pred < .5 and act == 0:\n",
        "      true_negative += 1\n",
        "    elif pred >= .5 and act == 0:\n",
        "      false_positive += 1\n",
        "    else:\n",
        "      print('Some error', pred, act)\n",
        "\n",
        "  total = true_positive + true_negative + false_positive + false_negative\n",
        "  print('Total processes images are', total)\n",
        "  print(true_positive, true_negative, false_positive, false_negative)\n",
        "  print('Accuracy is ', (true_positive + true_negative) / total)\n",
        "  print('Accuracy for class 1 images', true_positive / (true_positive + false_negative))\n",
        "  print('Accuracy for class 0 images', true_negative / (false_positive + true_negative))\n",
        "  print('Predicts class 1 a percentage of', (true_positive + false_positive) / total)\n",
        "  print('Predicts class 0 a percentage of', (true_negative + false_negative) / total)\n",
        "\n",
        "  # Precision of class 1\n",
        "  print('Precision of class 1', true_positive / (true_positive + false_positive))\n",
        "\n",
        "  # Recall of class 1\n",
        "  print('Recall of class 1', true_positive / (true_positive + false_negative))\n"
      ],
      "execution_count": 0,
      "outputs": []
    },
    {
      "cell_type": "code",
      "metadata": {
        "id": "kSabnxTcEPT4",
        "colab_type": "code",
        "outputId": "d92b7a50-9e85-4f88-f47b-68c9a27192bf",
        "colab": {
          "base_uri": "https://localhost:8080/",
          "height": 170
        }
      },
      "source": [
        "validation_generator.reset() # Makes sure that the same ordered data is used for prediction and actual\n",
        "Y_pred = model_inception.predict_generator(validation_generator)\n",
        "calculate_binary_accuracy(prediction=Y_pred, actual=validation_generator.classes)"
      ],
      "execution_count": 115,
      "outputs": [
        {
          "output_type": "stream",
          "text": [
            "Total processes images are 142\n",
            "57 60 11 14\n",
            "Accuracy is  0.823943661971831\n",
            "Accuracy for class 1 images 0.8028169014084507\n",
            "Accuracy for class 0 images 0.8450704225352113\n",
            "Predicts class 1 a percentage of 0.4788732394366197\n",
            "Predicts class 0 a percentage of 0.5211267605633803\n",
            "Precision of class 1 12.0\n",
            "Recall of class 1 15.0\n"
          ],
          "name": "stdout"
        }
      ]
    },
    {
      "cell_type": "markdown",
      "metadata": {
        "id": "MGSx4hqc-UxT",
        "colab_type": "text"
      },
      "source": [
        "# Testing Evaluation"
      ]
    },
    {
      "cell_type": "code",
      "metadata": {
        "id": "i1nAuz1l-WO2",
        "colab_type": "code",
        "outputId": "69613d8c-4e9c-4766-b57f-7e1b612f3075",
        "colab": {
          "base_uri": "https://localhost:8080/",
          "height": 34
        }
      },
      "source": [
        "test_dir = os.path.join(directory, data_folder_name, 'test')\n",
        "\n",
        "testing_generator = datagen.flow_from_directory(\n",
        "        test_dir,\n",
        "        target_size=(x, y),\n",
        "        batch_size=20,\n",
        "        class_mode='binary',\n",
        "        shuffle = False\n",
        "        )"
      ],
      "execution_count": 116,
      "outputs": [
        {
          "output_type": "stream",
          "text": [
            "Found 142 images belonging to 2 classes.\n"
          ],
          "name": "stdout"
        }
      ]
    },
    {
      "cell_type": "code",
      "metadata": {
        "id": "dSGUDDty-j-_",
        "colab_type": "code",
        "colab": {}
      },
      "source": [
        "testing_generator.reset() # Makes sure that the same ordered data is used for prediction and actual\n",
        "Y_pred = model_inception.predict_generator(testing_generator)\n",
        "\n",
        "actual_results=testing_generator.classes"
      ],
      "execution_count": 0,
      "outputs": []
    },
    {
      "cell_type": "code",
      "metadata": {
        "id": "3ADxVZCyAmfR",
        "colab_type": "code",
        "outputId": "0527c30a-a8aa-4169-88be-ea0e0285aeca",
        "colab": {
          "base_uri": "https://localhost:8080/",
          "height": 170
        }
      },
      "source": [
        "calculate_binary_accuracy(prediction=Y_pred, actual=actual_results)"
      ],
      "execution_count": 118,
      "outputs": [
        {
          "output_type": "stream",
          "text": [
            "Total processes images are 142\n",
            "48 62 9 23\n",
            "Accuracy is  0.7746478873239436\n",
            "Accuracy for class 1 images 0.676056338028169\n",
            "Accuracy for class 0 images 0.8732394366197183\n",
            "Predicts class 1 a percentage of 0.4014084507042254\n",
            "Predicts class 0 a percentage of 0.5985915492957746\n",
            "Precision of class 1 10.0\n",
            "Recall of class 1 24.0\n"
          ],
          "name": "stdout"
        }
      ]
    },
    {
      "cell_type": "markdown",
      "metadata": {
        "id": "21quAjcIFhTm",
        "colab_type": "text"
      },
      "source": [
        "# ROC Curve"
      ]
    },
    {
      "cell_type": "code",
      "metadata": {
        "id": "prC3N60rb2tW",
        "colab_type": "code",
        "colab": {}
      },
      "source": [
        "# Assistance on generating ROC curve\n",
        "# https://machinelearningmastery.com/roc-curves-and-precision-recall-curves-for-classification-in-python/\n",
        "\n",
        "from sklearn.datasets import make_classification\n",
        "from sklearn.linear_model import LogisticRegression\n",
        "from sklearn.model_selection import train_test_split\n",
        "from sklearn.metrics import roc_curve\n",
        "from sklearn.metrics import roc_auc_score\n",
        "from matplotlib import pyplot"
      ],
      "execution_count": 0,
      "outputs": []
    },
    {
      "cell_type": "code",
      "metadata": {
        "id": "EmFsn_-cbwIL",
        "colab_type": "code",
        "outputId": "de5afcb9-901e-4530-ce9f-70e9ad9dffa1",
        "colab": {
          "base_uri": "https://localhost:8080/",
          "height": 329
        }
      },
      "source": [
        "# ROC AUC\n",
        "model_auc = roc_auc_score(testing_generator.classes, Y_pred)\n",
        "print('Inception V3: ROC AUC', model_auc)\n",
        "\n",
        "# Print ROC Curves\n",
        "dividing_line_probs = [0 for x in range(len(testing_generator.classes))]\n",
        "dividing_line_false_positive_rate, dividing_line_true_positive_rate, none = roc_curve(testing_generator.classes, dividing_line_probs)\n",
        "model_false_positive_rate, model_true_positive_rate, none = roc_curve(testing_generator.classes, Y_pred)\n",
        "pyplot.plot(dividing_line_false_positive_rate, dividing_line_true_positive_rate, linestyle='--')\n",
        "pyplot.plot(model_false_positive_rate, model_true_positive_rate, marker='.')\n",
        "\n",
        "pyplot.title(roc_title)\n",
        "pyplot.xlabel('False Positive Rate')\n",
        "pyplot.ylabel('True Positive Rate')\n",
        "pyplot.legend()\n",
        "pyplot.show()"
      ],
      "execution_count": 136,
      "outputs": [
        {
          "output_type": "stream",
          "text": [
            "WARNING:matplotlib.legend:No handles with labels found to put in legend.\n"
          ],
          "name": "stderr"
        },
        {
          "output_type": "stream",
          "text": [
            "Inception V3: ROC AUC 0.86550287641341\n"
          ],
          "name": "stdout"
        },
        {
          "output_type": "display_data",
          "data": {
            "image/png": "[encoded data removed]",
            "text/plain": [
              "<Figure size 432x288 with 1 Axes>"
            ]
          },
          "metadata": {
            "tags": []
          }
        }
      ]
    }
  ]
}
