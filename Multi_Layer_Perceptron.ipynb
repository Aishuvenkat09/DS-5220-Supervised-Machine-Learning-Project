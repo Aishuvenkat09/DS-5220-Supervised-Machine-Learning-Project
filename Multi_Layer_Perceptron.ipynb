{
 "cells": [
  {
   "cell_type": "code",
   "execution_count": null,
   "metadata": {},
   "outputs": [],
   "source": [
    "#Code borrowed from https://medium.com/@oribarel/getting-the-most-out-of-your-google-colab-2b0585f82403 \n",
    "!ln -sf /opt/bin/nvidia-smi /usr/bin/nvidia-smi\n",
    "!pip install gputil\n",
    "#!pip install psutil\n",
    "#!pip install humanize\n",
    "\n",
    "import psutil\n",
    "import humanize\n",
    "import os"
   ]
  },
  {
   "cell_type": "code",
   "execution_count": 0,
   "metadata": {
    "colab": {
     "base_uri": "https://localhost:8080/",
     "height": 185
    },
    "colab_type": "code",
    "id": "slvMsMEilCHh",
    "outputId": "0fe5276f-47ca-49e5-ef08-920e79dcd835"
   },
   "outputs": [
    {
     "name": "stderr",
     "output_type": "stream",
     "text": [
      "Using TensorFlow backend.\n"
     ]
    },
    {
     "data": {
      "text/html": [
       "<p style=\"color: red;\">\n",
       "The default version of TensorFlow in Colab will soon switch to TensorFlow 2.x.<br>\n",
       "We recommend you <a href=\"https://www.tensorflow.org/guide/migrate\" target=\"_blank\">upgrade</a> now \n",
       "or ensure your notebook will continue to use TensorFlow 1.x via the <code>%tensorflow_version 1.x</code> magic:\n",
       "<a href=\"https://colab.research.google.com/notebooks/tensorflow_version.ipynb\" target=\"_blank\">more info</a>.</p>\n"
      ],
      "text/plain": [
       "<IPython.core.display.HTML object>"
      ]
     },
     "metadata": {
      "tags": []
     },
     "output_type": "display_data"
    },
    {
     "name": "stdout",
     "output_type": "stream",
     "text": [
      "Go to this URL in a browser: https://accounts.google.com/o/oauth2/auth?client_id=947318989803-6bn6qk8qdgf4n4g3pfee6491hc0brc4i.apps.googleusercontent.com&redirect_uri=urn%3aietf%3awg%3aoauth%3a2.0%3aoob&response_type=code&scope=email%20https%3a%2f%2fwww.googleapis.com%2fauth%2fdocs.test%20https%3a%2f%2fwww.googleapis.com%2fauth%2fdrive%20https%3a%2f%2fwww.googleapis.com%2fauth%2fdrive.photos.readonly%20https%3a%2f%2fwww.googleapis.com%2fauth%2fpeopleapi.readonly\n",
      "\n",
      "Enter your authorization code:\n",
      "··········\n",
      "Mounted at /content/drive\n"
     ]
    }
   ],
   "source": [
    "# Keras\n",
    "import keras\n",
    "from keras import metrics\n",
    "\n",
    "# File and Folder Management\n",
    "import os, shutil\n",
    "\n",
    "# Store history\n",
    "import json\n",
    "from google.colab import drive\n",
    "drive.mount('''/content/drive''', force_remount=True)\n",
    "\n",
    "train_action = True"
   ]
  },
  {
   "cell_type": "code",
   "execution_count": 0,
   "metadata": {
    "colab": {},
    "colab_type": "code",
    "id": "wlJTtVRplNfW"
   },
   "outputs": [],
   "source": [
    "# Set directory\n",
    "aaron_dir = \"/content/drive/My Drive/SML_Project\"\n",
    "\n",
    "directory = aaron_dir"
   ]
  },
  {
   "cell_type": "code",
   "execution_count": 0,
   "metadata": {
    "colab": {
     "base_uri": "https://localhost:8080/",
     "height": 561
    },
    "colab_type": "code",
    "id": "XRQ6BenHlW1A",
    "outputId": "89c8c165-36f1-49c3-e012-1c98380f04c6"
   },
   "outputs": [
    {
     "name": "stdout",
     "output_type": "stream",
     "text": [
      "Old directory:\n",
      "/content\n",
      "drive  sample_data\n",
      "New directory:\n",
      "/content/drive/My Drive/SML_Project\n",
      "best_model.hdf5\n",
      "binary_data_4\n",
      "binary_data_all\n",
      "CNN_Diabetic_Retinopathy_Binary.ipynb\n",
      "CNN_Diabetic_Retinopathy_Classification.ipynb\n",
      "CNN_Diabetic_Retinopathy_Classification_old.ipynb\n",
      "cross_entrophy_dim_500_class_566.h5\n",
      "cross_entrophy_dim_500_class_count_566_new.h5\n",
      "data_566\n",
      "data_566_copy.zip\n",
      "data_566.zip\n",
      "data_zip\n",
      "downsized_data.zip\n",
      "history\n",
      "inception_binary_dim_256_class_crop.h5\n",
      "inception_binary_dim_500_class_4.h5\n",
      "inception_binary_dim_500_class_566.h5\n",
      "inception_binary_dim_500_class_all.h5\n",
      "inception_binary_dim_500_class_all_rand.h5\n",
      "inception_cross_entrophy_dim_500_class_566.h5\n",
      "kNN_image_classification.ipynb\n",
      "__MACOSX\n",
      "mlp_bin4_500.hdf5\n",
      "mlp_bin_500.hdf5\n",
      "pca.pkl\n",
      "train1.zip\n",
      "trainLabels.csv\n"
     ]
    }
   ],
   "source": [
    "print('Old directory:')\n",
    "!pwd\n",
    "!ls\n",
    "os.chdir(directory)\n",
    "print('New directory:')\n",
    "!pwd\n",
    "!ls"
   ]
  },
  {
   "cell_type": "code",
   "execution_count": 0,
   "metadata": {
    "colab": {
     "base_uri": "https://localhost:8080/",
     "height": 221
    },
    "colab_type": "code",
    "id": "Z6IRjpWylcRc",
    "outputId": "09614131-71d3-4bc1-bf51-3211b6cb78e2"
   },
   "outputs": [
    {
     "name": "stdout",
     "output_type": "stream",
     "text": [
      "35126\n"
     ]
    },
    {
     "data": {
      "text/html": [
       "<div>\n",
       "<style scoped>\n",
       "    .dataframe tbody tr th:only-of-type {\n",
       "        vertical-align: middle;\n",
       "    }\n",
       "\n",
       "    .dataframe tbody tr th {\n",
       "        vertical-align: top;\n",
       "    }\n",
       "\n",
       "    .dataframe thead th {\n",
       "        text-align: right;\n",
       "    }\n",
       "</style>\n",
       "<table border=\"1\" class=\"dataframe\">\n",
       "  <thead>\n",
       "    <tr style=\"text-align: right;\">\n",
       "      <th></th>\n",
       "      <th>image</th>\n",
       "      <th>level</th>\n",
       "    </tr>\n",
       "  </thead>\n",
       "  <tbody>\n",
       "    <tr>\n",
       "      <th>0</th>\n",
       "      <td>10_left</td>\n",
       "      <td>0</td>\n",
       "    </tr>\n",
       "    <tr>\n",
       "      <th>1</th>\n",
       "      <td>10_right</td>\n",
       "      <td>0</td>\n",
       "    </tr>\n",
       "    <tr>\n",
       "      <th>2</th>\n",
       "      <td>13_left</td>\n",
       "      <td>0</td>\n",
       "    </tr>\n",
       "    <tr>\n",
       "      <th>3</th>\n",
       "      <td>13_right</td>\n",
       "      <td>0</td>\n",
       "    </tr>\n",
       "    <tr>\n",
       "      <th>4</th>\n",
       "      <td>15_left</td>\n",
       "      <td>1</td>\n",
       "    </tr>\n",
       "  </tbody>\n",
       "</table>\n",
       "</div>"
      ],
      "text/plain": [
       "      image  level\n",
       "0   10_left      0\n",
       "1  10_right      0\n",
       "2   13_left      0\n",
       "3  13_right      0\n",
       "4   15_left      1"
      ]
     },
     "execution_count": 5,
     "metadata": {
      "tags": []
     },
     "output_type": "execute_result"
    }
   ],
   "source": [
    "import pandas as pd\n",
    "import os\n",
    "from keras.models import Sequential\n",
    "from keras.preprocessing.image import ImageDataGenerator\n",
    "from keras.callbacks import EarlyStopping, ModelCheckpoint\n",
    "from keras.layers import Dense, Flatten, Dropout\n",
    "from pathlib import Path\n",
    "import pandas as pd\n",
    "\n",
    "train_target = pd.read_csv(directory + '/trainLabels.csv', delimiter=',')\n",
    "print(len(train_target))\n",
    "train_target.head()"
   ]
  },
  {
   "cell_type": "markdown",
   "metadata": {
    "colab_type": "text",
    "id": "ZvJE-WR_q7gr"
   },
   "source": [
    "# MULTI-LAYER PERCEPTRON WITH BINARY 500*500 Data"
   ]
  },
  {
   "cell_type": "code",
   "execution_count": 0,
   "metadata": {
    "colab": {
     "base_uri": "https://localhost:8080/",
     "height": 85
    },
    "colab_type": "code",
    "id": "eOMMPwzumbU-",
    "outputId": "8da5f1ab-87a1-4f5d-9fe4-46564388523c"
   },
   "outputs": [
    {
     "name": "stdout",
     "output_type": "stream",
     "text": [
      "Found 1132 images belonging to 2 classes.\n",
      "{'resized_0': 0, 'resized_1': 1}\n",
      "Found 142 images belonging to 2 classes.\n",
      "Found 142 images belonging to 2 classes.\n"
     ]
    }
   ],
   "source": [
    "\n",
    "train_dir= os.path.join(directory, 'binary_data_4', 'train')\n",
    "val_dir =os.path.join(directory, 'binary_data_4', 'val')\n",
    "test_dir =os.path.join(directory, 'binary_data_4', 'test')\n",
    "\n",
    "data_generation = ImageDataGenerator(rescale=1./255)\n",
    "train_generator = data_generation.flow_from_directory(\n",
    "        # This is the target directory\n",
    "        train_dir,\n",
    "        # All images will be resized to 150x150\n",
    "        target_size=(500,500),\n",
    "        batch_size=10,\n",
    "        # Since we use binary_crossentropy loss, we need binary labels\n",
    "        class_mode='binary')\n",
    "\n",
    "print(train_generator.class_indices)\n",
    "\n",
    "validation_generator = data_generation.flow_from_directory(\n",
    "        val_dir,\n",
    "        target_size=(500, 500),\n",
    "        batch_size=10,\n",
    "        class_mode='binary',\n",
    "        shuffle = False)\n",
    "test_generator = data_generation.flow_from_directory(\n",
    "        test_dir,\n",
    "        target_size=(500, 500),\n",
    "        batch_size=10,\n",
    "        class_mode='binary',\n",
    "        shuffle = False)"
   ]
  },
  {
   "cell_type": "code",
   "execution_count": 0,
   "metadata": {
    "colab": {
     "base_uri": "https://localhost:8080/",
     "height": 34
    },
    "colab_type": "code",
    "id": "LgA5dQhBYK4C",
    "outputId": "e21638e3-932d-4b32-d594-743848694ed5"
   },
   "outputs": [
    {
     "data": {
      "text/plain": [
       "<keras_preprocessing.image.directory_iterator.DirectoryIterator at 0x7f26ce25dac8>"
      ]
     },
     "execution_count": 7,
     "metadata": {
      "tags": []
     },
     "output_type": "execute_result"
    }
   ],
   "source": [
    "train_generator"
   ]
  },
  {
   "cell_type": "code",
   "execution_count": 0,
   "metadata": {
    "colab": {
     "base_uri": "https://localhost:8080/",
     "height": 459
    },
    "colab_type": "code",
    "id": "mrcGJVD5mmw2",
    "outputId": "4ba16c4c-b63e-4776-9282-d5e034bbbdd6"
   },
   "outputs": [
    {
     "name": "stdout",
     "output_type": "stream",
     "text": [
      "Model: \"sequential_3\"\n",
      "_________________________________________________________________\n",
      "Layer (type)                 Output Shape              Param #   \n",
      "=================================================================\n",
      "dense_17 (Dense)             (None, 500, 500, 256)     1024      \n",
      "_________________________________________________________________\n",
      "dense_18 (Dense)             (None, 500, 500, 110)     28270     \n",
      "_________________________________________________________________\n",
      "dense_19 (Dense)             (None, 500, 500, 64)      7104      \n",
      "_________________________________________________________________\n",
      "dropout_11 (Dropout)         (None, 500, 500, 64)      0         \n",
      "_________________________________________________________________\n",
      "dense_20 (Dense)             (None, 500, 500, 32)      2080      \n",
      "_________________________________________________________________\n",
      "dropout_12 (Dropout)         (None, 500, 500, 32)      0         \n",
      "_________________________________________________________________\n",
      "dense_21 (Dense)             (None, 500, 500, 32)      1056      \n",
      "_________________________________________________________________\n",
      "flatten_3 (Flatten)          (None, 8000000)           0         \n",
      "_________________________________________________________________\n",
      "dense_22 (Dense)             (None, 1)                 8000001   \n",
      "=================================================================\n",
      "Total params: 8,039,535\n",
      "Trainable params: 8,039,535\n",
      "Non-trainable params: 0\n",
      "_________________________________________________________________\n"
     ]
    }
   ],
   "source": [
    "model = Sequential()\n",
    "model.add(Dense(256, input_shape = (500,500,3) , activation = 'relu'))\n",
    "model.add(Dense(110, activation='relu'))\n",
    "model.add(Dense(64, activation = 'relu'))\n",
    "model.add(Dropout(0.2))\n",
    "model.add(Dense(32, activation = 'relu'))\n",
    "model.add(Dropout(0.3))\n",
    "\n",
    "model.add(Dense(32, activation = 'relu'))\n",
    "model.add(Flatten())\n",
    "model.add(Dense(1, activation = 'sigmoid'))\n",
    "model.compile(optimizer = 'adam',\n",
    "              loss = 'binary_crossentropy',\n",
    "             metrics = ['accuracy'])\n",
    "model.summary()"
   ]
  },
  {
   "cell_type": "code",
   "execution_count": 0,
   "metadata": {
    "colab": {},
    "colab_type": "code",
    "id": "K826kkVtnXhZ"
   },
   "outputs": [],
   "source": [
    "es = EarlyStopping(monitor='val_loss', mode='min', verbose=1, patience=5, min_delta=0.0001) \n",
    "mc = ModelCheckpoint('mlp_bin4_500.hdf5', monitor='val_acc', verbose=1, save_best_only=True, mode='max')\n",
    "callbacks_list = [mc, es]"
   ]
  },
  {
   "cell_type": "code",
   "execution_count": 0,
   "metadata": {
    "colab": {
     "base_uri": "https://localhost:8080/",
     "height": 442
    },
    "colab_type": "code",
    "id": "Mekwcd-bw9qJ",
    "outputId": "530521cc-97f7-4f57-eedf-d530dc6c41f5"
   },
   "outputs": [
    {
     "name": "stdout",
     "output_type": "stream",
     "text": [
      "Epoch 1/100\n",
      "114/114 [==============================] - 270s 2s/step - loss: 8.0086 - acc: 0.5000 - val_loss: 8.0590 - val_acc: 0.5000\n",
      "\n",
      "Epoch 00001: val_acc improved from -inf to 0.50000, saving model to mlp_bin4_500.hdf5\n",
      "Epoch 2/100\n",
      "114/114 [==============================] - 61s 532ms/step - loss: 8.0030 - acc: 0.5035 - val_loss: 8.0590 - val_acc: 0.5000\n",
      "\n",
      "Epoch 00002: val_acc did not improve from 0.50000\n",
      "Epoch 3/100\n",
      "114/114 [==============================] - 60s 530ms/step - loss: 8.0030 - acc: 0.5035 - val_loss: 8.0590 - val_acc: 0.5000\n",
      "\n",
      "Epoch 00003: val_acc did not improve from 0.50000\n",
      "Epoch 4/100\n",
      "114/114 [==============================] - 60s 530ms/step - loss: 8.0590 - acc: 0.5000 - val_loss: 8.0590 - val_acc: 0.5000\n",
      "\n",
      "Epoch 00004: val_acc did not improve from 0.50000\n",
      "Epoch 5/100\n",
      "114/114 [==============================] - 60s 530ms/step - loss: 8.0590 - acc: 0.5000 - val_loss: 8.0590 - val_acc: 0.5000\n",
      "\n",
      "Epoch 00005: val_acc did not improve from 0.50000\n",
      "Epoch 6/100\n",
      "114/114 [==============================] - 60s 530ms/step - loss: 8.0590 - acc: 0.5000 - val_loss: 8.0590 - val_acc: 0.5000\n",
      "\n",
      "Epoch 00006: val_acc did not improve from 0.50000\n",
      "Epoch 00006: early stopping\n"
     ]
    }
   ],
   "source": [
    "import math\n",
    "mlp_binary_history = model.fit_generator(\n",
    "        train_generator,\n",
    "        steps_per_epoch =math.ceil(1132/10),\n",
    "        epochs=100,\n",
    "        validation_data=validation_generator,\n",
    "        validation_steps=math.ceil(142/10),\n",
    "        callbacks=callbacks_list\n",
    "        )"
   ]
  },
  {
   "cell_type": "code",
   "execution_count": 0,
   "metadata": {
    "colab": {
     "base_uri": "https://localhost:8080/",
     "height": 130
    },
    "colab_type": "code",
    "id": "00XsWpEp1TuL",
    "outputId": "251cf192-f496-4836-ebae-52c1b5ea133e"
   },
   "outputs": [
    {
     "ename": "SyntaxError",
     "evalue": "ignored",
     "output_type": "error",
     "traceback": [
      "\u001b[0;36m  File \u001b[0;32m\"<ipython-input-15-a11594de99c1>\"\u001b[0;36m, line \u001b[0;32m1\u001b[0m\n\u001b[0;31m    history_mlp_bin_4 =\u001b[0m\n\u001b[0m                        ^\u001b[0m\n\u001b[0;31mSyntaxError\u001b[0m\u001b[0;31m:\u001b[0m invalid syntax\n"
     ]
    }
   ],
   "source": [
    "history_mlp_bin_4 = \n",
    "history_dict = mlp_binary_history.history\n",
    "history_dir = directory + '/history'\n",
    "  # Save it under the form of a json file\n",
    "json.dump(history_dict, open(history_dir + '/'+ 'history_mlp_bin_4', 'w'))"
   ]
  },
  {
   "cell_type": "code",
   "execution_count": 0,
   "metadata": {
    "colab": {
     "base_uri": "https://localhost:8080/",
     "height": 34
    },
    "colab_type": "code",
    "id": "T8gcOmeSw9ui",
    "outputId": "497dede2-1c7a-4dea-ff4f-26243f49642e"
   },
   "outputs": [
    {
     "data": {
      "text/plain": [
       "<keras.engine.sequential.Sequential at 0x7fe604947278>"
      ]
     },
     "execution_count": 66,
     "metadata": {
      "tags": []
     },
     "output_type": "execute_result"
    }
   ],
   "source": [
    "from keras.models import load_model\n",
    "model1 = load_model(directory+ '/mlp_bin4_500.hdf5')\n",
    "model1"
   ]
  },
  {
   "cell_type": "code",
   "execution_count": 0,
   "metadata": {
    "colab": {
     "base_uri": "https://localhost:8080/",
     "height": 153
    },
    "colab_type": "code",
    "id": "Qv2ck8MnrjVC",
    "outputId": "7f29413e-1001-4e1a-d9de-38f18fd87b19"
   },
   "outputs": [
    {
     "data": {
      "text/plain": [
       "[0.4999999983209959,\n",
       " 0.4999999983209959,\n",
       " 0.54225352910203,\n",
       " 0.4999999983209959,\n",
       " 0.5915492938857683,\n",
       " 0.5845070503337283,\n",
       " 0.5211267628720109,\n",
       " 0.4999999983209959]"
      ]
     },
     "execution_count": 74,
     "metadata": {
      "tags": []
     },
     "output_type": "execute_result"
    }
   ],
   "source": [
    "with open(directory + '/history/' + 'history_mlp_bin_4') as json_file:\n",
    "    history = json.load(json_file)\n",
    "history.get('val_acc')"
   ]
  },
  {
   "cell_type": "markdown",
   "metadata": {
    "colab_type": "text",
    "id": "9Hda1DDb1MnR"
   },
   "source": [
    "Let's plot the loss and accuracy of the model over the training and validation data during training:"
   ]
  },
  {
   "cell_type": "code",
   "execution_count": 0,
   "metadata": {
    "colab": {
     "base_uri": "https://localhost:8080/",
     "height": 545
    },
    "colab_type": "code",
    "id": "20UCfhSnw9xd",
    "outputId": "7721cd83-32de-4b82-a574-7672a9bfda28"
   },
   "outputs": [
    {
     "data": {
      "image/png": "[encoded data removed]",
      "text/plain": [
       "<Figure size 432x288 with 1 Axes>"
      ]
     },
     "metadata": {
      "tags": []
     },
     "output_type": "display_data"
    },
    {
     "data": {
      "image/png": "[encoded data removed]",
      "text/plain": [
       "<Figure size 432x288 with 1 Axes>"
      ]
     },
     "metadata": {
      "tags": []
     },
     "output_type": "display_data"
    }
   ],
   "source": [
    "import matplotlib.pyplot as plt\n",
    "\n",
    "acc = history['acc']\n",
    "val_acc = history['val_acc']\n",
    "loss = history['loss']\n",
    "val_loss = history['val_loss']\n",
    "\n",
    "epochs = range(len(acc))\n",
    "\n",
    "plt.plot(epochs, acc, label='Training acc')\n",
    "plt.plot(epochs, val_acc, label='Validation acc')\n",
    "plt.title('Training and validation accuracy')\n",
    "plt.legend()\n",
    "\n",
    "plt.figure()\n",
    "\n",
    "plt.plot(epochs, loss, label='Training loss')\n",
    "plt.plot(epochs, val_loss, label='Validation loss')\n",
    "plt.title('Training and validation loss')\n",
    "plt.legend()\n",
    "\n",
    "plt.show()"
   ]
  },
  {
   "cell_type": "markdown",
   "metadata": {
    "colab_type": "text",
    "id": "ZncSS5XYFRQi"
   },
   "source": [
    "# Model Evaluation"
   ]
  },
  {
   "cell_type": "code",
   "execution_count": 0,
   "metadata": {
    "colab": {
     "base_uri": "https://localhost:8080/",
     "height": 136
    },
    "colab_type": "code",
    "id": "kSabnxTcEPT4",
    "outputId": "705990eb-aef7-4092-b839-5e6307666ef2"
   },
   "outputs": [
    {
     "name": "stdout",
     "output_type": "stream",
     "text": [
      "Total processes images are 142\n",
      "62 22 49 9\n",
      "Accuracy is  0.5915492957746479\n",
      "Accuracy for class 1 images 0.8732394366197183\n",
      "Accuracy for class 0 images 0.30985915492957744\n",
      "Predicts class 1 a percentage of 0.7816901408450704\n",
      "Predicts class 0 a percentage of 0.21830985915492956\n"
     ]
    }
   ],
   "source": [
    "validation_generator.reset()# Required so validation image predictions are matched with actual values\n",
    "Y_pred = model1.predict_generator(validation_generator)\n",
    "\n",
    "def calculate_binary_accuracy(prediction, actual):\n",
    "\n",
    "  true_positive = 0\n",
    "  true_negative = 0\n",
    "  false_positive = 0\n",
    "  false_negative = 0\n",
    "\n",
    "  for pred, act in zip(prediction, actual):\n",
    "    if pred >= .5 and act == 1:\n",
    "      true_positive += 1\n",
    "    elif pred < .5 and act == 1:\n",
    "      false_negative += 1\n",
    "    elif pred < .5 and act == 0:\n",
    "      true_negative += 1\n",
    "    elif pred >= .5 and act == 0:\n",
    "      false_positive += 1\n",
    "    else:\n",
    "      print('Some error', pred, act)\n",
    "\n",
    "  total = true_positive + true_negative + false_positive + false_negative\n",
    "  print('Total processes images are', total)\n",
    "  print(true_positive, true_negative, false_positive, false_negative)\n",
    "  print('Accuracy is ', (true_positive + true_negative) / total)\n",
    "  print('Accuracy for class 1 images', true_positive / (true_positive + false_negative))\n",
    "  print('Accuracy for class 0 images', true_negative / (false_positive + true_negative))\n",
    "  print('Predicts class 1 a percentage of', (true_positive + false_positive) / total)\n",
    "  print('Predicts class 0 a percentage of', (true_negative + false_negative) / total)\n",
    "\n",
    "calculate_binary_accuracy(prediction=Y_pred, actual=validation_generator.classes)"
   ]
  },
  {
   "cell_type": "markdown",
   "metadata": {
    "colab_type": "text",
    "id": "MGSx4hqc-UxT"
   },
   "source": [
    "# Testing Evaluation"
   ]
  },
  {
   "cell_type": "code",
   "execution_count": 0,
   "metadata": {
    "colab": {
     "base_uri": "https://localhost:8080/",
     "height": 34
    },
    "colab_type": "code",
    "id": "i1nAuz1l-WO2",
    "outputId": "5fe55234-5c78-4264-f5ba-63c1cfed2226"
   },
   "outputs": [
    {
     "name": "stdout",
     "output_type": "stream",
     "text": [
      "Found 142 images belonging to 2 classes.\n"
     ]
    }
   ],
   "source": [
    "test_dir = os.path.join(directory, 'binary_data_4', 'test')\n",
    "\n",
    "testing_generator = test_datagen.flow_from_directory(\n",
    "        test_dir,\n",
    "        target_size=(500, 500),\n",
    "        batch_size=20,\n",
    "        class_mode='binary',\n",
    "        shuffle = False\n",
    "        )"
   ]
  },
  {
   "cell_type": "code",
   "execution_count": 0,
   "metadata": {
    "colab": {},
    "colab_type": "code",
    "id": "MqIhpm0Dw925"
   },
   "outputs": [],
   "source": [
    "testing_generator.reset()# Required so test image predictions are matched with actual values\n",
    "Y_pred = model1.predict_generator(testing_generator)\n",
    "\n",
    "actual_results=testing_generator.classes"
   ]
  },
  {
   "cell_type": "code",
   "execution_count": 0,
   "metadata": {
    "colab": {
     "base_uri": "https://localhost:8080/",
     "height": 136
    },
    "colab_type": "code",
    "id": "jZeW3M-br4qD",
    "outputId": "3cf56f5a-b440-4db8-ebbf-910763b295a5"
   },
   "outputs": [
    {
     "name": "stdout",
     "output_type": "stream",
     "text": [
      "Total processes images are 142\n",
      "63 14 57 8\n",
      "Accuracy is  0.5422535211267606\n",
      "Accuracy for class 1 images 0.8873239436619719\n",
      "Accuracy for class 0 images 0.19718309859154928\n",
      "Predicts class 1 a percentage of 0.8450704225352113\n",
      "Predicts class 0 a percentage of 0.15492957746478872\n"
     ]
    }
   ],
   "source": [
    "calculate_binary_accuracy(prediction=Y_pred, actual=actual_results)"
   ]
  },
  {
   "cell_type": "markdown",
   "metadata": {
    "colab_type": "text",
    "id": "21quAjcIFhTm"
   },
   "source": [
    "# ROC Curve"
   ]
  },
  {
   "cell_type": "code",
   "execution_count": 0,
   "metadata": {
    "colab": {},
    "colab_type": "code",
    "id": "ZXO_lleyr4zV"
   },
   "outputs": [],
   "source": [
    "# roc curve and auc\n",
    "from sklearn.datasets import make_classification\n",
    "from sklearn.linear_model import LogisticRegression\n",
    "from sklearn.model_selection import train_test_split\n",
    "from sklearn.metrics import roc_curve\n",
    "from sklearn.metrics import roc_auc_score\n",
    "from matplotlib import pyplot"
   ]
  },
  {
   "cell_type": "code",
   "execution_count": 0,
   "metadata": {
    "colab": {
     "base_uri": "https://localhost:8080/",
     "height": 330
    },
    "colab_type": "code",
    "id": "CyIFCL7bgxGg",
    "outputId": "90c3efbb-5018-4752-a1fb-44de28720ed6"
   },
   "outputs": [
    {
     "name": "stderr",
     "output_type": "stream",
     "text": [
      "No handles with labels found to put in legend.\n"
     ]
    },
    {
     "name": "stdout",
     "output_type": "stream",
     "text": [
      "No Skill: ROC AUC=0.500\n",
      "MLP: ROC AUC=0.676\n"
     ]
    },
    {
     "data": {
      "image/png": "[encoded data removed]",
      "text/plain": [
       "<Figure size 432x288 with 1 Axes>"
      ]
     },
     "metadata": {
      "tags": []
     },
     "output_type": "display_data"
    }
   ],
   "source": [
    "# ROC AUC\n",
    "model_auc = roc_auc_score(testing_generator.classes, Y_pred)\n",
    "print('Inception V3: ROC AUC', model_auc)\n",
    "\n",
    "# Print ROC Curves\n",
    "dividing_line_probs = [0 for x in range(len(testing_generator.classes))]\n",
    "dividing_line_false_positive_rate, dividing_line_true_positive_rate, none = roc_curve(testing_generator.classes, dividing_line_probs)\n",
    "model_false_positive_rate, model_true_positive_rate, none = roc_curve(testing_generator.classes, Y_pred)\n",
    "pyplot.plot(dividing_line_false_positive_rate, dividing_line_true_positive_rate, linestyle='--')\n",
    "pyplot.plot(model_false_positive_rate, model_true_positive_rate, marker='.')\n",
    "\n",
    "pyplot.title(roc_title)\n",
    "pyplot.xlabel('False Positive Rate')\n",
    "pyplot.ylabel('True Positive Rate')\n",
    "pyplot.legend()\n",
    "pyplot.show()"
   ]
  }
 ],
 "metadata": {
  "accelerator": "GPU",
  "colab": {
   "collapsed_sections": [],
   "name": "Multi-Layer Perceptron.ipynb",
   "provenance": []
  },
  "kernelspec": {
   "display_name": "Python 3",
   "language": "python",
   "name": "python3"
  },
  "language_info": {
   "codemirror_mode": {
    "name": "ipython",
    "version": 3
   },
   "file_extension": ".py",
   "mimetype": "text/x-python",
   "name": "python",
   "nbconvert_exporter": "python",
   "pygments_lexer": "ipython3",
   "version": "3.7.3"
  }
 },
 "nbformat": 4,
 "nbformat_minor": 1
}
